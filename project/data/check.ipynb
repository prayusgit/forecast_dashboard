{
 "cells": [
  {
   "cell_type": "code",
   "execution_count": 40,
   "id": "7719717e",
   "metadata": {},
   "outputs": [],
   "source": [
    "import pandas as pd"
   ]
  },
  {
   "cell_type": "code",
   "execution_count": 41,
   "id": "0b5e276b",
   "metadata": {},
   "outputs": [],
   "source": [
    "df = pd.read_csv('synthetic_data_v2.csv')"
   ]
  },
  {
   "cell_type": "code",
   "execution_count": 42,
   "id": "cb546d57",
   "metadata": {},
   "outputs": [
    {
     "data": {
      "text/html": [
       "<div>\n",
       "<style scoped>\n",
       "    .dataframe tbody tr th:only-of-type {\n",
       "        vertical-align: middle;\n",
       "    }\n",
       "\n",
       "    .dataframe tbody tr th {\n",
       "        vertical-align: top;\n",
       "    }\n",
       "\n",
       "    .dataframe thead th {\n",
       "        text-align: right;\n",
       "    }\n",
       "</style>\n",
       "<table border=\"1\" class=\"dataframe\">\n",
       "  <thead>\n",
       "    <tr style=\"text-align: right;\">\n",
       "      <th></th>\n",
       "      <th>transaction_date</th>\n",
       "      <th>category</th>\n",
       "      <th>product</th>\n",
       "      <th>amount</th>\n",
       "      <th>is_festival</th>\n",
       "      <th>event_name</th>\n",
       "      <th>is_holiday</th>\n",
       "    </tr>\n",
       "  </thead>\n",
       "  <tbody>\n",
       "    <tr>\n",
       "      <th>0</th>\n",
       "      <td>1/1/2022</td>\n",
       "      <td>topup</td>\n",
       "      <td>smartcell_topup</td>\n",
       "      <td>7490.03</td>\n",
       "      <td>True</td>\n",
       "      <td>New Year English</td>\n",
       "      <td>True</td>\n",
       "    </tr>\n",
       "    <tr>\n",
       "      <th>1</th>\n",
       "      <td>1/1/2022</td>\n",
       "      <td>insurance</td>\n",
       "      <td>insurance_payment</td>\n",
       "      <td>8769.24</td>\n",
       "      <td>True</td>\n",
       "      <td>New Year English</td>\n",
       "      <td>True</td>\n",
       "    </tr>\n",
       "    <tr>\n",
       "      <th>2</th>\n",
       "      <td>1/1/2022</td>\n",
       "      <td>bank_transaction</td>\n",
       "      <td>bank_deposit</td>\n",
       "      <td>4631.36</td>\n",
       "      <td>True</td>\n",
       "      <td>New Year English</td>\n",
       "      <td>True</td>\n",
       "    </tr>\n",
       "    <tr>\n",
       "      <th>3</th>\n",
       "      <td>1/1/2022</td>\n",
       "      <td>education</td>\n",
       "      <td>school_fee</td>\n",
       "      <td>6309.34</td>\n",
       "      <td>True</td>\n",
       "      <td>New Year English</td>\n",
       "      <td>True</td>\n",
       "    </tr>\n",
       "    <tr>\n",
       "      <th>4</th>\n",
       "      <td>1/1/2022</td>\n",
       "      <td>insurance</td>\n",
       "      <td>insurance_payment</td>\n",
       "      <td>4842.33</td>\n",
       "      <td>True</td>\n",
       "      <td>New Year English</td>\n",
       "      <td>True</td>\n",
       "    </tr>\n",
       "  </tbody>\n",
       "</table>\n",
       "</div>"
      ],
      "text/plain": [
       "  transaction_date          category            product   amount  is_festival  \\\n",
       "0         1/1/2022             topup    smartcell_topup  7490.03         True   \n",
       "1         1/1/2022         insurance  insurance_payment  8769.24         True   \n",
       "2         1/1/2022  bank_transaction       bank_deposit  4631.36         True   \n",
       "3         1/1/2022         education         school_fee  6309.34         True   \n",
       "4         1/1/2022         insurance  insurance_payment  4842.33         True   \n",
       "\n",
       "         event_name  is_holiday  \n",
       "0  New Year English        True  \n",
       "1  New Year English        True  \n",
       "2  New Year English        True  \n",
       "3  New Year English        True  \n",
       "4  New Year English        True  "
      ]
     },
     "execution_count": 42,
     "metadata": {},
     "output_type": "execute_result"
    }
   ],
   "source": [
    "df.head()"
   ]
  },
  {
   "cell_type": "code",
   "execution_count": 43,
   "id": "e26d4990",
   "metadata": {},
   "outputs": [],
   "source": [
    "df['transaction_date'] = pd.to_datetime(df['transaction_date'])\n",
    "df.sort_values(by='transaction_date', inplace=True)"
   ]
  },
  {
   "cell_type": "code",
   "execution_count": 44,
   "id": "6966ca68",
   "metadata": {},
   "outputs": [
    {
     "data": {
      "text/html": [
       "<div>\n",
       "<style scoped>\n",
       "    .dataframe tbody tr th:only-of-type {\n",
       "        vertical-align: middle;\n",
       "    }\n",
       "\n",
       "    .dataframe tbody tr th {\n",
       "        vertical-align: top;\n",
       "    }\n",
       "\n",
       "    .dataframe thead th {\n",
       "        text-align: right;\n",
       "    }\n",
       "</style>\n",
       "<table border=\"1\" class=\"dataframe\">\n",
       "  <thead>\n",
       "    <tr style=\"text-align: right;\">\n",
       "      <th></th>\n",
       "      <th>transaction_date</th>\n",
       "      <th>category</th>\n",
       "      <th>product</th>\n",
       "      <th>amount</th>\n",
       "      <th>is_festival</th>\n",
       "      <th>event_name</th>\n",
       "      <th>is_holiday</th>\n",
       "    </tr>\n",
       "  </thead>\n",
       "  <tbody>\n",
       "    <tr>\n",
       "      <th>0</th>\n",
       "      <td>2022-01-01</td>\n",
       "      <td>topup</td>\n",
       "      <td>smartcell_topup</td>\n",
       "      <td>7490.03</td>\n",
       "      <td>True</td>\n",
       "      <td>New Year English</td>\n",
       "      <td>True</td>\n",
       "    </tr>\n",
       "    <tr>\n",
       "      <th>102</th>\n",
       "      <td>2022-01-01</td>\n",
       "      <td>bill_payment</td>\n",
       "      <td>electricity_bill</td>\n",
       "      <td>3473.99</td>\n",
       "      <td>True</td>\n",
       "      <td>New Year English</td>\n",
       "      <td>True</td>\n",
       "    </tr>\n",
       "    <tr>\n",
       "      <th>103</th>\n",
       "      <td>2022-01-01</td>\n",
       "      <td>bill_payment</td>\n",
       "      <td>internet_bill</td>\n",
       "      <td>1846.15</td>\n",
       "      <td>True</td>\n",
       "      <td>New Year English</td>\n",
       "      <td>True</td>\n",
       "    </tr>\n",
       "    <tr>\n",
       "      <th>104</th>\n",
       "      <td>2022-01-01</td>\n",
       "      <td>shopping</td>\n",
       "      <td>online_shopping</td>\n",
       "      <td>7516.84</td>\n",
       "      <td>True</td>\n",
       "      <td>New Year English</td>\n",
       "      <td>True</td>\n",
       "    </tr>\n",
       "    <tr>\n",
       "      <th>105</th>\n",
       "      <td>2022-01-01</td>\n",
       "      <td>government</td>\n",
       "      <td>govt_fee</td>\n",
       "      <td>5336.66</td>\n",
       "      <td>True</td>\n",
       "      <td>New Year English</td>\n",
       "      <td>True</td>\n",
       "    </tr>\n",
       "  </tbody>\n",
       "</table>\n",
       "</div>"
      ],
      "text/plain": [
       "    transaction_date      category           product   amount  is_festival  \\\n",
       "0         2022-01-01         topup   smartcell_topup  7490.03         True   \n",
       "102       2022-01-01  bill_payment  electricity_bill  3473.99         True   \n",
       "103       2022-01-01  bill_payment     internet_bill  1846.15         True   \n",
       "104       2022-01-01      shopping   online_shopping  7516.84         True   \n",
       "105       2022-01-01    government          govt_fee  5336.66         True   \n",
       "\n",
       "           event_name  is_holiday  \n",
       "0    New Year English        True  \n",
       "102  New Year English        True  \n",
       "103  New Year English        True  \n",
       "104  New Year English        True  \n",
       "105  New Year English        True  "
      ]
     },
     "execution_count": 44,
     "metadata": {},
     "output_type": "execute_result"
    }
   ],
   "source": [
    "df.head()"
   ]
  },
  {
   "cell_type": "code",
   "execution_count": 45,
   "id": "967f5957",
   "metadata": {},
   "outputs": [],
   "source": [
    "import pandas as pd\n",
    "\n",
    "# Assuming you already have your DataFrame `df`\n",
    "# Here's how to generate the dictionary\n",
    "\n",
    "category_to_products = (\n",
    "    df.groupby('category')['product']\n",
    "    .unique()\n",
    "    .apply(list)\n",
    "    .to_dict()\n",
    ")\n"
   ]
  },
  {
   "cell_type": "code",
   "execution_count": 46,
   "id": "1af9101d",
   "metadata": {},
   "outputs": [
    {
     "data": {
      "text/plain": [
       "{'bank_transaction': ['bank_deposit', 'bank_withdrawal'],\n",
       " 'bill_payment': ['electricity_bill', 'internet_bill', 'water_bill'],\n",
       " 'education': ['school_fee'],\n",
       " 'entertainment': ['movie_ticket', 'airline_ticket'],\n",
       " 'government': ['govt_fee', 'tax_payment'],\n",
       " 'insurance': ['insurance_payment'],\n",
       " 'loan': ['loan_repayment', 'credit_card_payment'],\n",
       " 'shopping': ['online_shopping', 'mobile_data_pack'],\n",
       " 'topup': ['smartcell_topup', 'ntc_topup', 'ncell_topup']}"
      ]
     },
     "execution_count": 46,
     "metadata": {},
     "output_type": "execute_result"
    }
   ],
   "source": [
    "category_to_products"
   ]
  },
  {
   "cell_type": "code",
   "execution_count": 48,
   "id": "3a6aec84",
   "metadata": {},
   "outputs": [],
   "source": [
    "from datetime import datetime\n",
    "\n",
    "today = datetime.today().date()\n",
    "\n",
    "max_date = df.transaction_date.max().date()\n",
    "\n",
    "# def translate_date(x):\n",
    "#     delta = today - max_date\n",
    "def translate_date(x):\n",
    "    delta = today - max_date\n",
    "    return x + delta\n",
    "\n",
    "df['transaction_date'] = df['transaction_date'].apply(translate_date)"
   ]
  },
  {
   "cell_type": "code",
   "execution_count": 49,
   "id": "e7cb2af4",
   "metadata": {},
   "outputs": [
    {
     "data": {
      "text/html": [
       "<div>\n",
       "<style scoped>\n",
       "    .dataframe tbody tr th:only-of-type {\n",
       "        vertical-align: middle;\n",
       "    }\n",
       "\n",
       "    .dataframe tbody tr th {\n",
       "        vertical-align: top;\n",
       "    }\n",
       "\n",
       "    .dataframe thead th {\n",
       "        text-align: right;\n",
       "    }\n",
       "</style>\n",
       "<table border=\"1\" class=\"dataframe\">\n",
       "  <thead>\n",
       "    <tr style=\"text-align: right;\">\n",
       "      <th></th>\n",
       "      <th>transaction_date</th>\n",
       "      <th>category</th>\n",
       "      <th>product</th>\n",
       "      <th>amount</th>\n",
       "      <th>is_festival</th>\n",
       "      <th>event_name</th>\n",
       "      <th>is_holiday</th>\n",
       "    </tr>\n",
       "  </thead>\n",
       "  <tbody>\n",
       "    <tr>\n",
       "      <th>0</th>\n",
       "      <td>2022-06-24</td>\n",
       "      <td>topup</td>\n",
       "      <td>smartcell_topup</td>\n",
       "      <td>7490.03</td>\n",
       "      <td>True</td>\n",
       "      <td>New Year English</td>\n",
       "      <td>True</td>\n",
       "    </tr>\n",
       "    <tr>\n",
       "      <th>102</th>\n",
       "      <td>2022-06-24</td>\n",
       "      <td>bill_payment</td>\n",
       "      <td>electricity_bill</td>\n",
       "      <td>3473.99</td>\n",
       "      <td>True</td>\n",
       "      <td>New Year English</td>\n",
       "      <td>True</td>\n",
       "    </tr>\n",
       "    <tr>\n",
       "      <th>103</th>\n",
       "      <td>2022-06-24</td>\n",
       "      <td>bill_payment</td>\n",
       "      <td>internet_bill</td>\n",
       "      <td>1846.15</td>\n",
       "      <td>True</td>\n",
       "      <td>New Year English</td>\n",
       "      <td>True</td>\n",
       "    </tr>\n",
       "    <tr>\n",
       "      <th>104</th>\n",
       "      <td>2022-06-24</td>\n",
       "      <td>shopping</td>\n",
       "      <td>online_shopping</td>\n",
       "      <td>7516.84</td>\n",
       "      <td>True</td>\n",
       "      <td>New Year English</td>\n",
       "      <td>True</td>\n",
       "    </tr>\n",
       "    <tr>\n",
       "      <th>105</th>\n",
       "      <td>2022-06-24</td>\n",
       "      <td>government</td>\n",
       "      <td>govt_fee</td>\n",
       "      <td>5336.66</td>\n",
       "      <td>True</td>\n",
       "      <td>New Year English</td>\n",
       "      <td>True</td>\n",
       "    </tr>\n",
       "  </tbody>\n",
       "</table>\n",
       "</div>"
      ],
      "text/plain": [
       "    transaction_date      category           product   amount  is_festival  \\\n",
       "0         2022-06-24         topup   smartcell_topup  7490.03         True   \n",
       "102       2022-06-24  bill_payment  electricity_bill  3473.99         True   \n",
       "103       2022-06-24  bill_payment     internet_bill  1846.15         True   \n",
       "104       2022-06-24      shopping   online_shopping  7516.84         True   \n",
       "105       2022-06-24    government          govt_fee  5336.66         True   \n",
       "\n",
       "           event_name  is_holiday  \n",
       "0    New Year English        True  \n",
       "102  New Year English        True  \n",
       "103  New Year English        True  \n",
       "104  New Year English        True  \n",
       "105  New Year English        True  "
      ]
     },
     "execution_count": 49,
     "metadata": {},
     "output_type": "execute_result"
    }
   ],
   "source": [
    "df.head()"
   ]
  },
  {
   "cell_type": "code",
   "execution_count": 50,
   "id": "dcb0f2e2",
   "metadata": {},
   "outputs": [
    {
     "data": {
      "text/plain": [
       "(92015, 7)"
      ]
     },
     "execution_count": 50,
     "metadata": {},
     "output_type": "execute_result"
    }
   ],
   "source": [
    "df.shape"
   ]
  },
  {
   "cell_type": "code",
   "execution_count": 51,
   "id": "a10b4ffd",
   "metadata": {},
   "outputs": [],
   "source": [
    "df.to_csv('synthetic_data_v3.csv', index=False)"
   ]
  },
  {
   "cell_type": "code",
   "execution_count": 67,
   "id": "18fd6f54",
   "metadata": {},
   "outputs": [],
   "source": [
    "_transaction_df = None\n",
    "def load_transaction_data(refresh=False) -> pd.DataFrame:\n",
    "    global _transaction_df\n",
    "\n",
    "    if _transaction_df is None or refresh:\n",
    "        df = pd.read_csv(\"synthetic_data_v3.csv\")  # or query DB\n",
    "        df['transaction_date'] = pd.to_datetime(df['transaction_date'], dayfirst=True)\n",
    "        df['category'] = df['category'].astype(str)\n",
    "        df['product'] = df['product'].astype(str)\n",
    "        _transaction_df = df\n",
    "\n",
    "    return _transaction_df.copy()\n",
    "\n",
    "\n",
    "def get_transaction_summary(start_date: datetime, end_date: datetime, group_by='category'):\n",
    "    df = load_transaction_data()\n",
    "    df = df[df['transaction_date'].between(start_date, end_date)]\n",
    "    summary = df.groupby([\"transaction_date\", \"category\"]).agg(\n",
    "        transaction_count=(\"amount\", \"count\"),\n",
    "        transaction_amount=(\"amount\", \"sum\")\n",
    "    ).reset_index()\n",
    "    return summary"
   ]
  },
  {
   "cell_type": "code",
   "execution_count": null,
   "id": "49ab7265",
   "metadata": {},
   "outputs": [],
   "source": [
    "get_transaction_summary"
   ]
  },
  {
   "cell_type": "code",
   "execution_count": 68,
   "id": "b749dc2a",
   "metadata": {},
   "outputs": [
    {
     "name": "stderr",
     "output_type": "stream",
     "text": [
      "C:\\Users\\JARVIS\\AppData\\Local\\Temp\\ipykernel_4892\\4144397557.py:7: UserWarning: Parsing dates in %Y-%m-%d format when dayfirst=True was specified. Pass `dayfirst=False` or specify a format to silence this warning.\n",
      "  df['transaction_date'] = pd.to_datetime(df['transaction_date'], dayfirst=True)\n"
     ]
    },
    {
     "data": {
      "text/html": [
       "<div>\n",
       "<style scoped>\n",
       "    .dataframe tbody tr th:only-of-type {\n",
       "        vertical-align: middle;\n",
       "    }\n",
       "\n",
       "    .dataframe tbody tr th {\n",
       "        vertical-align: top;\n",
       "    }\n",
       "\n",
       "    .dataframe thead th {\n",
       "        text-align: right;\n",
       "    }\n",
       "</style>\n",
       "<table border=\"1\" class=\"dataframe\">\n",
       "  <thead>\n",
       "    <tr style=\"text-align: right;\">\n",
       "      <th></th>\n",
       "      <th>transaction_date</th>\n",
       "      <th>category</th>\n",
       "      <th>transaction_count</th>\n",
       "      <th>transaction_amount</th>\n",
       "    </tr>\n",
       "  </thead>\n",
       "  <tbody>\n",
       "    <tr>\n",
       "      <th>0</th>\n",
       "      <td>2025-05-25</td>\n",
       "      <td>bank_transaction</td>\n",
       "      <td>9</td>\n",
       "      <td>17937.83</td>\n",
       "    </tr>\n",
       "    <tr>\n",
       "      <th>1</th>\n",
       "      <td>2025-05-25</td>\n",
       "      <td>bill_payment</td>\n",
       "      <td>10</td>\n",
       "      <td>27398.39</td>\n",
       "    </tr>\n",
       "    <tr>\n",
       "      <th>2</th>\n",
       "      <td>2025-05-25</td>\n",
       "      <td>education</td>\n",
       "      <td>6</td>\n",
       "      <td>10231.13</td>\n",
       "    </tr>\n",
       "    <tr>\n",
       "      <th>3</th>\n",
       "      <td>2025-05-25</td>\n",
       "      <td>entertainment</td>\n",
       "      <td>7</td>\n",
       "      <td>20678.19</td>\n",
       "    </tr>\n",
       "    <tr>\n",
       "      <th>4</th>\n",
       "      <td>2025-05-25</td>\n",
       "      <td>government</td>\n",
       "      <td>6</td>\n",
       "      <td>16483.49</td>\n",
       "    </tr>\n",
       "    <tr>\n",
       "      <th>...</th>\n",
       "      <td>...</td>\n",
       "      <td>...</td>\n",
       "      <td>...</td>\n",
       "      <td>...</td>\n",
       "    </tr>\n",
       "    <tr>\n",
       "      <th>264</th>\n",
       "      <td>2025-06-23</td>\n",
       "      <td>government</td>\n",
       "      <td>16</td>\n",
       "      <td>75076.44</td>\n",
       "    </tr>\n",
       "    <tr>\n",
       "      <th>265</th>\n",
       "      <td>2025-06-23</td>\n",
       "      <td>insurance</td>\n",
       "      <td>15</td>\n",
       "      <td>72166.39</td>\n",
       "    </tr>\n",
       "    <tr>\n",
       "      <th>266</th>\n",
       "      <td>2025-06-23</td>\n",
       "      <td>loan</td>\n",
       "      <td>45</td>\n",
       "      <td>195617.66</td>\n",
       "    </tr>\n",
       "    <tr>\n",
       "      <th>267</th>\n",
       "      <td>2025-06-23</td>\n",
       "      <td>shopping</td>\n",
       "      <td>36</td>\n",
       "      <td>180697.83</td>\n",
       "    </tr>\n",
       "    <tr>\n",
       "      <th>268</th>\n",
       "      <td>2025-06-23</td>\n",
       "      <td>topup</td>\n",
       "      <td>48</td>\n",
       "      <td>229633.13</td>\n",
       "    </tr>\n",
       "  </tbody>\n",
       "</table>\n",
       "<p>269 rows × 4 columns</p>\n",
       "</div>"
      ],
      "text/plain": [
       "    transaction_date          category  transaction_count  transaction_amount\n",
       "0         2025-05-25  bank_transaction                  9            17937.83\n",
       "1         2025-05-25      bill_payment                 10            27398.39\n",
       "2         2025-05-25         education                  6            10231.13\n",
       "3         2025-05-25     entertainment                  7            20678.19\n",
       "4         2025-05-25        government                  6            16483.49\n",
       "..               ...               ...                ...                 ...\n",
       "264       2025-06-23        government                 16            75076.44\n",
       "265       2025-06-23         insurance                 15            72166.39\n",
       "266       2025-06-23              loan                 45           195617.66\n",
       "267       2025-06-23          shopping                 36           180697.83\n",
       "268       2025-06-23             topup                 48           229633.13\n",
       "\n",
       "[269 rows x 4 columns]"
      ]
     },
     "execution_count": 68,
     "metadata": {},
     "output_type": "execute_result"
    }
   ],
   "source": [
    "from datetime import timedelta\n",
    "\n",
    "today = datetime.today()\n",
    "start_date = today - timedelta(days=30)\n",
    "\n",
    "get_transaction_summary(start_date, today)"
   ]
  },
  {
   "cell_type": "code",
   "execution_count": 69,
   "id": "f622bfab",
   "metadata": {},
   "outputs": [],
   "source": [
    "def past_30_days_data(group_by='category'):\n",
    "    today = datetime.today()\n",
    "    start_date = today - timedelta(days=30)\n",
    "    end_date = today\n",
    "    df = load_transaction_data()\n",
    "    df = df[df['transaction_date'].between(start_date, end_date)]\n",
    "    summary = df.groupby([\"transaction_date\", \"category\"]).agg(\n",
    "        transaction_count=(\"amount\", \"count\"),\n",
    "        transaction_amount=(\"amount\", \"sum\")\n",
    "    ).reset_index()\n",
    "    return summary"
   ]
  },
  {
   "cell_type": "code",
   "execution_count": 73,
   "id": "02e728fe",
   "metadata": {},
   "outputs": [
    {
     "data": {
      "text/plain": [
       "<DatetimeArray>\n",
       "['2025-05-25 00:00:00', '2025-05-26 00:00:00', '2025-05-27 00:00:00',\n",
       " '2025-05-28 00:00:00', '2025-05-29 00:00:00', '2025-05-30 00:00:00',\n",
       " '2025-05-31 00:00:00', '2025-06-01 00:00:00', '2025-06-02 00:00:00',\n",
       " '2025-06-03 00:00:00', '2025-06-04 00:00:00', '2025-06-05 00:00:00',\n",
       " '2025-06-06 00:00:00', '2025-06-07 00:00:00', '2025-06-08 00:00:00',\n",
       " '2025-06-09 00:00:00', '2025-06-10 00:00:00', '2025-06-11 00:00:00',\n",
       " '2025-06-12 00:00:00', '2025-06-13 00:00:00', '2025-06-14 00:00:00',\n",
       " '2025-06-15 00:00:00', '2025-06-16 00:00:00', '2025-06-17 00:00:00',\n",
       " '2025-06-18 00:00:00', '2025-06-19 00:00:00', '2025-06-20 00:00:00',\n",
       " '2025-06-21 00:00:00', '2025-06-22 00:00:00', '2025-06-23 00:00:00']\n",
       "Length: 30, dtype: datetime64[ns]"
      ]
     },
     "execution_count": 73,
     "metadata": {},
     "output_type": "execute_result"
    }
   ],
   "source": [
    "past_30_days_data().transaction_date.unique()"
   ]
  },
  {
   "cell_type": "code",
   "execution_count": 79,
   "id": "26aaac6b",
   "metadata": {},
   "outputs": [
    {
     "name": "stdout",
     "output_type": "stream",
     "text": [
      "{'wow_growth_list': 'nice'}\n"
     ]
    },
    {
     "ename": "ValueError",
     "evalue": "Shape of passed values is (1, 1), indices imply (1, 3)",
     "output_type": "error",
     "traceback": [
      "\u001b[1;31m---------------------------------------------------------------------------\u001b[0m",
      "\u001b[1;31mValueError\u001b[0m                                Traceback (most recent call last)",
      "Cell \u001b[1;32mIn[79], line 5\u001b[0m\n\u001b[0;32m      3\u001b[0m response \u001b[38;5;241m=\u001b[39m requests\u001b[38;5;241m.\u001b[39mpost(\u001b[38;5;124m'\u001b[39m\u001b[38;5;124mhttp://127.0.0.1:8000/api/category/wow-growth\u001b[39m\u001b[38;5;124m'\u001b[39m, json\u001b[38;5;241m=\u001b[39m{\u001b[38;5;124m'\u001b[39m\u001b[38;5;124mreq_categories\u001b[39m\u001b[38;5;124m'\u001b[39m:[\u001b[38;5;124m'\u001b[39m\u001b[38;5;124mtopup\u001b[39m\u001b[38;5;124m'\u001b[39m]})\n\u001b[0;32m      4\u001b[0m \u001b[38;5;28mprint\u001b[39m(response\u001b[38;5;241m.\u001b[39mjson())\n\u001b[1;32m----> 5\u001b[0m df \u001b[38;5;241m=\u001b[39m \u001b[43mpd\u001b[49m\u001b[38;5;241;43m.\u001b[39;49m\u001b[43mDataFrame\u001b[49m\u001b[43m(\u001b[49m\u001b[43mresponse\u001b[49m\u001b[43m,\u001b[49m\u001b[43m \u001b[49m\u001b[43mcolumns\u001b[49m\u001b[38;5;241;43m=\u001b[39;49m\u001b[43m[\u001b[49m\u001b[38;5;124;43m\"\u001b[39;49m\u001b[38;5;124;43mCategory\u001b[39;49m\u001b[38;5;124;43m\"\u001b[39;49m\u001b[43m,\u001b[49m\u001b[43m \u001b[49m\u001b[38;5;124;43m\"\u001b[39;49m\u001b[38;5;124;43mWeek Forecast (Rs)\u001b[39;49m\u001b[38;5;124;43m\"\u001b[39;49m\u001b[43m,\u001b[49m\u001b[43m \u001b[49m\u001b[38;5;124;43m\"\u001b[39;49m\u001b[38;5;124;43mWoW Growth (\u001b[39;49m\u001b[38;5;124;43m%\u001b[39;49m\u001b[38;5;124;43m)\u001b[39;49m\u001b[38;5;124;43m\"\u001b[39;49m\u001b[43m]\u001b[49m\u001b[43m)\u001b[49m\n\u001b[0;32m      6\u001b[0m \u001b[38;5;28mprint\u001b[39m(df)\n",
      "File \u001b[1;32mc:\\Users\\JARVIS\\anaconda3\\envs\\env_torch\\Lib\\site-packages\\pandas\\core\\frame.py:867\u001b[0m, in \u001b[0;36mDataFrame.__init__\u001b[1;34m(self, data, index, columns, dtype, copy)\u001b[0m\n\u001b[0;32m    859\u001b[0m         mgr \u001b[38;5;241m=\u001b[39m arrays_to_mgr(\n\u001b[0;32m    860\u001b[0m             arrays,\n\u001b[0;32m    861\u001b[0m             columns,\n\u001b[1;32m   (...)\u001b[0m\n\u001b[0;32m    864\u001b[0m             typ\u001b[38;5;241m=\u001b[39mmanager,\n\u001b[0;32m    865\u001b[0m         )\n\u001b[0;32m    866\u001b[0m     \u001b[38;5;28;01melse\u001b[39;00m:\n\u001b[1;32m--> 867\u001b[0m         mgr \u001b[38;5;241m=\u001b[39m \u001b[43mndarray_to_mgr\u001b[49m\u001b[43m(\u001b[49m\n\u001b[0;32m    868\u001b[0m \u001b[43m            \u001b[49m\u001b[43mdata\u001b[49m\u001b[43m,\u001b[49m\n\u001b[0;32m    869\u001b[0m \u001b[43m            \u001b[49m\u001b[43mindex\u001b[49m\u001b[43m,\u001b[49m\n\u001b[0;32m    870\u001b[0m \u001b[43m            \u001b[49m\u001b[43mcolumns\u001b[49m\u001b[43m,\u001b[49m\n\u001b[0;32m    871\u001b[0m \u001b[43m            \u001b[49m\u001b[43mdtype\u001b[49m\u001b[38;5;241;43m=\u001b[39;49m\u001b[43mdtype\u001b[49m\u001b[43m,\u001b[49m\n\u001b[0;32m    872\u001b[0m \u001b[43m            \u001b[49m\u001b[43mcopy\u001b[49m\u001b[38;5;241;43m=\u001b[39;49m\u001b[43mcopy\u001b[49m\u001b[43m,\u001b[49m\n\u001b[0;32m    873\u001b[0m \u001b[43m            \u001b[49m\u001b[43mtyp\u001b[49m\u001b[38;5;241;43m=\u001b[39;49m\u001b[43mmanager\u001b[49m\u001b[43m,\u001b[49m\n\u001b[0;32m    874\u001b[0m \u001b[43m        \u001b[49m\u001b[43m)\u001b[49m\n\u001b[0;32m    875\u001b[0m \u001b[38;5;28;01melse\u001b[39;00m:\n\u001b[0;32m    876\u001b[0m     mgr \u001b[38;5;241m=\u001b[39m dict_to_mgr(\n\u001b[0;32m    877\u001b[0m         {},\n\u001b[0;32m    878\u001b[0m         index,\n\u001b[1;32m   (...)\u001b[0m\n\u001b[0;32m    881\u001b[0m         typ\u001b[38;5;241m=\u001b[39mmanager,\n\u001b[0;32m    882\u001b[0m     )\n",
      "File \u001b[1;32mc:\\Users\\JARVIS\\anaconda3\\envs\\env_torch\\Lib\\site-packages\\pandas\\core\\internals\\construction.py:336\u001b[0m, in \u001b[0;36mndarray_to_mgr\u001b[1;34m(values, index, columns, dtype, copy, typ)\u001b[0m\n\u001b[0;32m    331\u001b[0m \u001b[38;5;66;03m# _prep_ndarraylike ensures that values.ndim == 2 at this point\u001b[39;00m\n\u001b[0;32m    332\u001b[0m index, columns \u001b[38;5;241m=\u001b[39m _get_axes(\n\u001b[0;32m    333\u001b[0m     values\u001b[38;5;241m.\u001b[39mshape[\u001b[38;5;241m0\u001b[39m], values\u001b[38;5;241m.\u001b[39mshape[\u001b[38;5;241m1\u001b[39m], index\u001b[38;5;241m=\u001b[39mindex, columns\u001b[38;5;241m=\u001b[39mcolumns\n\u001b[0;32m    334\u001b[0m )\n\u001b[1;32m--> 336\u001b[0m \u001b[43m_check_values_indices_shape_match\u001b[49m\u001b[43m(\u001b[49m\u001b[43mvalues\u001b[49m\u001b[43m,\u001b[49m\u001b[43m \u001b[49m\u001b[43mindex\u001b[49m\u001b[43m,\u001b[49m\u001b[43m \u001b[49m\u001b[43mcolumns\u001b[49m\u001b[43m)\u001b[49m\n\u001b[0;32m    338\u001b[0m \u001b[38;5;28;01mif\u001b[39;00m typ \u001b[38;5;241m==\u001b[39m \u001b[38;5;124m\"\u001b[39m\u001b[38;5;124marray\u001b[39m\u001b[38;5;124m\"\u001b[39m:\n\u001b[0;32m    339\u001b[0m     \u001b[38;5;28;01mif\u001b[39;00m \u001b[38;5;28missubclass\u001b[39m(values\u001b[38;5;241m.\u001b[39mdtype\u001b[38;5;241m.\u001b[39mtype, \u001b[38;5;28mstr\u001b[39m):\n",
      "File \u001b[1;32mc:\\Users\\JARVIS\\anaconda3\\envs\\env_torch\\Lib\\site-packages\\pandas\\core\\internals\\construction.py:420\u001b[0m, in \u001b[0;36m_check_values_indices_shape_match\u001b[1;34m(values, index, columns)\u001b[0m\n\u001b[0;32m    418\u001b[0m passed \u001b[38;5;241m=\u001b[39m values\u001b[38;5;241m.\u001b[39mshape\n\u001b[0;32m    419\u001b[0m implied \u001b[38;5;241m=\u001b[39m (\u001b[38;5;28mlen\u001b[39m(index), \u001b[38;5;28mlen\u001b[39m(columns))\n\u001b[1;32m--> 420\u001b[0m \u001b[38;5;28;01mraise\u001b[39;00m \u001b[38;5;167;01mValueError\u001b[39;00m(\u001b[38;5;124mf\u001b[39m\u001b[38;5;124m\"\u001b[39m\u001b[38;5;124mShape of passed values is \u001b[39m\u001b[38;5;132;01m{\u001b[39;00mpassed\u001b[38;5;132;01m}\u001b[39;00m\u001b[38;5;124m, indices imply \u001b[39m\u001b[38;5;132;01m{\u001b[39;00mimplied\u001b[38;5;132;01m}\u001b[39;00m\u001b[38;5;124m\"\u001b[39m)\n",
      "\u001b[1;31mValueError\u001b[0m: Shape of passed values is (1, 1), indices imply (1, 3)"
     ]
    }
   ],
   "source": [
    "import requests\n",
    "\n",
    "response = requests.post('http://127.0.0.1:8000/api/category/wow-growth', json={'req_categories':['topup']})\n",
    "print(response.json())\n",
    "df = pd.DataFrame(response, columns=[\"Category\", \"Week Forecast (Rs)\", \"WoW Growth (%)\"])\n",
    "print(df)"
   ]
  }
 ],
 "metadata": {
  "kernelspec": {
   "display_name": "env_torch",
   "language": "python",
   "name": "python3"
  },
  "language_info": {
   "codemirror_mode": {
    "name": "ipython",
    "version": 3
   },
   "file_extension": ".py",
   "mimetype": "text/x-python",
   "name": "python",
   "nbconvert_exporter": "python",
   "pygments_lexer": "ipython3",
   "version": "3.12.3"
  }
 },
 "nbformat": 4,
 "nbformat_minor": 5
}

{
 "cells": [
  {
   "cell_type": "code",
   "execution_count": 51,
   "id": "7719717e",
   "metadata": {},
   "outputs": [],
   "source": [
    "import pandas as pd"
   ]
  },
  {
   "cell_type": "code",
   "execution_count": 52,
   "id": "0b5e276b",
   "metadata": {},
   "outputs": [],
   "source": [
    "df = pd.read_csv('synthetic_data_v2.csv')"
   ]
  },
  {
   "cell_type": "code",
   "execution_count": 53,
   "id": "cb546d57",
   "metadata": {},
   "outputs": [
    {
     "data": {
      "text/html": [
       "<div>\n",
       "<style scoped>\n",
       "    .dataframe tbody tr th:only-of-type {\n",
       "        vertical-align: middle;\n",
       "    }\n",
       "\n",
       "    .dataframe tbody tr th {\n",
       "        vertical-align: top;\n",
       "    }\n",
       "\n",
       "    .dataframe thead th {\n",
       "        text-align: right;\n",
       "    }\n",
       "</style>\n",
       "<table border=\"1\" class=\"dataframe\">\n",
       "  <thead>\n",
       "    <tr style=\"text-align: right;\">\n",
       "      <th></th>\n",
       "      <th>transaction_date</th>\n",
       "      <th>category</th>\n",
       "      <th>product</th>\n",
       "      <th>amount</th>\n",
       "      <th>is_festival</th>\n",
       "      <th>event_name</th>\n",
       "      <th>is_holiday</th>\n",
       "    </tr>\n",
       "  </thead>\n",
       "  <tbody>\n",
       "    <tr>\n",
       "      <th>0</th>\n",
       "      <td>1/1/2022</td>\n",
       "      <td>topup</td>\n",
       "      <td>smartcell_topup</td>\n",
       "      <td>7490.03</td>\n",
       "      <td>True</td>\n",
       "      <td>New Year English</td>\n",
       "      <td>True</td>\n",
       "    </tr>\n",
       "    <tr>\n",
       "      <th>1</th>\n",
       "      <td>1/1/2022</td>\n",
       "      <td>insurance</td>\n",
       "      <td>insurance_payment</td>\n",
       "      <td>8769.24</td>\n",
       "      <td>True</td>\n",
       "      <td>New Year English</td>\n",
       "      <td>True</td>\n",
       "    </tr>\n",
       "    <tr>\n",
       "      <th>2</th>\n",
       "      <td>1/1/2022</td>\n",
       "      <td>bank_transaction</td>\n",
       "      <td>bank_deposit</td>\n",
       "      <td>4631.36</td>\n",
       "      <td>True</td>\n",
       "      <td>New Year English</td>\n",
       "      <td>True</td>\n",
       "    </tr>\n",
       "    <tr>\n",
       "      <th>3</th>\n",
       "      <td>1/1/2022</td>\n",
       "      <td>education</td>\n",
       "      <td>school_fee</td>\n",
       "      <td>6309.34</td>\n",
       "      <td>True</td>\n",
       "      <td>New Year English</td>\n",
       "      <td>True</td>\n",
       "    </tr>\n",
       "    <tr>\n",
       "      <th>4</th>\n",
       "      <td>1/1/2022</td>\n",
       "      <td>insurance</td>\n",
       "      <td>insurance_payment</td>\n",
       "      <td>4842.33</td>\n",
       "      <td>True</td>\n",
       "      <td>New Year English</td>\n",
       "      <td>True</td>\n",
       "    </tr>\n",
       "  </tbody>\n",
       "</table>\n",
       "</div>"
      ],
      "text/plain": [
       "  transaction_date          category            product   amount  is_festival  \\\n",
       "0         1/1/2022             topup    smartcell_topup  7490.03         True   \n",
       "1         1/1/2022         insurance  insurance_payment  8769.24         True   \n",
       "2         1/1/2022  bank_transaction       bank_deposit  4631.36         True   \n",
       "3         1/1/2022         education         school_fee  6309.34         True   \n",
       "4         1/1/2022         insurance  insurance_payment  4842.33         True   \n",
       "\n",
       "         event_name  is_holiday  \n",
       "0  New Year English        True  \n",
       "1  New Year English        True  \n",
       "2  New Year English        True  \n",
       "3  New Year English        True  \n",
       "4  New Year English        True  "
      ]
     },
     "execution_count": 53,
     "metadata": {},
     "output_type": "execute_result"
    }
   ],
   "source": [
    "df.head()"
   ]
  },
  {
   "cell_type": "code",
   "execution_count": 54,
   "id": "e26d4990",
   "metadata": {},
   "outputs": [],
   "source": [
    "df['transaction_date'] = pd.to_datetime(df['transaction_date'])\n",
    "df.sort_values(by='transaction_date', inplace=True)"
   ]
  },
  {
   "cell_type": "code",
   "execution_count": 55,
   "id": "6966ca68",
   "metadata": {},
   "outputs": [
    {
     "data": {
      "text/html": [
       "<div>\n",
       "<style scoped>\n",
       "    .dataframe tbody tr th:only-of-type {\n",
       "        vertical-align: middle;\n",
       "    }\n",
       "\n",
       "    .dataframe tbody tr th {\n",
       "        vertical-align: top;\n",
       "    }\n",
       "\n",
       "    .dataframe thead th {\n",
       "        text-align: right;\n",
       "    }\n",
       "</style>\n",
       "<table border=\"1\" class=\"dataframe\">\n",
       "  <thead>\n",
       "    <tr style=\"text-align: right;\">\n",
       "      <th></th>\n",
       "      <th>transaction_date</th>\n",
       "      <th>category</th>\n",
       "      <th>product</th>\n",
       "      <th>amount</th>\n",
       "      <th>is_festival</th>\n",
       "      <th>event_name</th>\n",
       "      <th>is_holiday</th>\n",
       "    </tr>\n",
       "  </thead>\n",
       "  <tbody>\n",
       "    <tr>\n",
       "      <th>0</th>\n",
       "      <td>2022-01-01</td>\n",
       "      <td>topup</td>\n",
       "      <td>smartcell_topup</td>\n",
       "      <td>7490.03</td>\n",
       "      <td>True</td>\n",
       "      <td>New Year English</td>\n",
       "      <td>True</td>\n",
       "    </tr>\n",
       "    <tr>\n",
       "      <th>102</th>\n",
       "      <td>2022-01-01</td>\n",
       "      <td>bill_payment</td>\n",
       "      <td>electricity_bill</td>\n",
       "      <td>3473.99</td>\n",
       "      <td>True</td>\n",
       "      <td>New Year English</td>\n",
       "      <td>True</td>\n",
       "    </tr>\n",
       "    <tr>\n",
       "      <th>103</th>\n",
       "      <td>2022-01-01</td>\n",
       "      <td>bill_payment</td>\n",
       "      <td>internet_bill</td>\n",
       "      <td>1846.15</td>\n",
       "      <td>True</td>\n",
       "      <td>New Year English</td>\n",
       "      <td>True</td>\n",
       "    </tr>\n",
       "    <tr>\n",
       "      <th>104</th>\n",
       "      <td>2022-01-01</td>\n",
       "      <td>shopping</td>\n",
       "      <td>online_shopping</td>\n",
       "      <td>7516.84</td>\n",
       "      <td>True</td>\n",
       "      <td>New Year English</td>\n",
       "      <td>True</td>\n",
       "    </tr>\n",
       "    <tr>\n",
       "      <th>105</th>\n",
       "      <td>2022-01-01</td>\n",
       "      <td>government</td>\n",
       "      <td>govt_fee</td>\n",
       "      <td>5336.66</td>\n",
       "      <td>True</td>\n",
       "      <td>New Year English</td>\n",
       "      <td>True</td>\n",
       "    </tr>\n",
       "  </tbody>\n",
       "</table>\n",
       "</div>"
      ],
      "text/plain": [
       "    transaction_date      category           product   amount  is_festival  \\\n",
       "0         2022-01-01         topup   smartcell_topup  7490.03         True   \n",
       "102       2022-01-01  bill_payment  electricity_bill  3473.99         True   \n",
       "103       2022-01-01  bill_payment     internet_bill  1846.15         True   \n",
       "104       2022-01-01      shopping   online_shopping  7516.84         True   \n",
       "105       2022-01-01    government          govt_fee  5336.66         True   \n",
       "\n",
       "           event_name  is_holiday  \n",
       "0    New Year English        True  \n",
       "102  New Year English        True  \n",
       "103  New Year English        True  \n",
       "104  New Year English        True  \n",
       "105  New Year English        True  "
      ]
     },
     "execution_count": 55,
     "metadata": {},
     "output_type": "execute_result"
    }
   ],
   "source": [
    "df.head()"
   ]
  },
  {
   "cell_type": "code",
   "execution_count": 56,
   "id": "967f5957",
   "metadata": {},
   "outputs": [],
   "source": [
    "import pandas as pd\n",
    "\n",
    "# Assuming you already have your DataFrame `df`\n",
    "# Here's how to generate the dictionary\n",
    "\n",
    "category_to_products = (\n",
    "    df.groupby('category')['product']\n",
    "    .unique()\n",
    "    .apply(list)\n",
    "    .to_dict()\n",
    ")\n"
   ]
  },
  {
   "cell_type": "code",
   "execution_count": 57,
   "id": "1af9101d",
   "metadata": {},
   "outputs": [
    {
     "data": {
      "text/plain": [
       "{'bank_transaction': ['bank_deposit', 'bank_withdrawal'],\n",
       " 'bill_payment': ['electricity_bill', 'internet_bill', 'water_bill'],\n",
       " 'education': ['school_fee'],\n",
       " 'entertainment': ['movie_ticket', 'airline_ticket'],\n",
       " 'government': ['govt_fee', 'tax_payment'],\n",
       " 'insurance': ['insurance_payment'],\n",
       " 'loan': ['loan_repayment', 'credit_card_payment'],\n",
       " 'shopping': ['online_shopping', 'mobile_data_pack'],\n",
       " 'topup': ['smartcell_topup', 'ntc_topup', 'ncell_topup']}"
      ]
     },
     "execution_count": 57,
     "metadata": {},
     "output_type": "execute_result"
    }
   ],
   "source": [
    "category_to_products"
   ]
  },
  {
   "cell_type": "code",
   "execution_count": null,
   "id": "3a6aec84",
   "metadata": {},
   "outputs": [],
   "source": [
    "from datetime import datetime, ti\n",
    "\n",
    "today = datetime.today().date()\n",
    "\n",
    "max_date = df.transaction_date.max().date()\n",
    "\n",
    "# def translate_date(x):\n",
    "#     delta = today - max_date\n",
    "def translate_date(x):\n",
    "    delta = today - max_date\n",
    "    return x + delta\n",
    "\n",
    "df['transaction_date'] = df['transaction_date'].apply(translate_date)"
   ]
  },
  {
   "cell_type": "code",
   "execution_count": 59,
   "id": "dcb0f2e2",
   "metadata": {},
   "outputs": [
    {
     "data": {
      "text/plain": [
       "(92015, 7)"
      ]
     },
     "execution_count": 59,
     "metadata": {},
     "output_type": "execute_result"
    }
   ],
   "source": [
    "df.shape"
   ]
  },
  {
   "cell_type": "code",
   "execution_count": 60,
   "id": "a10b4ffd",
   "metadata": {},
   "outputs": [],
   "source": [
    "df.to_csv('synthetic_data_v3.csv', index=False)"
   ]
  },
  {
   "cell_type": "code",
   "execution_count": null,
   "id": "18fd6f54",
   "metadata": {},
   "outputs": [],
   "source": [
    "_transaction_df = None\n",
    "def load_transaction_data(refresh=False) -> pd.DataFrame:\n",
    "    global _transaction_df\n",
    "\n",
    "    if _transaction_df is None or refresh:\n",
    "        df = pd.read_csv(\"synthetic_data_v3.csv\")  # or query DB\n",
    "        df['transaction_date'] = pd.to_datetime(df['transaction_date'], dayfirst=True)\n",
    "        df['category'] = df['category'].astype(str)\n",
    "        df['product'] = df['product'].astype(str)\n",
    "        _transaction_df = df\n",
    "\n",
    "    return _transaction_df.copy()\n",
    "\n",
    "\n",
    "def get_transaction_summary(start_date: datetime, end_date: datetime, group_by='category'):\n",
    "    df = load_transaction_data()\n",
    "    df = df[df['transaction_date'].between(start_date, end_date)]\n",
    "    summary = df.groupby(group_by).agg(\n",
    "        transaction_count=('amount', 'count'),\n",
    "        total_amount=('amount', 'sum')\n",
    "    ).reset_index()\n",
    "    return summary"
   ]
  },
  {
   "cell_type": "code",
   "execution_count": 66,
   "id": "b749dc2a",
   "metadata": {},
   "outputs": [
    {
     "data": {
      "text/html": [
       "<div>\n",
       "<style scoped>\n",
       "    .dataframe tbody tr th:only-of-type {\n",
       "        vertical-align: middle;\n",
       "    }\n",
       "\n",
       "    .dataframe tbody tr th {\n",
       "        vertical-align: top;\n",
       "    }\n",
       "\n",
       "    .dataframe thead th {\n",
       "        text-align: right;\n",
       "    }\n",
       "</style>\n",
       "<table border=\"1\" class=\"dataframe\">\n",
       "  <thead>\n",
       "    <tr style=\"text-align: right;\">\n",
       "      <th></th>\n",
       "      <th>category</th>\n",
       "      <th>transaction_count</th>\n",
       "      <th>total_amount</th>\n",
       "    </tr>\n",
       "  </thead>\n",
       "  <tbody>\n",
       "    <tr>\n",
       "      <th>0</th>\n",
       "      <td>bank_transaction</td>\n",
       "      <td>324</td>\n",
       "      <td>965964.49</td>\n",
       "    </tr>\n",
       "    <tr>\n",
       "      <th>1</th>\n",
       "      <td>bill_payment</td>\n",
       "      <td>394</td>\n",
       "      <td>1149990.12</td>\n",
       "    </tr>\n",
       "    <tr>\n",
       "      <th>2</th>\n",
       "      <td>education</td>\n",
       "      <td>212</td>\n",
       "      <td>599234.14</td>\n",
       "    </tr>\n",
       "    <tr>\n",
       "      <th>3</th>\n",
       "      <td>entertainment</td>\n",
       "      <td>146</td>\n",
       "      <td>457096.21</td>\n",
       "    </tr>\n",
       "    <tr>\n",
       "      <th>4</th>\n",
       "      <td>government</td>\n",
       "      <td>137</td>\n",
       "      <td>416676.53</td>\n",
       "    </tr>\n",
       "    <tr>\n",
       "      <th>5</th>\n",
       "      <td>insurance</td>\n",
       "      <td>163</td>\n",
       "      <td>451255.73</td>\n",
       "    </tr>\n",
       "    <tr>\n",
       "      <th>6</th>\n",
       "      <td>loan</td>\n",
       "      <td>281</td>\n",
       "      <td>804348.95</td>\n",
       "    </tr>\n",
       "    <tr>\n",
       "      <th>7</th>\n",
       "      <td>shopping</td>\n",
       "      <td>377</td>\n",
       "      <td>1089474.12</td>\n",
       "    </tr>\n",
       "    <tr>\n",
       "      <th>8</th>\n",
       "      <td>topup</td>\n",
       "      <td>493</td>\n",
       "      <td>1438863.59</td>\n",
       "    </tr>\n",
       "  </tbody>\n",
       "</table>\n",
       "</div>"
      ],
      "text/plain": [
       "           category  transaction_count  total_amount\n",
       "0  bank_transaction                324     965964.49\n",
       "1      bill_payment                394    1149990.12\n",
       "2         education                212     599234.14\n",
       "3     entertainment                146     457096.21\n",
       "4        government                137     416676.53\n",
       "5         insurance                163     451255.73\n",
       "6              loan                281     804348.95\n",
       "7          shopping                377    1089474.12\n",
       "8             topup                493    1438863.59"
      ]
     },
     "execution_count": 66,
     "metadata": {},
     "output_type": "execute_result"
    }
   ],
   "source": [
    "from datetime import timedelta\n",
    "\n",
    "today = datetime.today()\n",
    "start_date = today - timedelta(days=30)\n",
    "\n",
    "get_transaction_summary(start_date, today)"
   ]
  }
 ],
 "metadata": {
  "kernelspec": {
   "display_name": "env_torch",
   "language": "python",
   "name": "python3"
  },
  "language_info": {
   "codemirror_mode": {
    "name": "ipython",
    "version": 3
   },
   "file_extension": ".py",
   "mimetype": "text/x-python",
   "name": "python",
   "nbconvert_exporter": "python",
   "pygments_lexer": "ipython3",
   "version": "3.12.3"
  }
 },
 "nbformat": 4,
 "nbformat_minor": 5
}

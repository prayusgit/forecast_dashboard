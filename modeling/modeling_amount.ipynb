{
 "cells": [
  {
   "cell_type": "code",
   "execution_count": 516,
   "id": "85a02c2c",
   "metadata": {},
   "outputs": [],
   "source": [
    "import numpy as numpy\n",
    "import pandas as pd\n",
    "import matplotlib.pyplot as plt\n",
    "import seaborn as sns"
   ]
  },
  {
   "cell_type": "code",
   "execution_count": 517,
   "id": "60fa7dc7",
   "metadata": {},
   "outputs": [],
   "source": [
    "df = pd.read_csv('synthetic_data_v3.csv')"
   ]
  },
  {
   "cell_type": "markdown",
   "id": "8b39f2ef",
   "metadata": {},
   "source": [
    "# 1. Structuring the data"
   ]
  },
  {
   "cell_type": "code",
   "execution_count": 518,
   "id": "2e26f680",
   "metadata": {},
   "outputs": [
    {
     "data": {
      "text/html": [
       "<div>\n",
       "<style scoped>\n",
       "    .dataframe tbody tr th:only-of-type {\n",
       "        vertical-align: middle;\n",
       "    }\n",
       "\n",
       "    .dataframe tbody tr th {\n",
       "        vertical-align: top;\n",
       "    }\n",
       "\n",
       "    .dataframe thead th {\n",
       "        text-align: right;\n",
       "    }\n",
       "</style>\n",
       "<table border=\"1\" class=\"dataframe\">\n",
       "  <thead>\n",
       "    <tr style=\"text-align: right;\">\n",
       "      <th></th>\n",
       "      <th>transaction_date</th>\n",
       "      <th>category</th>\n",
       "      <th>product</th>\n",
       "      <th>amount</th>\n",
       "      <th>is_festival</th>\n",
       "      <th>event_name</th>\n",
       "      <th>is_holiday</th>\n",
       "    </tr>\n",
       "  </thead>\n",
       "  <tbody>\n",
       "    <tr>\n",
       "      <th>92010</th>\n",
       "      <td>2025-06-26</td>\n",
       "      <td>topup</td>\n",
       "      <td>smartcell_topup</td>\n",
       "      <td>577.79</td>\n",
       "      <td>True</td>\n",
       "      <td>New Year English</td>\n",
       "      <td>True</td>\n",
       "    </tr>\n",
       "    <tr>\n",
       "      <th>92011</th>\n",
       "      <td>2025-06-26</td>\n",
       "      <td>topup</td>\n",
       "      <td>ntc_topup</td>\n",
       "      <td>8326.71</td>\n",
       "      <td>True</td>\n",
       "      <td>New Year English</td>\n",
       "      <td>True</td>\n",
       "    </tr>\n",
       "    <tr>\n",
       "      <th>92012</th>\n",
       "      <td>2025-06-26</td>\n",
       "      <td>bill_payment</td>\n",
       "      <td>internet_bill</td>\n",
       "      <td>5243.09</td>\n",
       "      <td>True</td>\n",
       "      <td>New Year English</td>\n",
       "      <td>True</td>\n",
       "    </tr>\n",
       "    <tr>\n",
       "      <th>92013</th>\n",
       "      <td>2025-06-26</td>\n",
       "      <td>topup</td>\n",
       "      <td>ncell_topup</td>\n",
       "      <td>5247.09</td>\n",
       "      <td>True</td>\n",
       "      <td>New Year English</td>\n",
       "      <td>True</td>\n",
       "    </tr>\n",
       "    <tr>\n",
       "      <th>92014</th>\n",
       "      <td>2025-06-26</td>\n",
       "      <td>loan</td>\n",
       "      <td>loan_repayment</td>\n",
       "      <td>7100.00</td>\n",
       "      <td>True</td>\n",
       "      <td>New Year English</td>\n",
       "      <td>True</td>\n",
       "    </tr>\n",
       "  </tbody>\n",
       "</table>\n",
       "</div>"
      ],
      "text/plain": [
       "      transaction_date      category          product   amount  is_festival  \\\n",
       "92010       2025-06-26         topup  smartcell_topup   577.79         True   \n",
       "92011       2025-06-26         topup        ntc_topup  8326.71         True   \n",
       "92012       2025-06-26  bill_payment    internet_bill  5243.09         True   \n",
       "92013       2025-06-26         topup      ncell_topup  5247.09         True   \n",
       "92014       2025-06-26          loan   loan_repayment  7100.00         True   \n",
       "\n",
       "             event_name  is_holiday  \n",
       "92010  New Year English        True  \n",
       "92011  New Year English        True  \n",
       "92012  New Year English        True  \n",
       "92013  New Year English        True  \n",
       "92014  New Year English        True  "
      ]
     },
     "execution_count": 518,
     "metadata": {},
     "output_type": "execute_result"
    }
   ],
   "source": [
    "df.tail()"
   ]
  },
  {
   "cell_type": "code",
   "execution_count": 519,
   "id": "97dc2484",
   "metadata": {},
   "outputs": [
    {
     "name": "stdout",
     "output_type": "stream",
     "text": [
      "<class 'pandas.core.frame.DataFrame'>\n",
      "RangeIndex: 92015 entries, 0 to 92014\n",
      "Data columns (total 7 columns):\n",
      " #   Column            Non-Null Count  Dtype  \n",
      "---  ------            --------------  -----  \n",
      " 0   transaction_date  92015 non-null  object \n",
      " 1   category          92015 non-null  object \n",
      " 2   product           92015 non-null  object \n",
      " 3   amount            92015 non-null  float64\n",
      " 4   is_festival       92015 non-null  bool   \n",
      " 5   event_name        12517 non-null  object \n",
      " 6   is_holiday        92015 non-null  bool   \n",
      "dtypes: bool(2), float64(1), object(4)\n",
      "memory usage: 3.7+ MB\n"
     ]
    }
   ],
   "source": [
    "df.info()"
   ]
  },
  {
   "cell_type": "code",
   "execution_count": 520,
   "id": "b4502b6d",
   "metadata": {},
   "outputs": [],
   "source": [
    "df['transaction_date'] = pd.to_datetime(df['transaction_date'])"
   ]
  },
  {
   "cell_type": "code",
   "execution_count": 521,
   "id": "c285a970",
   "metadata": {},
   "outputs": [],
   "source": [
    "\n",
    "# Set full date range\n",
    "full_date_range = pd.date_range(start=df['transaction_date'].min(),\n",
    "                                end=df['transaction_date'].max())\n",
    "\n",
    "# Get all unique categories or products\n",
    "all_categories = df['category'].unique()\n",
    "\n",
    "# Create complete cartesian product of dates and categories\n",
    "complete_index = pd.MultiIndex.from_product(\n",
    "    [all_categories, full_date_range],\n",
    "    names=['category', 'transaction_date']\n",
    ")\n",
    "\n",
    "# Group & aggregate per day per category if not already\n",
    "df_daily = df.groupby(['category', 'transaction_date']) \\\n",
    "    .agg({\n",
    "            \"amount\": \"sum\",\n",
    "            \"is_festival\": \"max\",    # If any row that day is a festival, mark it as True\n",
    "            \"event_name\": \"first\",   # Just keep the first festival name (optional)\n",
    "            \"is_holiday\": \"max\"      # If any row that day is a holiday, mark it as True\n",
    "        }).reset_index()\n",
    "                                                        \n",
    "\n",
    "# Reindex to include all date-category pairs\n",
    "df_full = df_daily.set_index(['category', 'transaction_date']).reindex(complete_index)\n",
    "\n",
    "# Fill missing amount with 0\n",
    "df_full['amount'] = df_full['amount'].fillna(0)\n",
    "\n",
    "# Reset index for further processing\n",
    "aggregated_df = df_full.reset_index()\n",
    "\n"
   ]
  },
  {
   "cell_type": "code",
   "execution_count": 522,
   "id": "1b7b5383",
   "metadata": {},
   "outputs": [
    {
     "name": "stdout",
     "output_type": "stream",
     "text": [
      "<class 'pandas.core.frame.DataFrame'>\n",
      "RangeIndex: 9873 entries, 0 to 9872\n",
      "Data columns (total 6 columns):\n",
      " #   Column            Non-Null Count  Dtype         \n",
      "---  ------            --------------  -----         \n",
      " 0   category          9873 non-null   object        \n",
      " 1   transaction_date  9873 non-null   datetime64[ns]\n",
      " 2   amount            9873 non-null   float64       \n",
      " 3   is_festival       9831 non-null   object        \n",
      " 4   event_name        640 non-null    object        \n",
      " 5   is_holiday        9831 non-null   object        \n",
      "dtypes: datetime64[ns](1), float64(1), object(4)\n",
      "memory usage: 462.9+ KB\n"
     ]
    }
   ],
   "source": [
    "aggregated_df.info()"
   ]
  },
  {
   "cell_type": "code",
   "execution_count": 523,
   "id": "02c05d04",
   "metadata": {},
   "outputs": [],
   "source": [
    "aggregated_df['is_festival'] = aggregated_df['is_festival'].astype('bool')\n",
    "aggregated_df['is_holiday'] = aggregated_df['is_holiday'].astype('bool')"
   ]
  },
  {
   "cell_type": "code",
   "execution_count": 524,
   "id": "da11882f",
   "metadata": {},
   "outputs": [
    {
     "name": "stdout",
     "output_type": "stream",
     "text": [
      "<class 'pandas.core.frame.DataFrame'>\n",
      "RangeIndex: 9873 entries, 0 to 9872\n",
      "Data columns (total 6 columns):\n",
      " #   Column            Non-Null Count  Dtype         \n",
      "---  ------            --------------  -----         \n",
      " 0   category          9873 non-null   object        \n",
      " 1   transaction_date  9873 non-null   datetime64[ns]\n",
      " 2   amount            9873 non-null   float64       \n",
      " 3   is_festival       9873 non-null   bool          \n",
      " 4   event_name        640 non-null    object        \n",
      " 5   is_holiday        9873 non-null   bool          \n",
      "dtypes: bool(2), datetime64[ns](1), float64(1), object(2)\n",
      "memory usage: 327.9+ KB\n"
     ]
    }
   ],
   "source": [
    "aggregated_df.info()"
   ]
  },
  {
   "cell_type": "code",
   "execution_count": 525,
   "id": "fac60a63",
   "metadata": {},
   "outputs": [],
   "source": [
    "# aggregated_df = df.groupby([\"transaction_date\", \"category\"]).agg({\n",
    "# #     \"amount\": \"sum\",\n",
    "# #     \"is_festival\": \"max\",    # If any row that day is a festival, mark it as True\n",
    "# #     \"event_name\": \"first\",   # Just keep the first festival name (optional)\n",
    "# #     \"is_holiday\": \"max\"      # If any row that day is a holiday, mark it as True\n",
    "# # }).reset_index()# "
   ]
  },
  {
   "cell_type": "code",
   "execution_count": 526,
   "id": "7023e36f",
   "metadata": {},
   "outputs": [],
   "source": [
    "aggregated_df.rename(columns={'amount': \"transaction_amount\"}, inplace=True)"
   ]
  },
  {
   "cell_type": "code",
   "execution_count": 527,
   "id": "876588df",
   "metadata": {},
   "outputs": [],
   "source": [
    "# Step 3: Sort the result\n",
    "aggregated_df.sort_values([\"category\", \"transaction_date\"], inplace=True)"
   ]
  },
  {
   "cell_type": "code",
   "execution_count": 528,
   "id": "2e9ce6c9",
   "metadata": {},
   "outputs": [
    {
     "data": {
      "text/plain": [
       "is_festival\n",
       "False    9228\n",
       "True      645\n",
       "Name: count, dtype: int64"
      ]
     },
     "execution_count": 528,
     "metadata": {},
     "output_type": "execute_result"
    }
   ],
   "source": [
    "aggregated_df.is_festival.value_counts()"
   ]
  },
  {
   "cell_type": "code",
   "execution_count": 529,
   "id": "18c21cc8",
   "metadata": {},
   "outputs": [
    {
     "data": {
      "text/plain": [
       "(9873, 6)"
      ]
     },
     "execution_count": 529,
     "metadata": {},
     "output_type": "execute_result"
    }
   ],
   "source": [
    "aggregated_df.shape"
   ]
  },
  {
   "cell_type": "markdown",
   "id": "b2db7a5f",
   "metadata": {},
   "source": [
    "# 2. Data Profiling"
   ]
  },
  {
   "cell_type": "code",
   "execution_count": 530,
   "id": "5e04b293",
   "metadata": {},
   "outputs": [
    {
     "data": {
      "text/plain": [
       "array(['New Year English', None, 'Maghe Sankranti', \"Valentine's Day\",\n",
       "       'Shivaratri', 'Holi', 'New Year Nepali', \"Mother's Day\",\n",
       "       'Buddha Jayanti', 'Rakhshya Bandhan', 'Teej', 'Indra Jatra',\n",
       "       'Dashain Day 1', 'Dashain Day 2', 'Dashain Day 3', 'Dashain Day 4',\n",
       "       'Dashain Day 5', 'Tihar Day 1', 'Tihar Day 2', 'Tihar Day 3',\n",
       "       'Tihar Day 4', 'Chhath', 'Christmas', 'Earthquake',\n",
       "       'Recession Alert', nan], dtype=object)"
      ]
     },
     "execution_count": 530,
     "metadata": {},
     "output_type": "execute_result"
    }
   ],
   "source": [
    "aggregated_df.event_name.unique()"
   ]
  },
  {
   "cell_type": "markdown",
   "id": "d5388e0c",
   "metadata": {},
   "source": [
    "# 3. Feature Engineering"
   ]
  },
  {
   "cell_type": "code",
   "execution_count": 531,
   "id": "1933b773",
   "metadata": {},
   "outputs": [],
   "source": [
    "def classify_event(name):\n",
    "    if pd.isna(name):\n",
    "        return \"none\"\n",
    "    if name.lower() in [\"earthquake\", \"recession alert\"]:\n",
    "        return \"disaster\"\n",
    "    return \"festival\"\n",
    "\n",
    "aggregated_df[\"event_type\"] = aggregated_df[\"event_name\"].apply(classify_event)\n"
   ]
  },
  {
   "cell_type": "code",
   "execution_count": 532,
   "id": "a16db475",
   "metadata": {},
   "outputs": [
    {
     "data": {
      "text/plain": [
       "event_type\n",
       "none        9233\n",
       "festival     603\n",
       "disaster      37\n",
       "Name: count, dtype: int64"
      ]
     },
     "execution_count": 532,
     "metadata": {},
     "output_type": "execute_result"
    }
   ],
   "source": [
    "aggregated_df.event_type.value_counts()"
   ]
  },
  {
   "cell_type": "markdown",
   "id": "958ac448",
   "metadata": {},
   "source": [
    "### 3.1 Accounting for pre and post event effects"
   ]
  },
  {
   "cell_type": "code",
   "execution_count": 533,
   "id": "5b8f49f1",
   "metadata": {},
   "outputs": [],
   "source": [
    "from datetime import timedelta\n",
    "\n",
    "# Get all event dates by product\n",
    "event_dates = aggregated_df.dropna(subset=[\"event_name\"])[[\"transaction_date\", \"category\"]]\n",
    "\n",
    "# Initialize flags\n",
    "aggregated_df[\"pre_event_window\"] = False\n",
    "aggregated_df[\"post_event_window\"] = False\n",
    "\n",
    "# Loop through events to set flags\n",
    "for _, row in event_dates.iterrows():\n",
    "    prod = row[\"category\"]\n",
    "    date = row[\"transaction_date\"]\n",
    "\n",
    "    mask_pre = (aggregated_df[\"category\"] == prod) & \\\n",
    "               (aggregated_df[\"transaction_date\"] >= date - timedelta(days=10)) & \\\n",
    "               (aggregated_df[\"transaction_date\"] < date)\n",
    "    \n",
    "    mask_post = (aggregated_df[\"category\"] == prod) & \\\n",
    "                (aggregated_df[\"transaction_date\"] > date) & \\\n",
    "                (aggregated_df[\"transaction_date\"] <= date + timedelta(days=10))\n",
    "\n",
    "    aggregated_df.loc[mask_pre, \"pre_event_window\"] = True\n",
    "    aggregated_df.loc[mask_post, \"post_event_window\"] = True\n"
   ]
  },
  {
   "cell_type": "code",
   "execution_count": 534,
   "id": "85e01fef",
   "metadata": {},
   "outputs": [
    {
     "data": {
      "text/html": [
       "<div>\n",
       "<style scoped>\n",
       "    .dataframe tbody tr th:only-of-type {\n",
       "        vertical-align: middle;\n",
       "    }\n",
       "\n",
       "    .dataframe tbody tr th {\n",
       "        vertical-align: top;\n",
       "    }\n",
       "\n",
       "    .dataframe thead th {\n",
       "        text-align: right;\n",
       "    }\n",
       "</style>\n",
       "<table border=\"1\" class=\"dataframe\">\n",
       "  <thead>\n",
       "    <tr style=\"text-align: right;\">\n",
       "      <th></th>\n",
       "      <th>category</th>\n",
       "      <th>transaction_date</th>\n",
       "      <th>transaction_amount</th>\n",
       "      <th>is_festival</th>\n",
       "      <th>event_name</th>\n",
       "      <th>is_holiday</th>\n",
       "      <th>event_type</th>\n",
       "      <th>pre_event_window</th>\n",
       "      <th>post_event_window</th>\n",
       "    </tr>\n",
       "  </thead>\n",
       "  <tbody>\n",
       "    <tr>\n",
       "      <th>4388</th>\n",
       "      <td>bank_transaction</td>\n",
       "      <td>2022-06-26</td>\n",
       "      <td>60158.29</td>\n",
       "      <td>True</td>\n",
       "      <td>New Year English</td>\n",
       "      <td>True</td>\n",
       "      <td>festival</td>\n",
       "      <td>False</td>\n",
       "      <td>False</td>\n",
       "    </tr>\n",
       "    <tr>\n",
       "      <th>4389</th>\n",
       "      <td>bank_transaction</td>\n",
       "      <td>2022-06-27</td>\n",
       "      <td>6974.40</td>\n",
       "      <td>False</td>\n",
       "      <td>None</td>\n",
       "      <td>True</td>\n",
       "      <td>none</td>\n",
       "      <td>False</td>\n",
       "      <td>True</td>\n",
       "    </tr>\n",
       "    <tr>\n",
       "      <th>4390</th>\n",
       "      <td>bank_transaction</td>\n",
       "      <td>2022-06-28</td>\n",
       "      <td>21683.39</td>\n",
       "      <td>False</td>\n",
       "      <td>None</td>\n",
       "      <td>False</td>\n",
       "      <td>none</td>\n",
       "      <td>False</td>\n",
       "      <td>True</td>\n",
       "    </tr>\n",
       "    <tr>\n",
       "      <th>4391</th>\n",
       "      <td>bank_transaction</td>\n",
       "      <td>2022-06-29</td>\n",
       "      <td>25196.15</td>\n",
       "      <td>False</td>\n",
       "      <td>None</td>\n",
       "      <td>False</td>\n",
       "      <td>none</td>\n",
       "      <td>True</td>\n",
       "      <td>True</td>\n",
       "    </tr>\n",
       "    <tr>\n",
       "      <th>4392</th>\n",
       "      <td>bank_transaction</td>\n",
       "      <td>2022-06-30</td>\n",
       "      <td>14253.12</td>\n",
       "      <td>False</td>\n",
       "      <td>None</td>\n",
       "      <td>False</td>\n",
       "      <td>none</td>\n",
       "      <td>True</td>\n",
       "      <td>True</td>\n",
       "    </tr>\n",
       "  </tbody>\n",
       "</table>\n",
       "</div>"
      ],
      "text/plain": [
       "              category transaction_date  transaction_amount  is_festival  \\\n",
       "4388  bank_transaction       2022-06-26            60158.29         True   \n",
       "4389  bank_transaction       2022-06-27             6974.40        False   \n",
       "4390  bank_transaction       2022-06-28            21683.39        False   \n",
       "4391  bank_transaction       2022-06-29            25196.15        False   \n",
       "4392  bank_transaction       2022-06-30            14253.12        False   \n",
       "\n",
       "            event_name  is_holiday event_type  pre_event_window  \\\n",
       "4388  New Year English        True   festival             False   \n",
       "4389              None        True       none             False   \n",
       "4390              None       False       none             False   \n",
       "4391              None       False       none              True   \n",
       "4392              None       False       none              True   \n",
       "\n",
       "      post_event_window  \n",
       "4388              False  \n",
       "4389               True  \n",
       "4390               True  \n",
       "4391               True  \n",
       "4392               True  "
      ]
     },
     "execution_count": 534,
     "metadata": {},
     "output_type": "execute_result"
    }
   ],
   "source": [
    "aggregated_df.head()"
   ]
  },
  {
   "cell_type": "code",
   "execution_count": 535,
   "id": "c428889e",
   "metadata": {},
   "outputs": [],
   "source": [
    "# aggregated_df.set_index(['transaction_date'], inplace=True)\n",
    "#"
   ]
  },
  {
   "cell_type": "code",
   "execution_count": 536,
   "id": "d6457725",
   "metadata": {},
   "outputs": [],
   "source": [
    "unique_categories = aggregated_df['category'].unique()\n",
    "\n",
    "for cat in unique_categories:\n",
    "    rolling_mean_data = aggregated_df[aggregated_df['category'] == cat]['transaction_amount'].rolling(window=20).mean()\n",
    "    aggregated_df.loc[aggregated_df['category'] == cat, 'transaction_amount'] = rolling_mean_data"
   ]
  },
  {
   "cell_type": "code",
   "execution_count": 537,
   "id": "84082e2d",
   "metadata": {},
   "outputs": [
    {
     "data": {
      "text/plain": [
       "<Axes: >"
      ]
     },
     "execution_count": 537,
     "metadata": {},
     "output_type": "execute_result"
    },
    {
     "data": {
      "image/png": "[encoded data removed]",
      "text/plain": [
       "<Figure size 640x480 with 2 Axes>"
      ]
     },
     "metadata": {},
     "output_type": "display_data"
    }
   ],
   "source": [
    "sns.heatmap(aggregated_df.isna())"
   ]
  },
  {
   "cell_type": "code",
   "execution_count": 538,
   "id": "85355306",
   "metadata": {},
   "outputs": [
    {
     "data": {
      "text/plain": [
       "<Axes: >"
      ]
     },
     "execution_count": 538,
     "metadata": {},
     "output_type": "execute_result"
    },
    {
     "data": {
      "image/png": "[encoded data removed]",
      "text/plain": [
       "<Figure size 640x480 with 1 Axes>"
      ]
     },
     "metadata": {},
     "output_type": "display_data"
    }
   ],
   "source": [
    "aggregated_df['transaction_amount'][aggregated_df['category'] == 'bank_transaction'].plot()"
   ]
  },
  {
   "cell_type": "markdown",
   "id": "b0e7b719",
   "metadata": {},
   "source": [
    "### 3.2 Making cyclical features for the dates"
   ]
  },
  {
   "cell_type": "code",
   "execution_count": 539,
   "id": "b698aff1",
   "metadata": {},
   "outputs": [],
   "source": [
    "# Day of Week (0 to 6)\n",
    "aggregated_df[\"day_of_week\"] = aggregated_df[\"transaction_date\"].dt.dayofweek\n",
    "# Shift so that Sunday = 1, Monday = 2, ..., Saturday = 7\n",
    "aggregated_df[\"day_of_week\"] = ((aggregated_df[\"day_of_week\"] + 1) % 7) + 1\n",
    "aggregated_df[\"day_of_week_sin\"] = np.sin(2 * np.pi * aggregated_df[\"day_of_week\"] / 7)\n",
    "aggregated_df[\"day_of_week_cos\"] = np.cos(2 * np.pi * aggregated_df[\"day_of_week\"] / 7)\n",
    "\n",
    "# Month (1 to 12)\n",
    "aggregated_df[\"month\"] = aggregated_df[\"transaction_date\"].dt.month\n",
    "aggregated_df[\"month_sin\"] = np.sin(2 * np.pi * aggregated_df[\"month\"] / 12)\n",
    "aggregated_df[\"month_cos\"] = np.cos(2 * np.pi * aggregated_df[\"month\"] / 12)\n",
    "\n",
    "\n",
    "# Year (1 to 365)\n",
    "aggregated_df[\"day_of_year\"] = aggregated_df[\"transaction_date\"].dt.dayofyear\n",
    "aggregated_df[\"day_of_year_sin\"] = np.sin(2 * np.pi * aggregated_df[\"day_of_year\"] / 365)\n",
    "aggregated_df[\"day_of_year_cos\"] = np.cos(2 * np.pi * aggregated_df[\"day_of_year\"] / 365)"
   ]
  },
  {
   "cell_type": "code",
   "execution_count": 540,
   "id": "c2b8e813",
   "metadata": {},
   "outputs": [],
   "source": [
    "aggregated_df.drop(columns=[\"day_of_week\", \"month\", 'day_of_year'], inplace=True)"
   ]
  },
  {
   "cell_type": "code",
   "execution_count": 541,
   "id": "f517eacd",
   "metadata": {},
   "outputs": [
    {
     "data": {
      "text/plain": [
       "(9873, 15)"
      ]
     },
     "execution_count": 541,
     "metadata": {},
     "output_type": "execute_result"
    }
   ],
   "source": [
    "aggregated_df.shape"
   ]
  },
  {
   "cell_type": "markdown",
   "id": "dab339ba",
   "metadata": {},
   "source": [
    "### 3.3 Removing the unwanted columns"
   ]
  },
  {
   "cell_type": "code",
   "execution_count": 542,
   "id": "6d084499",
   "metadata": {},
   "outputs": [],
   "source": [
    "aggregated_df.drop(columns=['event_name'], inplace=True)"
   ]
  },
  {
   "cell_type": "markdown",
   "id": "e0d35dd2",
   "metadata": {},
   "source": [
    "### 3.4 Creating Lag features and rolling mean statistics"
   ]
  },
  {
   "cell_type": "code",
   "execution_count": 543,
   "id": "62eeb8bc",
   "metadata": {},
   "outputs": [],
   "source": [
    "# Ensure the data is sorted by date\n",
    "aggregated_df = aggregated_df.sort_values([\"category\", \"transaction_date\"])\n",
    "\n",
    "# Create lag features\n",
    "for lag in [1, 7, 14]:\n",
    "    aggregated_df[f\"lag_{lag}\"] = aggregated_df.groupby(\"category\")[\"transaction_amount\"].shift(lag)\n"
   ]
  },
  {
   "cell_type": "code",
   "execution_count": 544,
   "id": "109658e9",
   "metadata": {},
   "outputs": [],
   "source": [
    "# Create 7-day and 30-day rolling means\n",
    "for window in [7, 14]:\n",
    "    aggregated_df[f\"rolling_mean_{window}\"] = (\n",
    "        aggregated_df.groupby(\"category\")[\"transaction_amount\"]\n",
    "        .transform(lambda x: x.shift(1).rolling(window=window).mean())\n",
    "    )\n"
   ]
  },
  {
   "cell_type": "markdown",
   "id": "77ca6a4f",
   "metadata": {},
   "source": [
    "### 3.4 Droping unwanted rows"
   ]
  },
  {
   "cell_type": "code",
   "execution_count": 545,
   "id": "c7c3b57a",
   "metadata": {},
   "outputs": [],
   "source": [
    "aggregated_df.dropna(inplace=True)"
   ]
  },
  {
   "cell_type": "code",
   "execution_count": 546,
   "id": "6946d455",
   "metadata": {},
   "outputs": [
    {
     "data": {
      "text/plain": [
       "(9576, 19)"
      ]
     },
     "execution_count": 546,
     "metadata": {},
     "output_type": "execute_result"
    }
   ],
   "source": [
    "aggregated_df.shape"
   ]
  },
  {
   "cell_type": "markdown",
   "id": "1eb6439c",
   "metadata": {},
   "source": [
    "# 4. Performing the train-test split"
   ]
  },
  {
   "cell_type": "code",
   "execution_count": 547,
   "id": "d66e76c4",
   "metadata": {},
   "outputs": [],
   "source": [
    "train_list, test_list = [], []\n",
    "\n",
    "for cat in aggregated_df['category'].unique():\n",
    "    df_cat = aggregated_df[aggregated_df['category'] == cat]\n",
    "    cutoff = df_cat['transaction_date'].quantile(0.8)\n",
    "    \n",
    "    train_list.append(df_cat[df_cat['transaction_date'] <= cutoff])\n",
    "    test_list.append(df_cat[df_cat['transaction_date'] > cutoff])\n",
    "\n",
    "train_df = pd.concat(train_list)\n",
    "test_df = pd.concat(test_list)\n"
   ]
  },
  {
   "cell_type": "code",
   "execution_count": 548,
   "id": "37b23d37",
   "metadata": {},
   "outputs": [
    {
     "data": {
      "text/html": [
       "<div>\n",
       "<style scoped>\n",
       "    .dataframe tbody tr th:only-of-type {\n",
       "        vertical-align: middle;\n",
       "    }\n",
       "\n",
       "    .dataframe tbody tr th {\n",
       "        vertical-align: top;\n",
       "    }\n",
       "\n",
       "    .dataframe thead th {\n",
       "        text-align: right;\n",
       "    }\n",
       "</style>\n",
       "<table border=\"1\" class=\"dataframe\">\n",
       "  <thead>\n",
       "    <tr style=\"text-align: right;\">\n",
       "      <th></th>\n",
       "      <th>category</th>\n",
       "      <th>transaction_date</th>\n",
       "      <th>transaction_amount</th>\n",
       "      <th>is_festival</th>\n",
       "      <th>is_holiday</th>\n",
       "      <th>event_type</th>\n",
       "      <th>pre_event_window</th>\n",
       "      <th>post_event_window</th>\n",
       "      <th>day_of_week_sin</th>\n",
       "      <th>day_of_week_cos</th>\n",
       "      <th>month_sin</th>\n",
       "      <th>month_cos</th>\n",
       "      <th>day_of_year_sin</th>\n",
       "      <th>day_of_year_cos</th>\n",
       "      <th>lag_1</th>\n",
       "      <th>lag_7</th>\n",
       "      <th>lag_14</th>\n",
       "      <th>rolling_mean_7</th>\n",
       "      <th>rolling_mean_14</th>\n",
       "    </tr>\n",
       "  </thead>\n",
       "  <tbody>\n",
       "    <tr>\n",
       "      <th>4421</th>\n",
       "      <td>bank_transaction</td>\n",
       "      <td>2022-07-29</td>\n",
       "      <td>22844.2340</td>\n",
       "      <td>False</td>\n",
       "      <td>False</td>\n",
       "      <td>none</td>\n",
       "      <td>False</td>\n",
       "      <td>False</td>\n",
       "      <td>-7.818315e-01</td>\n",
       "      <td>0.623490</td>\n",
       "      <td>-0.500000</td>\n",
       "      <td>-0.866025</td>\n",
       "      <td>-0.455907</td>\n",
       "      <td>-0.890028</td>\n",
       "      <td>25562.9185</td>\n",
       "      <td>24518.4940</td>\n",
       "      <td>24956.4940</td>\n",
       "      <td>25217.573286</td>\n",
       "      <td>24573.682643</td>\n",
       "    </tr>\n",
       "    <tr>\n",
       "      <th>4422</th>\n",
       "      <td>bank_transaction</td>\n",
       "      <td>2022-07-30</td>\n",
       "      <td>23323.2070</td>\n",
       "      <td>False</td>\n",
       "      <td>False</td>\n",
       "      <td>none</td>\n",
       "      <td>True</td>\n",
       "      <td>False</td>\n",
       "      <td>-2.449294e-16</td>\n",
       "      <td>1.000000</td>\n",
       "      <td>-0.500000</td>\n",
       "      <td>-0.866025</td>\n",
       "      <td>-0.471160</td>\n",
       "      <td>-0.882048</td>\n",
       "      <td>22844.2340</td>\n",
       "      <td>25486.0130</td>\n",
       "      <td>22472.6535</td>\n",
       "      <td>24978.393286</td>\n",
       "      <td>24422.806929</td>\n",
       "    </tr>\n",
       "    <tr>\n",
       "      <th>4423</th>\n",
       "      <td>bank_transaction</td>\n",
       "      <td>2022-07-31</td>\n",
       "      <td>23804.5555</td>\n",
       "      <td>False</td>\n",
       "      <td>False</td>\n",
       "      <td>none</td>\n",
       "      <td>True</td>\n",
       "      <td>False</td>\n",
       "      <td>7.818315e-01</td>\n",
       "      <td>0.623490</td>\n",
       "      <td>-0.500000</td>\n",
       "      <td>-0.866025</td>\n",
       "      <td>-0.486273</td>\n",
       "      <td>-0.873807</td>\n",
       "      <td>23323.2070</td>\n",
       "      <td>24677.9035</td>\n",
       "      <td>23873.4950</td>\n",
       "      <td>24669.421000</td>\n",
       "      <td>24483.560750</td>\n",
       "    </tr>\n",
       "    <tr>\n",
       "      <th>4424</th>\n",
       "      <td>bank_transaction</td>\n",
       "      <td>2022-08-01</td>\n",
       "      <td>23914.8870</td>\n",
       "      <td>False</td>\n",
       "      <td>True</td>\n",
       "      <td>none</td>\n",
       "      <td>True</td>\n",
       "      <td>False</td>\n",
       "      <td>9.749279e-01</td>\n",
       "      <td>-0.222521</td>\n",
       "      <td>-0.866025</td>\n",
       "      <td>-0.500000</td>\n",
       "      <td>-0.501242</td>\n",
       "      <td>-0.865307</td>\n",
       "      <td>23804.5555</td>\n",
       "      <td>24956.4665</td>\n",
       "      <td>23872.2785</td>\n",
       "      <td>24544.657000</td>\n",
       "      <td>24478.636500</td>\n",
       "    </tr>\n",
       "    <tr>\n",
       "      <th>4425</th>\n",
       "      <td>bank_transaction</td>\n",
       "      <td>2022-08-02</td>\n",
       "      <td>24207.1215</td>\n",
       "      <td>False</td>\n",
       "      <td>False</td>\n",
       "      <td>none</td>\n",
       "      <td>True</td>\n",
       "      <td>False</td>\n",
       "      <td>4.338837e-01</td>\n",
       "      <td>-0.900969</td>\n",
       "      <td>-0.866025</td>\n",
       "      <td>-0.500000</td>\n",
       "      <td>-0.516062</td>\n",
       "      <td>-0.856551</td>\n",
       "      <td>23914.8870</td>\n",
       "      <td>25716.5325</td>\n",
       "      <td>23878.7145</td>\n",
       "      <td>24395.859929</td>\n",
       "      <td>24481.679964</td>\n",
       "    </tr>\n",
       "  </tbody>\n",
       "</table>\n",
       "</div>"
      ],
      "text/plain": [
       "              category transaction_date  transaction_amount  is_festival  \\\n",
       "4421  bank_transaction       2022-07-29          22844.2340        False   \n",
       "4422  bank_transaction       2022-07-30          23323.2070        False   \n",
       "4423  bank_transaction       2022-07-31          23804.5555        False   \n",
       "4424  bank_transaction       2022-08-01          23914.8870        False   \n",
       "4425  bank_transaction       2022-08-02          24207.1215        False   \n",
       "\n",
       "      is_holiday event_type  pre_event_window  post_event_window  \\\n",
       "4421       False       none             False              False   \n",
       "4422       False       none              True              False   \n",
       "4423       False       none              True              False   \n",
       "4424        True       none              True              False   \n",
       "4425       False       none              True              False   \n",
       "\n",
       "      day_of_week_sin  day_of_week_cos  month_sin  month_cos  day_of_year_sin  \\\n",
       "4421    -7.818315e-01         0.623490  -0.500000  -0.866025        -0.455907   \n",
       "4422    -2.449294e-16         1.000000  -0.500000  -0.866025        -0.471160   \n",
       "4423     7.818315e-01         0.623490  -0.500000  -0.866025        -0.486273   \n",
       "4424     9.749279e-01        -0.222521  -0.866025  -0.500000        -0.501242   \n",
       "4425     4.338837e-01        -0.900969  -0.866025  -0.500000        -0.516062   \n",
       "\n",
       "      day_of_year_cos       lag_1       lag_7      lag_14  rolling_mean_7  \\\n",
       "4421        -0.890028  25562.9185  24518.4940  24956.4940    25217.573286   \n",
       "4422        -0.882048  22844.2340  25486.0130  22472.6535    24978.393286   \n",
       "4423        -0.873807  23323.2070  24677.9035  23873.4950    24669.421000   \n",
       "4424        -0.865307  23804.5555  24956.4665  23872.2785    24544.657000   \n",
       "4425        -0.856551  23914.8870  25716.5325  23878.7145    24395.859929   \n",
       "\n",
       "      rolling_mean_14  \n",
       "4421     24573.682643  \n",
       "4422     24422.806929  \n",
       "4423     24483.560750  \n",
       "4424     24478.636500  \n",
       "4425     24481.679964  "
      ]
     },
     "execution_count": 548,
     "metadata": {},
     "output_type": "execute_result"
    }
   ],
   "source": [
    "train_df.head()"
   ]
  },
  {
   "cell_type": "markdown",
   "id": "8fd2cbb6",
   "metadata": {},
   "source": [
    "### 4.1 Dropping unwanted features "
   ]
  },
  {
   "cell_type": "code",
   "execution_count": 549,
   "id": "ea863d33",
   "metadata": {},
   "outputs": [],
   "source": [
    "train_df.drop(columns=['transaction_date'], inplace=True)\n",
    "test_df.drop(columns=['transaction_date'], inplace=True)"
   ]
  },
  {
   "cell_type": "markdown",
   "id": "580e0df0",
   "metadata": {},
   "source": [
    "#### 4.1.1 Encoding the categorical features using Target Encoding and One-Hot Encoding"
   ]
  },
  {
   "cell_type": "code",
   "execution_count": 550,
   "id": "08a78877",
   "metadata": {},
   "outputs": [
    {
     "name": "stderr",
     "output_type": "stream",
     "text": [
      "C:\\Users\\JARVIS\\AppData\\Local\\Temp\\ipykernel_15068\\1161719989.py:10: FutureWarning: A value is trying to be set on a copy of a DataFrame or Series through chained assignment using an inplace method.\n",
      "The behavior will change in pandas 3.0. This inplace method will never work because the intermediate object on which we are setting values always behaves as a copy.\n",
      "\n",
      "For example, when doing 'df[col].method(value, inplace=True)', try using 'df.method({col: value}, inplace=True)' or df[col] = df[col].method(value) instead, to perform the operation inplace on the original object.\n",
      "\n",
      "\n",
      "  test_df['category'].fillna(global_mean, inplace=True)\n"
     ]
    }
   ],
   "source": [
    "# Step 1: Compute mean target value per category (from training data only)\n",
    "category_target_mean = train_df.groupby('category')['transaction_amount'].mean()\n",
    "\n",
    "# Step 2: Map encoded values to both train and test sets\n",
    "train_df['category'] = train_df['category'].map(category_target_mean)\n",
    "test_df['category'] = test_df['category'].map(category_target_mean)\n",
    "\n",
    "# Step 3 (optional): Fill NaNs in test set (in case unseen categories exist)\n",
    "global_mean = train_df['transaction_amount'].mean()\n",
    "test_df['category'].fillna(global_mean, inplace=True)\n"
   ]
  },
  {
   "cell_type": "code",
   "execution_count": 551,
   "id": "e75c0d6d",
   "metadata": {},
   "outputs": [],
   "source": [
    "from sklearn.preprocessing import OneHotEncoder\n",
    "import pandas as pd\n",
    "\n",
    "# 2. Create and fit encoder\n",
    "encoder = OneHotEncoder(sparse_output=False, handle_unknown='ignore')\n",
    "encoder.fit(train_df[['event_type']])\n",
    "\n",
    "# 3. Transform both train and test\n",
    "train_encoded = encoder.transform(train_df[['event_type']])\n",
    "test_encoded = encoder.transform(test_df[['event_type']])\n",
    "\n",
    "# 4. Get encoded column names\n",
    "encoded_cols = encoder.get_feature_names_out(['event_type'])\n",
    "\n",
    "# 5. Convert to DataFrame\n",
    "train_encoded_df = pd.DataFrame(train_encoded, columns=encoded_cols, index=train_df.index)\n",
    "test_encoded_df = pd.DataFrame(test_encoded, columns=encoded_cols, index=test_df.index)\n",
    "\n",
    "# 6. Merge with original DataFrames\n",
    "train_df = pd.concat([train_df.drop(columns=['event_type']), train_encoded_df], axis=1)\n",
    "test_df = pd.concat([test_df.drop(columns=['event_type']), test_encoded_df], axis=1)\n"
   ]
  },
  {
   "cell_type": "code",
   "execution_count": 552,
   "id": "88ebfc53",
   "metadata": {},
   "outputs": [],
   "source": [
    "X_train = train_df.dropna(subset=['transaction_amount'])\n",
    "X_test = test_df.dropna(subset=['transaction_amount'])\n",
    "\n",
    "y_train = train_df['transaction_amount']\n",
    "y_test = test_df['transaction_amount']\n"
   ]
  },
  {
   "cell_type": "code",
   "execution_count": 553,
   "id": "c525e8b6",
   "metadata": {},
   "outputs": [
    {
     "name": "stdout",
     "output_type": "stream",
     "text": [
      "<class 'pandas.core.frame.DataFrame'>\n",
      "Index: 7659 entries, 4421 to 883\n",
      "Data columns (total 20 columns):\n",
      " #   Column               Non-Null Count  Dtype  \n",
      "---  ------               --------------  -----  \n",
      " 0   category             7659 non-null   float64\n",
      " 1   transaction_amount   7659 non-null   float64\n",
      " 2   is_festival          7659 non-null   bool   \n",
      " 3   is_holiday           7659 non-null   bool   \n",
      " 4   pre_event_window     7659 non-null   bool   \n",
      " 5   post_event_window    7659 non-null   bool   \n",
      " 6   day_of_week_sin      7659 non-null   float64\n",
      " 7   day_of_week_cos      7659 non-null   float64\n",
      " 8   month_sin            7659 non-null   float64\n",
      " 9   month_cos            7659 non-null   float64\n",
      " 10  day_of_year_sin      7659 non-null   float64\n",
      " 11  day_of_year_cos      7659 non-null   float64\n",
      " 12  lag_1                7659 non-null   float64\n",
      " 13  lag_7                7659 non-null   float64\n",
      " 14  lag_14               7659 non-null   float64\n",
      " 15  rolling_mean_7       7659 non-null   float64\n",
      " 16  rolling_mean_14      7659 non-null   float64\n",
      " 17  event_type_disaster  7659 non-null   float64\n",
      " 18  event_type_festival  7659 non-null   float64\n",
      " 19  event_type_none      7659 non-null   float64\n",
      "dtypes: bool(4), float64(16)\n",
      "memory usage: 1.0 MB\n"
     ]
    }
   ],
   "source": [
    "train_df.info()"
   ]
  },
  {
   "cell_type": "markdown",
   "id": "bdca746f",
   "metadata": {},
   "source": [
    "# 5. Training the model"
   ]
  },
  {
   "cell_type": "code",
   "execution_count": 554,
   "id": "4e892e02",
   "metadata": {},
   "outputs": [],
   "source": [
    "from xgboost import XGBRegressor\n",
    "\n",
    "# Train\n",
    "model_xgb = XGBRegressor(n_estimators=100)\n",
    "model_xgb.fit(X_train, y_train)\n",
    "\n",
    "# Predict\n",
    "y_pred = model_xgb.predict(X_test)"
   ]
  },
  {
   "cell_type": "markdown",
   "id": "89521c5e",
   "metadata": {},
   "source": [
    "# 6. Evaluation"
   ]
  },
  {
   "cell_type": "code",
   "execution_count": 557,
   "id": "bdec4b39",
   "metadata": {},
   "outputs": [
    {
     "name": "stdout",
     "output_type": "stream",
     "text": [
      "<class 'pandas.core.frame.DataFrame'>\n",
      "Index: 7659 entries, 4421 to 883\n",
      "Data columns (total 20 columns):\n",
      " #   Column               Non-Null Count  Dtype  \n",
      "---  ------               --------------  -----  \n",
      " 0   category             7659 non-null   float64\n",
      " 1   transaction_amount   7659 non-null   float64\n",
      " 2   is_festival          7659 non-null   bool   \n",
      " 3   is_holiday           7659 non-null   bool   \n",
      " 4   pre_event_window     7659 non-null   bool   \n",
      " 5   post_event_window    7659 non-null   bool   \n",
      " 6   day_of_week_sin      7659 non-null   float64\n",
      " 7   day_of_week_cos      7659 non-null   float64\n",
      " 8   month_sin            7659 non-null   float64\n",
      " 9   month_cos            7659 non-null   float64\n",
      " 10  day_of_year_sin      7659 non-null   float64\n",
      " 11  day_of_year_cos      7659 non-null   float64\n",
      " 12  lag_1                7659 non-null   float64\n",
      " 13  lag_7                7659 non-null   float64\n",
      " 14  lag_14               7659 non-null   float64\n",
      " 15  rolling_mean_7       7659 non-null   float64\n",
      " 16  rolling_mean_14      7659 non-null   float64\n",
      " 17  event_type_disaster  7659 non-null   float64\n",
      " 18  event_type_festival  7659 non-null   float64\n",
      " 19  event_type_none      7659 non-null   float64\n",
      "dtypes: bool(4), float64(16)\n",
      "memory usage: 1.0 MB\n"
     ]
    }
   ],
   "source": [
    "train_df.info()"
   ]
  },
  {
   "cell_type": "code",
   "execution_count": null,
   "id": "90b6103e",
   "metadata": {},
   "outputs": [
    {
     "name": "stdout",
     "output_type": "stream",
     "text": [
      "MAE: 188.0205802849505\n",
      "R-squared: 0.9979810359470763\n",
      "MAPE: 0.004004543288483104\n"
     ]
    }
   ],
   "source": [
    "from sklearn.metrics import mean_absolute_error, r2_score, mean_absolute_percentage_error\n",
    "\n",
    "mae_xgb = mean_absolute_error(y_test, y_pred)\n",
    "print(\"MAE:\", mae_xgb)\n",
    "\n",
    "r2_xgb = r2_score(y_test, y_pred)\n",
    "print(\"R-squared:\", r2_xgb)\n",
    "\n",
    "mape_xgb = mean_absolute_percentage_error(y_test, y_pred)\n",
    "print(\"MAPE:\", mape_xgb)"
   ]
  },
  {
   "cell_type": "markdown",
   "id": "69acbbbb",
   "metadata": {},
   "source": [
    "# 7. Forecasting"
   ]
  },
  {
   "cell_type": "code",
   "execution_count": null,
   "id": "183782e3",
   "metadata": {},
   "outputs": [],
   "source": [
    "import pandas as pd\n",
    "import numpy as np\n",
    "from datetime import timedelta\n",
    "\n",
    "def forecast_next_7_days(category_name, model, original_df, category_target_mean, global_mean):\n",
    "    # Step 1: Filter past data for this category\n",
    "    df_cat = original_df[original_df['category'] == category_name].copy()\n",
    "    df_cat.sort_values('transaction_date', inplace=True)\n",
    "    df_cat.reset_index(drop=True, inplace=True)\n",
    "\n",
    "    # Step 2: Prepare future dates\n",
    "    last_date = df_cat['transaction_date'].max()\n",
    "    future_dates = [last_date + timedelta(days=i+1) for i in range(7)]\n",
    "\n",
    "    forecasts = []\n",
    "    \n",
    "    for forecast_date in future_dates:\n",
    "        row = {}\n",
    "        row['transaction_date'] = forecast_date\n",
    "\n",
    "        # === Static Features ===\n",
    "        row['category'] = category_target_mean.get(category_name, global_mean)\n",
    "        row['is_festival'] = False\n",
    "        row['is_holiday'] = False\n",
    "        row['pre_event_window'] = False\n",
    "        row['post_event_window'] = False\n",
    "\n",
    "        # === Cyclical Features ===\n",
    "        dow = forecast_date.weekday()  # Monday=0\n",
    "        row['day_of_week_sin'] = np.sin(2 * np.pi * dow / 7)\n",
    "        row['day_of_week_cos'] = np.cos(2 * np.pi * dow / 7)\n",
    "\n",
    "        month = forecast_date.month\n",
    "        row['month_sin'] = np.sin(2 * np.pi * month / 12)\n",
    "        row['month_cos'] = np.cos(2 * np.pi * month / 12)\n",
    "\n",
    "        day_of_year = forecast_date.timetuple().tm_yday\n",
    "        row['day_of_year_sin'] = np.sin(2 * np.pi * day_of_year / 365)\n",
    "        row['day_of_year_cos'] = np.cos(2 * np.pi * day_of_year / 365)\n",
    "\n",
    "        # === One-hot Event Type ===\n",
    "        row['event_type_festival'] = 0\n",
    "        row['event_type_disaster'] = 0\n",
    "        row['event_type_none'] = 1\n",
    "\n",
    "        # === Lag and Rolling ===\n",
    "        # Make sure to handle missing lag values (e.g. beginning of series)\n",
    "        try:\n",
    "            row['lag_1'] = df_cat.iloc[-1]['transaction_amount']\n",
    "            row['lag_7'] = df_cat.iloc[-7]['transaction_amount'] if len(df_cat) >= 7 else row['lag_1']\n",
    "            row['lag_14'] = df_cat.iloc[-14]['transaction_amount'] if len(df_cat) >= 14 else row['lag_7']\n",
    "        except IndexError:\n",
    "            row['lag_1'] = row['lag_7'] = row['lag_14'] = df_cat['transaction_amount'].mean()\n",
    "\n",
    "        row['rolling_mean_7'] = df_cat['transaction_amount'].rolling(window=7).mean().iloc[-1] if len(df_cat) >= 7 else df_cat['transaction_amount'].mean()\n",
    "        row['rolling_mean_14'] = df_cat['transaction_amount'].rolling(window=14).mean().iloc[-1] if len(df_cat) >= 14 else df_cat['transaction_amount'].mean()\n",
    "\n",
    "        # Convert to DataFrame and predict\n",
    "        X = pd.DataFrame([row])\n",
    "        prediction = model.predict(X)[0]\n",
    "        row['predicted_amount'] = prediction\n",
    "\n",
    "        # Append to results\n",
    "        forecasts.append(row)\n",
    "\n",
    "        # Append to df_cat to maintain rolling window\n",
    "        df_cat = pd.concat([df_cat, pd.DataFrame({\n",
    "            'transaction_date': [forecast_date],\n",
    "            'category': [category_name],\n",
    "            'transaction_amount': [prediction]\n",
    "        })], ignore_index=True)\n",
    "\n",
    "    return pd.DataFrame(forecasts)\n"
   ]
  }
 ],
 "metadata": {
  "kernelspec": {
   "display_name": "env_torch",
   "language": "python",
   "name": "python3"
  },
  "language_info": {
   "codemirror_mode": {
    "name": "ipython",
    "version": 3
   },
   "file_extension": ".py",
   "mimetype": "text/x-python",
   "name": "python",
   "nbconvert_exporter": "python",
   "pygments_lexer": "ipython3",
   "version": "3.12.3"
  }
 },
 "nbformat": 4,
 "nbformat_minor": 5
}

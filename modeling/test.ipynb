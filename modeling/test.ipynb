{
 "cells": [
  {
   "cell_type": "code",
   "execution_count": 1,
   "id": "d7c1553b",
   "metadata": {},
   "outputs": [],
   "source": [
    "import mlflow"
   ]
  },
  {
   "cell_type": "code",
   "execution_count": 2,
   "id": "b826b2e5",
   "metadata": {},
   "outputs": [
    {
     "name": "stderr",
     "output_type": "stream",
     "text": [
      "2025/06/28 05:42:44 INFO mlflow.tracking.fluent: Experiment with name 'test_experiment' does not exist. Creating a new experiment.\n"
     ]
    },
    {
     "data": {
      "text/plain": [
       "<Experiment: artifact_location='file:///d:/eSewa%20Internship/final_project/modeling/mlruns/215093072945015715', creation_time=1751068664932, experiment_id='215093072945015715', last_update_time=1751068664932, lifecycle_stage='active', name='test_experiment', tags={}>"
      ]
     },
     "execution_count": 2,
     "metadata": {},
     "output_type": "execute_result"
    }
   ],
   "source": [
    "mlflow.set_experiment(\"test_experiment\")"
   ]
  },
  {
   "cell_type": "code",
   "execution_count": 29,
   "id": "16ac8ff6",
   "metadata": {},
   "outputs": [
    {
     "data": {
      "text/plain": [
       "<Experiment: artifact_location='file:///d:/eSewa%20Internship/final_project/modeling/mlruns/989745218648407383', creation_time=1751070565932, experiment_id='989745218648407383', last_update_time=1751070565932, lifecycle_stage='active', name='training_experiment', tags={}>"
      ]
     },
     "execution_count": 29,
     "metadata": {},
     "output_type": "execute_result"
    }
   ],
   "source": [
    "mlflow.set_experiment('training_experiment')\n"
   ]
  },
  {
   "cell_type": "code",
   "execution_count": 3,
   "id": "46cdc7c1",
   "metadata": {},
   "outputs": [],
   "source": [
    "X_train = [[1, 2], [3, 4], [5, 6]]\n",
    "y_train = [1, 2, 3]"
   ]
  },
  {
   "cell_type": "code",
   "execution_count": 4,
   "id": "ba3d323d",
   "metadata": {},
   "outputs": [
    {
     "name": "stderr",
     "output_type": "stream",
     "text": [
      "2025/06/28 11:12:58 INFO mlflow.tracking.fluent: Autologging successfully enabled for sklearn.\n",
      "2025/06/28 11:12:58 WARNING mlflow.sklearn: Unrecognized dataset type <class 'list'>. Dataset logging skipped.\n",
      "2025/06/28 11:13:09 WARNING mlflow.models.model: Model logged without a signature and input example. Please set `input_example` parameter when logging the model to auto infer the model signature.\n"
     ]
    }
   ],
   "source": [
    "import mlflow\n",
    "import mlflow.sklearn\n",
    "from sklearn.ensemble import RandomForestRegressor\n",
    "\n",
    "\n",
    "# Enable autologging\n",
    "mlflow.autolog()\n",
    "mlflow.set_experiment('training_experiment')\n",
    "\n",
    "with mlflow.start_run(run_name='training_model'):\n",
    "\n",
    "    model = RandomForestRegressor(n_estimators=100, max_depth=5)\n",
    "    model.fit(X_train, y_train)\n",
    " \n",
    "    mlflow.sklearn.log_model(model, \"model\")"
   ]
  },
  {
   "cell_type": "code",
   "execution_count": 5,
   "id": "8d7ebbfc",
   "metadata": {},
   "outputs": [
    {
     "name": "stdout",
     "output_type": "stream",
     "text": [
      "^C\n"
     ]
    }
   ],
   "source": [
    "!mlflow ui"
   ]
  },
  {
   "cell_type": "code",
   "execution_count": null,
   "id": "9a551075",
   "metadata": {},
   "outputs": [],
   "source": [
    "import pandas as pd\n",
    "import numpy as np\n",
    "from datetime import datetime, timedelta\n",
    "from sklearn.model_selection import train_test_split\n",
    "from sklearn.preprocessing import OneHotEncoder\n",
    "import xgboost as xgb\n",
    "\n",
    "# --------------------------- #\n",
    "# Step 1: Load and Aggregate\n",
    "# --------------------------- #\n",
    "def load_and_aggregate(df):\n",
    "    df['transaction_date'] = pd.to_datetime(df['transaction_date'])\n",
    "    full_date_range = pd.date_range(start=df['transaction_date'].min(),\n",
    "                                end=df['transaction_date'].max())\n",
    "    all_categories = df['category'].unique()\n",
    "    complete_index = pd.MultiIndex.from_product(\n",
    "        [all_categories, full_date_range],\n",
    "        names=['category', 'transaction_date']\n",
    "    )\n",
    "    df_full = df_daily.set_index(['category', 'transaction_date']).reindex(complete_index)\n",
    "    df_full['amount'] = df_full['amount'].fillna(0)\n",
    "    \n",
    "    return df.groupby(['transaction_date', 'category']).agg({\n",
    "                                                'amount': 'sum',\n",
    "                                                'is_festival': 'max',\n",
    "                                                'is_holiday': 'max',\n",
    "                                                'event_name': 'last'\n",
    "                                            }).reset_index()\n",
    "\n",
    "# --------------------------- #\n",
    "# Step 2: Feature Engineering\n",
    "# --------------------------- #\n",
    "def engineer_features(df):\n",
    "    df = df.sort_values(['category', 'transaction_date'])\n",
    "    df['event_type'] = df['event_name'].apply(\n",
    "        lambda x: 'disaster' if x in ['Earthquake', 'Recession'] else 'festival' if pd.notna(x) else 'none'\n",
    "    )\n",
    "    df['pre_event_window'] = df.groupby('category')['event_type'].shift(-1).isin(['festival', 'disaster']).fillna(False)\n",
    "    df['post_event_window'] = df.groupby('category')['event_type'].shift(1).isin(['festival', 'disaster']).fillna(False)\n",
    "\n",
    "    # Cyclical features\n",
    "    df['day_of_week'] = df['transaction_date'].dt.weekday\n",
    "    df['day_of_week_sin'] = np.sin(2 * np.pi * df['day_of_week'] / 7)\n",
    "    df['day_of_week_cos'] = np.cos(2 * np.pi * df['day_of_week'] / 7)\n",
    "\n",
    "    df['month'] = df['transaction_date'].dt.month\n",
    "    df['month_sin'] = np.sin(2 * np.pi * df['month'] / 12)\n",
    "    df['month_cos'] = np.cos(2 * np.pi * df['month'] / 12)\n",
    "\n",
    "    doy = df['transaction_date'].dt.dayofyear\n",
    "    df['day_of_year_sin'] = np.sin(2 * np.pi * doy / 365)\n",
    "    df['day_of_year_cos'] = np.cos(2 * np.pi * doy / 365)\n",
    "\n",
    "    # Lag + rolling\n",
    "    for lag in [1, 7, 14]:\n",
    "        df[f'lag_{lag}'] = df.groupby('category')['amount'].shift(lag)\n",
    "    for window in [7, 14]:\n",
    "        df[f'rolling_mean_{window}'] = df.groupby('category')['amount'].shift(1).rolling(window).mean().reset_index(0, drop=True)\n",
    "\n",
    "    return df.drop(columns=['day_of_week', 'month'])\n",
    "\n",
    "# --------------------------- #\n",
    "# Step 3: Encoding\n",
    "# --------------------------- #\n",
    "def encode_features(train_df, test_df):\n",
    "    # Target encoding\n",
    "    category_target_mean = train_df.groupby('category')['amount'].mean()\n",
    "    global_mean = train_df['amount'].mean()\n",
    "\n",
    "    train_df['category'] = train_df['category'].map(category_target_mean)\n",
    "    test_df['category'] = test_df['category'].map(category_target_mean).fillna(global_mean)\n",
    "\n",
    "    # One-hot encoding for event_type\n",
    "    encoder = OneHotEncoder(sparse_output=False, handle_unknown='ignore')\n",
    "    encoder.fit(train_df[['event_type']])\n",
    "    train_event = encoder.transform(train_df[['event_type']])\n",
    "    test_event = encoder.transform(test_df[['event_type']])\n",
    "\n",
    "    ohe_cols = encoder.get_feature_names_out(['event_type'])\n",
    "    train_ohe = pd.DataFrame(train_event, columns=ohe_cols, index=train_df.index)\n",
    "    test_ohe = pd.DataFrame(test_event, columns=ohe_cols, index=test_df.index)\n",
    "\n",
    "    train_df = pd.concat([train_df.drop(columns=['event_type']), train_ohe], axis=1)\n",
    "    test_df = pd.concat([test_df.drop(columns=['event_type']), test_ohe], axis=1)\n",
    "\n",
    "    return train_df, test_df, category_target_mean, global_mean, encoder\n",
    "\n",
    "# --------------------------- #\n",
    "# Step 4: Train Model\n",
    "# --------------------------- #\n",
    "def train_model(train_df):\n",
    "    feature_cols = train_df.columns.difference(['transaction_date', 'amount', 'event_name'])\n",
    "    X_train = train_df[feature_cols]\n",
    "    y_train = train_df['amount']\n",
    "\n",
    "    model = xgb.XGBRegressor(n_estimators=200, max_depth=5, learning_rate=0.1)\n",
    "    model.fit(X_train, y_train)\n",
    "    return model, feature_cols\n",
    "\n",
    "# --------------------------- #\n",
    "# Step 5: Forecast Function\n",
    "# --------------------------- #\n",
    "def forecast_next_7_days(category_name, model, original_df, cat_mean_map, global_mean, encoder, feature_cols):\n",
    "    df_cat = original_df[original_df['category'] == category_name].copy()\n",
    "    df_cat.sort_values('transaction_date', inplace=True)\n",
    "    df_cat.reset_index(drop=True, inplace=True)\n",
    "\n",
    "    forecasts = []\n",
    "    last_date = df_cat['transaction_date'].max()\n",
    "\n",
    "    for i in range(1, 8):\n",
    "        date = last_date + timedelta(days=i)\n",
    "        row = {\n",
    "            'transaction_date': date,\n",
    "            'category': cat_mean_map.get(category_name, global_mean),\n",
    "            'is_festival': False,\n",
    "            'is_holiday': False,\n",
    "            'pre_event_window': False,\n",
    "            'post_event_window': False,\n",
    "            'day_of_week_sin': np.sin(2 * np.pi * date.weekday() / 7),\n",
    "            'day_of_week_cos': np.cos(2 * np.pi * date.weekday() / 7),\n",
    "            'month_sin': np.sin(2 * np.pi * date.month / 12),\n",
    "            'month_cos': np.cos(2 * np.pi * date.month / 12),\n",
    "            'day_of_year_sin': np.sin(2 * np.pi * date.timetuple().tm_yday / 365),\n",
    "            'day_of_year_cos': np.cos(2 * np.pi * date.timetuple().tm_yday / 365),\n",
    "            'lag_1': df_cat.iloc[-1]['amount'],\n",
    "            'lag_7': df_cat.iloc[-7]['amount'] if len(df_cat) >= 7 else df_cat['amount'].mean(),\n",
    "            'lag_14': df_cat.iloc[-14]['amount'] if len(df_cat) >= 14 else df_cat['amount'].mean(),\n",
    "            'rolling_mean_7': df_cat['amount'].rolling(window=7).mean().iloc[-1] if len(df_cat) >= 7 else df_cat['amount'].mean(),\n",
    "            'rolling_mean_14': df_cat['amount'].rolling(window=14).mean().iloc[-1] if len(df_cat) >= 14 else df_cat['amount'].mean()\n",
    "        }\n",
    "\n",
    "        event_ohe = encoder.transform([['none']])\n",
    "        ohe_df = pd.DataFrame(event_ohe, columns=encoder.get_feature_names_out(['event_type']))\n",
    "        row.update(ohe_df.iloc[0].to_dict())\n",
    "\n",
    "        X = pd.DataFrame([row])[feature_cols]\n",
    "        row['predicted_amount'] = model.predict(X)[0]\n",
    "        forecasts.append(row)\n",
    "\n",
    "        # Add prediction to history\n",
    "        df_cat = pd.concat([df_cat, pd.DataFrame({'transaction_date': [date], 'category': [category_name], 'amount': [row['predicted_amount']]})], ignore_index=True)\n",
    "\n",
    "    return pd.DataFrame(forecasts)\n",
    "\n",
    "# --------------------------- #\n",
    "# 🚀 Execute Pipeline\n",
    "# --------------------------- #\n",
    "def run_pipeline(raw_df, category_name):\n",
    "    df = load_and_aggregate(raw_df)\n",
    "    df = engineer_features(df)\n",
    "    df.dropna(inplace=True)\n",
    "\n",
    "    train_df, test_df = train_test_split(df, test_size=0.2, shuffle=False)\n",
    "    train_df, test_df, cat_mean_map, global_mean, encoder = encode_features(train_df, test_df)\n",
    "\n",
    "    model, feature_cols = train_model(train_df)\n",
    "    forecast_df = forecast_next_7_days(category_name, model, df, cat_mean_map, global_mean, encoder, feature_cols)\n",
    "    return forecast_df\n"
   ]
  }
 ],
 "metadata": {
  "kernelspec": {
   "display_name": "env_torch",
   "language": "python",
   "name": "python3"
  },
  "language_info": {
   "codemirror_mode": {
    "name": "ipython",
    "version": 3
   },
   "file_extension": ".py",
   "mimetype": "text/x-python",
   "name": "python",
   "nbconvert_exporter": "python",
   "pygments_lexer": "ipython3",
   "version": "3.12.3"
  }
 },
 "nbformat": 4,
 "nbformat_minor": 5
}

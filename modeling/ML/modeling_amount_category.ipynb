{
 "cells": [
  {
   "cell_type": "code",
   "execution_count": 49,
   "id": "85a02c2c",
   "metadata": {},
   "outputs": [],
   "source": [
    "import numpy as numpy\n",
    "import pandas as pd\n",
    "import matplotlib.pyplot as plt\n",
    "import seaborn as sns\n",
    "import numpy as np\n",
    "import datetime"
   ]
  },
  {
   "cell_type": "code",
   "execution_count": 50,
   "id": "60fa7dc7",
   "metadata": {},
   "outputs": [],
   "source": [
    "df = pd.read_csv('../../project/data/synthetic_data_v5.csv')"
   ]
  },
  {
   "cell_type": "markdown",
   "id": "8b39f2ef",
   "metadata": {},
   "source": [
    "# 1. Structuring the data"
   ]
  },
  {
   "cell_type": "code",
   "execution_count": 51,
   "id": "2e26f680",
   "metadata": {},
   "outputs": [
    {
     "data": {
      "text/html": [
       "<div>\n",
       "<style scoped>\n",
       "    .dataframe tbody tr th:only-of-type {\n",
       "        vertical-align: middle;\n",
       "    }\n",
       "\n",
       "    .dataframe tbody tr th {\n",
       "        vertical-align: top;\n",
       "    }\n",
       "\n",
       "    .dataframe thead th {\n",
       "        text-align: right;\n",
       "    }\n",
       "</style>\n",
       "<table border=\"1\" class=\"dataframe\">\n",
       "  <thead>\n",
       "    <tr style=\"text-align: right;\">\n",
       "      <th></th>\n",
       "      <th>transaction_date</th>\n",
       "      <th>category</th>\n",
       "      <th>product</th>\n",
       "      <th>amount</th>\n",
       "      <th>is_event</th>\n",
       "      <th>event_name</th>\n",
       "      <th>is_holiday</th>\n",
       "    </tr>\n",
       "  </thead>\n",
       "  <tbody>\n",
       "    <tr>\n",
       "      <th>94115</th>\n",
       "      <td>2025-06-30</td>\n",
       "      <td>government</td>\n",
       "      <td>tax_payment</td>\n",
       "      <td>6000.73</td>\n",
       "      <td>True</td>\n",
       "      <td>New Year English</td>\n",
       "      <td>True</td>\n",
       "    </tr>\n",
       "    <tr>\n",
       "      <th>94116</th>\n",
       "      <td>2025-06-30</td>\n",
       "      <td>government</td>\n",
       "      <td>govt_fee</td>\n",
       "      <td>6556.95</td>\n",
       "      <td>True</td>\n",
       "      <td>New Year English</td>\n",
       "      <td>True</td>\n",
       "    </tr>\n",
       "    <tr>\n",
       "      <th>94117</th>\n",
       "      <td>2025-06-30</td>\n",
       "      <td>shopping</td>\n",
       "      <td>online_shopping</td>\n",
       "      <td>1484.73</td>\n",
       "      <td>True</td>\n",
       "      <td>New Year English</td>\n",
       "      <td>True</td>\n",
       "    </tr>\n",
       "    <tr>\n",
       "      <th>94118</th>\n",
       "      <td>2025-06-30</td>\n",
       "      <td>insurance</td>\n",
       "      <td>insurance_payment</td>\n",
       "      <td>1138.25</td>\n",
       "      <td>True</td>\n",
       "      <td>New Year English</td>\n",
       "      <td>True</td>\n",
       "    </tr>\n",
       "    <tr>\n",
       "      <th>94119</th>\n",
       "      <td>2025-06-30</td>\n",
       "      <td>shopping</td>\n",
       "      <td>mobile_data_pack</td>\n",
       "      <td>6630.10</td>\n",
       "      <td>True</td>\n",
       "      <td>New Year English</td>\n",
       "      <td>True</td>\n",
       "    </tr>\n",
       "  </tbody>\n",
       "</table>\n",
       "</div>"
      ],
      "text/plain": [
       "      transaction_date    category            product   amount  is_event  \\\n",
       "94115       2025-06-30  government        tax_payment  6000.73      True   \n",
       "94116       2025-06-30  government           govt_fee  6556.95      True   \n",
       "94117       2025-06-30    shopping    online_shopping  1484.73      True   \n",
       "94118       2025-06-30   insurance  insurance_payment  1138.25      True   \n",
       "94119       2025-06-30    shopping   mobile_data_pack  6630.10      True   \n",
       "\n",
       "             event_name  is_holiday  \n",
       "94115  New Year English        True  \n",
       "94116  New Year English        True  \n",
       "94117  New Year English        True  \n",
       "94118  New Year English        True  \n",
       "94119  New Year English        True  "
      ]
     },
     "execution_count": 51,
     "metadata": {},
     "output_type": "execute_result"
    }
   ],
   "source": [
    "df.tail()"
   ]
  },
  {
   "cell_type": "code",
   "execution_count": 52,
   "id": "97dc2484",
   "metadata": {},
   "outputs": [
    {
     "name": "stdout",
     "output_type": "stream",
     "text": [
      "<class 'pandas.core.frame.DataFrame'>\n",
      "RangeIndex: 94120 entries, 0 to 94119\n",
      "Data columns (total 7 columns):\n",
      " #   Column            Non-Null Count  Dtype  \n",
      "---  ------            --------------  -----  \n",
      " 0   transaction_date  94120 non-null  object \n",
      " 1   category          94120 non-null  object \n",
      " 2   product           94120 non-null  object \n",
      " 3   amount            94120 non-null  float64\n",
      " 4   is_event          94120 non-null  bool   \n",
      " 5   event_name        13574 non-null  object \n",
      " 6   is_holiday        94120 non-null  bool   \n",
      "dtypes: bool(2), float64(1), object(4)\n",
      "memory usage: 3.8+ MB\n"
     ]
    }
   ],
   "source": [
    "df.info()"
   ]
  },
  {
   "cell_type": "code",
   "execution_count": 53,
   "id": "b4502b6d",
   "metadata": {},
   "outputs": [],
   "source": [
    "df['transaction_date'] = pd.to_datetime(df['transaction_date'])"
   ]
  },
  {
   "cell_type": "code",
   "execution_count": 54,
   "id": "c285a970",
   "metadata": {},
   "outputs": [],
   "source": [
    "\n",
    "# Set full date range\n",
    "full_date_range = pd.date_range(start=df['transaction_date'].min(),\n",
    "                                end=df['transaction_date'].max())\n",
    "\n",
    "# Get all unique categories or products\n",
    "all_categories = df['category'].unique()\n",
    "\n",
    "# Create complete cartesian product of dates and categories\n",
    "complete_index = pd.MultiIndex.from_product(\n",
    "    [all_categories, full_date_range],\n",
    "    names=['category', 'transaction_date']\n",
    ")\n",
    "\n",
    "# Group & aggregate per day per category if not already\n",
    "df_daily = df.groupby(['category', 'transaction_date']) \\\n",
    "    .agg({\n",
    "            \"amount\": \"sum\",\n",
    "            \"is_event\": \"max\",    # If any row that day is a festival, mark it as True\n",
    "            \"event_name\": \"first\",   # Just keep the first festival name (optional)\n",
    "            \"is_holiday\": \"max\"      # If any row that day is a holiday, mark it as True\n",
    "        }).reset_index()\n",
    "                                                        \n",
    "\n",
    "# Reindex to include all date-category pairs\n",
    "df_full = df_daily.set_index(['category', 'transaction_date']).reindex(complete_index)\n",
    "\n",
    "# Fill missing amount with 0\n",
    "df_full['amount'] = df_full['amount'].fillna(0)\n",
    "\n",
    "# Reset index for further processing\n",
    "aggregated_df = df_full.reset_index()\n",
    "\n"
   ]
  },
  {
   "cell_type": "code",
   "execution_count": 55,
   "id": "1b7b5383",
   "metadata": {},
   "outputs": [
    {
     "name": "stdout",
     "output_type": "stream",
     "text": [
      "<class 'pandas.core.frame.DataFrame'>\n",
      "RangeIndex: 9873 entries, 0 to 9872\n",
      "Data columns (total 6 columns):\n",
      " #   Column            Non-Null Count  Dtype         \n",
      "---  ------            --------------  -----         \n",
      " 0   category          9873 non-null   object        \n",
      " 1   transaction_date  9873 non-null   datetime64[ns]\n",
      " 2   amount            9873 non-null   float64       \n",
      " 3   is_event          9840 non-null   object        \n",
      " 4   event_name        641 non-null    object        \n",
      " 5   is_holiday        9840 non-null   object        \n",
      "dtypes: datetime64[ns](1), float64(1), object(4)\n",
      "memory usage: 462.9+ KB\n"
     ]
    }
   ],
   "source": [
    "aggregated_df.info()"
   ]
  },
  {
   "cell_type": "code",
   "execution_count": 56,
   "id": "02c05d04",
   "metadata": {},
   "outputs": [],
   "source": [
    "aggregated_df['is_event'] = aggregated_df['is_event'].astype('bool')\n",
    "aggregated_df['is_holiday'] = aggregated_df['is_holiday'].astype('bool')"
   ]
  },
  {
   "cell_type": "code",
   "execution_count": 57,
   "id": "da11882f",
   "metadata": {},
   "outputs": [
    {
     "name": "stdout",
     "output_type": "stream",
     "text": [
      "<class 'pandas.core.frame.DataFrame'>\n",
      "RangeIndex: 9873 entries, 0 to 9872\n",
      "Data columns (total 6 columns):\n",
      " #   Column            Non-Null Count  Dtype         \n",
      "---  ------            --------------  -----         \n",
      " 0   category          9873 non-null   object        \n",
      " 1   transaction_date  9873 non-null   datetime64[ns]\n",
      " 2   amount            9873 non-null   float64       \n",
      " 3   is_event          9873 non-null   bool          \n",
      " 4   event_name        641 non-null    object        \n",
      " 5   is_holiday        9873 non-null   bool          \n",
      "dtypes: bool(2), datetime64[ns](1), float64(1), object(2)\n",
      "memory usage: 327.9+ KB\n"
     ]
    }
   ],
   "source": [
    "aggregated_df.info()"
   ]
  },
  {
   "cell_type": "code",
   "execution_count": 61,
   "id": "7023e36f",
   "metadata": {},
   "outputs": [],
   "source": [
    "aggregated_df.rename(columns={'amount': \"transaction_amount\"}, inplace=True)"
   ]
  },
  {
   "cell_type": "code",
   "execution_count": 62,
   "id": "876588df",
   "metadata": {},
   "outputs": [],
   "source": [
    "# Step 3: Sort the result\n",
    "aggregated_df.sort_values([\"category\", \"transaction_date\"], inplace=True)"
   ]
  },
  {
   "cell_type": "code",
   "execution_count": 63,
   "id": "2e9ce6c9",
   "metadata": {},
   "outputs": [
    {
     "data": {
      "text/plain": [
       "is_event\n",
       "False    9237\n",
       "True      636\n",
       "Name: count, dtype: int64"
      ]
     },
     "execution_count": 63,
     "metadata": {},
     "output_type": "execute_result"
    }
   ],
   "source": [
    "aggregated_df.is_event.value_counts()"
   ]
  },
  {
   "cell_type": "code",
   "execution_count": 64,
   "id": "18c21cc8",
   "metadata": {},
   "outputs": [
    {
     "data": {
      "text/plain": [
       "(9873, 6)"
      ]
     },
     "execution_count": 64,
     "metadata": {},
     "output_type": "execute_result"
    }
   ],
   "source": [
    "aggregated_df.shape"
   ]
  },
  {
   "cell_type": "markdown",
   "id": "b2db7a5f",
   "metadata": {},
   "source": [
    "# 2. Data Profiling"
   ]
  },
  {
   "cell_type": "code",
   "execution_count": 65,
   "id": "5e04b293",
   "metadata": {},
   "outputs": [
    {
     "data": {
      "text/plain": [
       "array(['New Year English', None, 'Maghe Sankranti', \"Valentine's Day\",\n",
       "       'Shivaratri', 'Holi', 'New Year Nepali', \"Mother's Day\",\n",
       "       'Buddha Jayanti', 'Rakhshya Bandhan', 'Teej', 'Indra Jatra',\n",
       "       'Dashain Day 1', 'Dashain Day 2', 'Dashain Day 3', 'Dashain Day 4',\n",
       "       'Dashain Day 5', 'Tihar Day 1', 'Tihar Day 2', 'Tihar Day 3',\n",
       "       'Tihar Day 4', 'Chhath', 'Christmas', 'Earthquake',\n",
       "       'Recession Alert', nan], dtype=object)"
      ]
     },
     "execution_count": 65,
     "metadata": {},
     "output_type": "execute_result"
    }
   ],
   "source": [
    "aggregated_df.event_name.unique()"
   ]
  },
  {
   "cell_type": "markdown",
   "id": "d5388e0c",
   "metadata": {},
   "source": [
    "# 3. Feature Engineering"
   ]
  },
  {
   "cell_type": "code",
   "execution_count": 66,
   "id": "1933b773",
   "metadata": {},
   "outputs": [],
   "source": [
    "def classify_event(name):\n",
    "    if pd.isna(name):\n",
    "        return \"none\"\n",
    "    if name.lower() in [\"earthquake\", \"recession alert\"]:\n",
    "        return \"disaster\"\n",
    "    return \"festival\"\n",
    "\n",
    "aggregated_df[\"event_type\"] = aggregated_df[\"event_name\"].apply(classify_event)\n"
   ]
  },
  {
   "cell_type": "code",
   "execution_count": 67,
   "id": "a16db475",
   "metadata": {},
   "outputs": [
    {
     "data": {
      "text/plain": [
       "event_type\n",
       "none        9232\n",
       "festival     603\n",
       "disaster      38\n",
       "Name: count, dtype: int64"
      ]
     },
     "execution_count": 67,
     "metadata": {},
     "output_type": "execute_result"
    }
   ],
   "source": [
    "aggregated_df.event_type.value_counts()"
   ]
  },
  {
   "cell_type": "markdown",
   "id": "958ac448",
   "metadata": {},
   "source": [
    "### 3.1 Accounting for pre and post event effects"
   ]
  },
  {
   "cell_type": "code",
   "execution_count": 68,
   "id": "5b8f49f1",
   "metadata": {},
   "outputs": [],
   "source": [
    "from datetime import timedelta\n",
    "\n",
    "# Get all event dates by product\n",
    "event_dates = aggregated_df.dropna(subset=[\"event_name\"])[[\"transaction_date\", \"category\"]]\n",
    "\n",
    "# Initialize flags\n",
    "aggregated_df[\"pre_event_window\"] = False\n",
    "aggregated_df[\"post_event_window\"] = False\n",
    "\n",
    "# Loop through events to set flags\n",
    "for _, row in event_dates.iterrows():\n",
    "    prod = row[\"category\"]\n",
    "    date = row[\"transaction_date\"]\n",
    "\n",
    "    mask_pre = (aggregated_df[\"category\"] == prod) & \\\n",
    "               (aggregated_df[\"transaction_date\"] >= date - timedelta(days=7)) & \\\n",
    "               (aggregated_df[\"transaction_date\"] < date)\n",
    "    \n",
    "    mask_post = (aggregated_df[\"category\"] == prod) & \\\n",
    "                (aggregated_df[\"transaction_date\"] > date) & \\\n",
    "                (aggregated_df[\"transaction_date\"] <= date + timedelta(days=7))\n",
    "\n",
    "    aggregated_df.loc[mask_pre, \"pre_event_window\"] = True\n",
    "    aggregated_df.loc[mask_post, \"post_event_window\"] = True\n"
   ]
  },
  {
   "cell_type": "code",
   "execution_count": 69,
   "id": "85e01fef",
   "metadata": {},
   "outputs": [
    {
     "data": {
      "text/html": [
       "<div>\n",
       "<style scoped>\n",
       "    .dataframe tbody tr th:only-of-type {\n",
       "        vertical-align: middle;\n",
       "    }\n",
       "\n",
       "    .dataframe tbody tr th {\n",
       "        vertical-align: top;\n",
       "    }\n",
       "\n",
       "    .dataframe thead th {\n",
       "        text-align: right;\n",
       "    }\n",
       "</style>\n",
       "<table border=\"1\" class=\"dataframe\">\n",
       "  <thead>\n",
       "    <tr style=\"text-align: right;\">\n",
       "      <th></th>\n",
       "      <th>category</th>\n",
       "      <th>transaction_date</th>\n",
       "      <th>transaction_amount</th>\n",
       "      <th>is_event</th>\n",
       "      <th>event_name</th>\n",
       "      <th>is_holiday</th>\n",
       "      <th>event_type</th>\n",
       "      <th>pre_event_window</th>\n",
       "      <th>post_event_window</th>\n",
       "    </tr>\n",
       "  </thead>\n",
       "  <tbody>\n",
       "    <tr>\n",
       "      <th>4388</th>\n",
       "      <td>bank_transaction</td>\n",
       "      <td>2022-06-30</td>\n",
       "      <td>111018.88</td>\n",
       "      <td>True</td>\n",
       "      <td>New Year English</td>\n",
       "      <td>True</td>\n",
       "      <td>festival</td>\n",
       "      <td>False</td>\n",
       "      <td>False</td>\n",
       "    </tr>\n",
       "    <tr>\n",
       "      <th>4389</th>\n",
       "      <td>bank_transaction</td>\n",
       "      <td>2022-07-01</td>\n",
       "      <td>24268.32</td>\n",
       "      <td>False</td>\n",
       "      <td>None</td>\n",
       "      <td>True</td>\n",
       "      <td>none</td>\n",
       "      <td>False</td>\n",
       "      <td>True</td>\n",
       "    </tr>\n",
       "    <tr>\n",
       "      <th>4390</th>\n",
       "      <td>bank_transaction</td>\n",
       "      <td>2022-07-02</td>\n",
       "      <td>23241.56</td>\n",
       "      <td>False</td>\n",
       "      <td>None</td>\n",
       "      <td>False</td>\n",
       "      <td>none</td>\n",
       "      <td>False</td>\n",
       "      <td>True</td>\n",
       "    </tr>\n",
       "    <tr>\n",
       "      <th>4391</th>\n",
       "      <td>bank_transaction</td>\n",
       "      <td>2022-07-03</td>\n",
       "      <td>14484.37</td>\n",
       "      <td>False</td>\n",
       "      <td>None</td>\n",
       "      <td>False</td>\n",
       "      <td>none</td>\n",
       "      <td>False</td>\n",
       "      <td>True</td>\n",
       "    </tr>\n",
       "    <tr>\n",
       "      <th>4392</th>\n",
       "      <td>bank_transaction</td>\n",
       "      <td>2022-07-04</td>\n",
       "      <td>7357.62</td>\n",
       "      <td>False</td>\n",
       "      <td>None</td>\n",
       "      <td>False</td>\n",
       "      <td>none</td>\n",
       "      <td>False</td>\n",
       "      <td>True</td>\n",
       "    </tr>\n",
       "  </tbody>\n",
       "</table>\n",
       "</div>"
      ],
      "text/plain": [
       "              category transaction_date  transaction_amount  is_event  \\\n",
       "4388  bank_transaction       2022-06-30           111018.88      True   \n",
       "4389  bank_transaction       2022-07-01            24268.32     False   \n",
       "4390  bank_transaction       2022-07-02            23241.56     False   \n",
       "4391  bank_transaction       2022-07-03            14484.37     False   \n",
       "4392  bank_transaction       2022-07-04             7357.62     False   \n",
       "\n",
       "            event_name  is_holiday event_type  pre_event_window  \\\n",
       "4388  New Year English        True   festival             False   \n",
       "4389              None        True       none             False   \n",
       "4390              None       False       none             False   \n",
       "4391              None       False       none             False   \n",
       "4392              None       False       none             False   \n",
       "\n",
       "      post_event_window  \n",
       "4388              False  \n",
       "4389               True  \n",
       "4390               True  \n",
       "4391               True  \n",
       "4392               True  "
      ]
     },
     "execution_count": 69,
     "metadata": {},
     "output_type": "execute_result"
    }
   ],
   "source": [
    "aggregated_df.head()"
   ]
  },
  {
   "cell_type": "code",
   "execution_count": 70,
   "id": "c428889e",
   "metadata": {},
   "outputs": [],
   "source": [
    "# aggregated_df.set_index(['transaction_date'], inplace=True)\n",
    "#"
   ]
  },
  {
   "cell_type": "code",
   "execution_count": 71,
   "id": "d6457725",
   "metadata": {},
   "outputs": [],
   "source": [
    "# unique_categories = aggregated_df['category'].unique()\n",
    "\n",
    "# for cat in unique_categories:\n",
    "#     rolling_mean_data = aggregated_df[aggregated_df['category'] == cat]['transaction_amount'].rolling(window=20).mean()\n",
    "#     aggregated_df.loc[aggregated_df['category'] == cat, 'transaction_amount'] = rolling_mean_data"
   ]
  },
  {
   "cell_type": "code",
   "execution_count": 72,
   "id": "84082e2d",
   "metadata": {},
   "outputs": [
    {
     "data": {
      "text/plain": [
       "<Axes: >"
      ]
     },
     "execution_count": 72,
     "metadata": {},
     "output_type": "execute_result"
    },
    {
     "data": {
      "image/png": "[encoded data removed]",
      "text/plain": [
       "<Figure size 640x480 with 2 Axes>"
      ]
     },
     "metadata": {},
     "output_type": "display_data"
    }
   ],
   "source": [
    "sns.heatmap(aggregated_df.isna())"
   ]
  },
  {
   "cell_type": "code",
   "execution_count": 73,
   "id": "85355306",
   "metadata": {},
   "outputs": [
    {
     "data": {
      "text/plain": [
       "<Axes: >"
      ]
     },
     "execution_count": 73,
     "metadata": {},
     "output_type": "execute_result"
    },
    {
     "data": {
      "image/png": "[encoded data removed]",
      "text/plain": [
       "<Figure size 640x480 with 1 Axes>"
      ]
     },
     "metadata": {},
     "output_type": "display_data"
    }
   ],
   "source": [
    "aggregated_df['transaction_amount'][aggregated_df['category'] == 'bank_transaction'].plot()"
   ]
  },
  {
   "cell_type": "markdown",
   "id": "b0e7b719",
   "metadata": {},
   "source": [
    "### 3.2 Making cyclical features for the dates"
   ]
  },
  {
   "cell_type": "code",
   "execution_count": 74,
   "id": "b698aff1",
   "metadata": {},
   "outputs": [],
   "source": [
    "# Day of Week (0 to 6)\n",
    "aggregated_df[\"day_of_week\"] = aggregated_df[\"transaction_date\"].dt.dayofweek\n",
    "# Shift so that Sunday = 1, Monday = 2, ..., Saturday = 7\n",
    "aggregated_df[\"day_of_week\"] = ((aggregated_df[\"day_of_week\"] + 1) % 7) + 1\n",
    "aggregated_df[\"day_of_week_sin\"] = np.sin(2 * np.pi * aggregated_df[\"day_of_week\"] / 7)\n",
    "aggregated_df[\"day_of_week_cos\"] = np.cos(2 * np.pi * aggregated_df[\"day_of_week\"] / 7)\n",
    "\n",
    "# Month (1 to 12)\n",
    "aggregated_df[\"month\"] = aggregated_df[\"transaction_date\"].dt.month\n",
    "aggregated_df[\"month_sin\"] = np.sin(2 * np.pi * aggregated_df[\"month\"] / 12)\n",
    "aggregated_df[\"month_cos\"] = np.cos(2 * np.pi * aggregated_df[\"month\"] / 12)\n",
    "\n",
    "\n",
    "# Year (1 to 365)\n",
    "aggregated_df[\"day_of_year\"] = aggregated_df[\"transaction_date\"].dt.dayofyear\n",
    "aggregated_df[\"day_of_year_sin\"] = np.sin(2 * np.pi * aggregated_df[\"day_of_year\"] / 365)\n",
    "aggregated_df[\"day_of_year_cos\"] = np.cos(2 * np.pi * aggregated_df[\"day_of_year\"] / 365)"
   ]
  },
  {
   "cell_type": "code",
   "execution_count": 75,
   "id": "c2b8e813",
   "metadata": {},
   "outputs": [],
   "source": [
    "aggregated_df.drop(columns=[\"day_of_week\", \"month\", 'day_of_year'], inplace=True)"
   ]
  },
  {
   "cell_type": "code",
   "execution_count": 76,
   "id": "f517eacd",
   "metadata": {},
   "outputs": [
    {
     "data": {
      "text/plain": [
       "(9873, 15)"
      ]
     },
     "execution_count": 76,
     "metadata": {},
     "output_type": "execute_result"
    }
   ],
   "source": [
    "aggregated_df.shape"
   ]
  },
  {
   "cell_type": "markdown",
   "id": "dab339ba",
   "metadata": {},
   "source": [
    "### 3.3 Removing the unwanted columns"
   ]
  },
  {
   "cell_type": "code",
   "execution_count": 77,
   "id": "6d084499",
   "metadata": {},
   "outputs": [],
   "source": [
    "aggregated_df.drop(columns=['event_name'], inplace=True)"
   ]
  },
  {
   "cell_type": "markdown",
   "id": "e0d35dd2",
   "metadata": {},
   "source": [
    "### 3.4 Creating Lag features and rolling mean statistics"
   ]
  },
  {
   "cell_type": "code",
   "execution_count": 78,
   "id": "62eeb8bc",
   "metadata": {},
   "outputs": [],
   "source": [
    "# Ensure the data is sorted by date\n",
    "aggregated_df = aggregated_df.sort_values([\"category\", \"transaction_date\"])\n",
    "\n",
    "# Create lag features\n",
    "for lag in [1, 7, 14]:\n",
    "    aggregated_df[f\"lag_{lag}\"] = aggregated_df.groupby(\"category\")[\"transaction_amount\"].shift(lag)\n"
   ]
  },
  {
   "cell_type": "code",
   "execution_count": 79,
   "id": "109658e9",
   "metadata": {},
   "outputs": [],
   "source": [
    "# Create 7-day and 30-day rolling means\n",
    "for window in [7, 14]:\n",
    "    aggregated_df[f\"rolling_mean_{window}\"] = (\n",
    "        aggregated_df.groupby(\"category\")[\"transaction_amount\"]\n",
    "        .transform(lambda x: x.shift(1).rolling(window=window).mean())\n",
    "    )\n"
   ]
  },
  {
   "cell_type": "markdown",
   "id": "77ca6a4f",
   "metadata": {},
   "source": [
    "### 3.4 Droping unwanted rows"
   ]
  },
  {
   "cell_type": "code",
   "execution_count": 80,
   "id": "c7c3b57a",
   "metadata": {},
   "outputs": [],
   "source": [
    "aggregated_df.dropna(inplace=True)"
   ]
  },
  {
   "cell_type": "code",
   "execution_count": 81,
   "id": "6946d455",
   "metadata": {},
   "outputs": [
    {
     "data": {
      "text/plain": [
       "(9747, 19)"
      ]
     },
     "execution_count": 81,
     "metadata": {},
     "output_type": "execute_result"
    }
   ],
   "source": [
    "aggregated_df.shape"
   ]
  },
  {
   "cell_type": "markdown",
   "id": "1eb6439c",
   "metadata": {},
   "source": [
    "# 4. Performing the train-test split"
   ]
  },
  {
   "cell_type": "code",
   "execution_count": 82,
   "id": "d66e76c4",
   "metadata": {},
   "outputs": [],
   "source": [
    "train_list, test_list = [], []\n",
    "\n",
    "for cat in aggregated_df['category'].unique():\n",
    "    df_cat = aggregated_df[aggregated_df['category'] == cat]\n",
    "    cutoff = df_cat['transaction_date'].quantile(0.8)\n",
    "    \n",
    "    train_list.append(df_cat[df_cat['transaction_date'] <= cutoff])\n",
    "    test_list.append(df_cat[df_cat['transaction_date'] > cutoff])\n",
    "\n",
    "train_df = pd.concat(train_list)\n",
    "test_df = pd.concat(test_list)\n"
   ]
  },
  {
   "cell_type": "code",
   "execution_count": 83,
   "id": "37b23d37",
   "metadata": {},
   "outputs": [
    {
     "data": {
      "text/html": [
       "<div>\n",
       "<style scoped>\n",
       "    .dataframe tbody tr th:only-of-type {\n",
       "        vertical-align: middle;\n",
       "    }\n",
       "\n",
       "    .dataframe tbody tr th {\n",
       "        vertical-align: top;\n",
       "    }\n",
       "\n",
       "    .dataframe thead th {\n",
       "        text-align: right;\n",
       "    }\n",
       "</style>\n",
       "<table border=\"1\" class=\"dataframe\">\n",
       "  <thead>\n",
       "    <tr style=\"text-align: right;\">\n",
       "      <th></th>\n",
       "      <th>category</th>\n",
       "      <th>transaction_date</th>\n",
       "      <th>transaction_amount</th>\n",
       "      <th>is_event</th>\n",
       "      <th>is_holiday</th>\n",
       "      <th>event_type</th>\n",
       "      <th>pre_event_window</th>\n",
       "      <th>post_event_window</th>\n",
       "      <th>day_of_week_sin</th>\n",
       "      <th>day_of_week_cos</th>\n",
       "      <th>month_sin</th>\n",
       "      <th>month_cos</th>\n",
       "      <th>day_of_year_sin</th>\n",
       "      <th>day_of_year_cos</th>\n",
       "      <th>lag_1</th>\n",
       "      <th>lag_7</th>\n",
       "      <th>lag_14</th>\n",
       "      <th>rolling_mean_7</th>\n",
       "      <th>rolling_mean_14</th>\n",
       "    </tr>\n",
       "  </thead>\n",
       "  <tbody>\n",
       "    <tr>\n",
       "      <th>4402</th>\n",
       "      <td>bank_transaction</td>\n",
       "      <td>2022-07-14</td>\n",
       "      <td>18564.22</td>\n",
       "      <td>False</td>\n",
       "      <td>False</td>\n",
       "      <td>none</td>\n",
       "      <td>False</td>\n",
       "      <td>True</td>\n",
       "      <td>-9.749279e-01</td>\n",
       "      <td>-0.222521</td>\n",
       "      <td>-0.5</td>\n",
       "      <td>-0.866025</td>\n",
       "      <td>-0.213521</td>\n",
       "      <td>-0.976938</td>\n",
       "      <td>66836.10</td>\n",
       "      <td>21926.41</td>\n",
       "      <td>111018.88</td>\n",
       "      <td>27792.874286</td>\n",
       "      <td>29495.373571</td>\n",
       "    </tr>\n",
       "    <tr>\n",
       "      <th>4403</th>\n",
       "      <td>bank_transaction</td>\n",
       "      <td>2022-07-15</td>\n",
       "      <td>12115.95</td>\n",
       "      <td>False</td>\n",
       "      <td>True</td>\n",
       "      <td>none</td>\n",
       "      <td>False</td>\n",
       "      <td>True</td>\n",
       "      <td>-7.818315e-01</td>\n",
       "      <td>0.623490</td>\n",
       "      <td>-0.5</td>\n",
       "      <td>-0.866025</td>\n",
       "      <td>-0.230306</td>\n",
       "      <td>-0.973118</td>\n",
       "      <td>18564.22</td>\n",
       "      <td>21061.24</td>\n",
       "      <td>24268.32</td>\n",
       "      <td>27312.561429</td>\n",
       "      <td>22891.469286</td>\n",
       "    </tr>\n",
       "    <tr>\n",
       "      <th>4404</th>\n",
       "      <td>bank_transaction</td>\n",
       "      <td>2022-07-16</td>\n",
       "      <td>21987.26</td>\n",
       "      <td>False</td>\n",
       "      <td>False</td>\n",
       "      <td>none</td>\n",
       "      <td>False</td>\n",
       "      <td>True</td>\n",
       "      <td>-2.449294e-16</td>\n",
       "      <td>1.000000</td>\n",
       "      <td>-0.5</td>\n",
       "      <td>-0.866025</td>\n",
       "      <td>-0.247022</td>\n",
       "      <td>-0.969010</td>\n",
       "      <td>12115.95</td>\n",
       "      <td>11715.77</td>\n",
       "      <td>23241.56</td>\n",
       "      <td>26034.662857</td>\n",
       "      <td>22023.442857</td>\n",
       "    </tr>\n",
       "    <tr>\n",
       "      <th>4405</th>\n",
       "      <td>bank_transaction</td>\n",
       "      <td>2022-07-17</td>\n",
       "      <td>38750.07</td>\n",
       "      <td>False</td>\n",
       "      <td>False</td>\n",
       "      <td>none</td>\n",
       "      <td>False</td>\n",
       "      <td>True</td>\n",
       "      <td>7.818315e-01</td>\n",
       "      <td>0.623490</td>\n",
       "      <td>-0.5</td>\n",
       "      <td>-0.866025</td>\n",
       "      <td>-0.263665</td>\n",
       "      <td>-0.964614</td>\n",
       "      <td>21987.26</td>\n",
       "      <td>26315.41</td>\n",
       "      <td>14484.37</td>\n",
       "      <td>27502.018571</td>\n",
       "      <td>21933.850000</td>\n",
       "    </tr>\n",
       "    <tr>\n",
       "      <th>4406</th>\n",
       "      <td>bank_transaction</td>\n",
       "      <td>2022-07-18</td>\n",
       "      <td>18807.53</td>\n",
       "      <td>False</td>\n",
       "      <td>False</td>\n",
       "      <td>none</td>\n",
       "      <td>False</td>\n",
       "      <td>True</td>\n",
       "      <td>9.749279e-01</td>\n",
       "      <td>-0.222521</td>\n",
       "      <td>-0.5</td>\n",
       "      <td>-0.866025</td>\n",
       "      <td>-0.280231</td>\n",
       "      <td>-0.959933</td>\n",
       "      <td>38750.07</td>\n",
       "      <td>27412.51</td>\n",
       "      <td>7357.62</td>\n",
       "      <td>29278.398571</td>\n",
       "      <td>23667.114286</td>\n",
       "    </tr>\n",
       "  </tbody>\n",
       "</table>\n",
       "</div>"
      ],
      "text/plain": [
       "              category transaction_date  transaction_amount  is_event  \\\n",
       "4402  bank_transaction       2022-07-14            18564.22     False   \n",
       "4403  bank_transaction       2022-07-15            12115.95     False   \n",
       "4404  bank_transaction       2022-07-16            21987.26     False   \n",
       "4405  bank_transaction       2022-07-17            38750.07     False   \n",
       "4406  bank_transaction       2022-07-18            18807.53     False   \n",
       "\n",
       "      is_holiday event_type  pre_event_window  post_event_window  \\\n",
       "4402       False       none             False               True   \n",
       "4403        True       none             False               True   \n",
       "4404       False       none             False               True   \n",
       "4405       False       none             False               True   \n",
       "4406       False       none             False               True   \n",
       "\n",
       "      day_of_week_sin  day_of_week_cos  month_sin  month_cos  day_of_year_sin  \\\n",
       "4402    -9.749279e-01        -0.222521       -0.5  -0.866025        -0.213521   \n",
       "4403    -7.818315e-01         0.623490       -0.5  -0.866025        -0.230306   \n",
       "4404    -2.449294e-16         1.000000       -0.5  -0.866025        -0.247022   \n",
       "4405     7.818315e-01         0.623490       -0.5  -0.866025        -0.263665   \n",
       "4406     9.749279e-01        -0.222521       -0.5  -0.866025        -0.280231   \n",
       "\n",
       "      day_of_year_cos     lag_1     lag_7     lag_14  rolling_mean_7  \\\n",
       "4402        -0.976938  66836.10  21926.41  111018.88    27792.874286   \n",
       "4403        -0.973118  18564.22  21061.24   24268.32    27312.561429   \n",
       "4404        -0.969010  12115.95  11715.77   23241.56    26034.662857   \n",
       "4405        -0.964614  21987.26  26315.41   14484.37    27502.018571   \n",
       "4406        -0.959933  38750.07  27412.51    7357.62    29278.398571   \n",
       "\n",
       "      rolling_mean_14  \n",
       "4402     29495.373571  \n",
       "4403     22891.469286  \n",
       "4404     22023.442857  \n",
       "4405     21933.850000  \n",
       "4406     23667.114286  "
      ]
     },
     "execution_count": 83,
     "metadata": {},
     "output_type": "execute_result"
    }
   ],
   "source": [
    "train_df.head()"
   ]
  },
  {
   "cell_type": "markdown",
   "id": "580e0df0",
   "metadata": {},
   "source": [
    "### 4.1.1 Encoding the categorical features using Target Encoding and One-Hot Encoding"
   ]
  },
  {
   "cell_type": "code",
   "execution_count": 84,
   "id": "7845e0ad",
   "metadata": {},
   "outputs": [],
   "source": [
    "# train_df.drop(columns=['transaction_date'], inplace=True)\n",
    "# test_df.drop(columns=['transaction_date'], inplace=True)"
   ]
  },
  {
   "cell_type": "code",
   "execution_count": 85,
   "id": "08a78877",
   "metadata": {},
   "outputs": [
    {
     "name": "stderr",
     "output_type": "stream",
     "text": [
      "C:\\Users\\JARVIS\\AppData\\Local\\Temp\\ipykernel_13868\\1161719989.py:10: FutureWarning: A value is trying to be set on a copy of a DataFrame or Series through chained assignment using an inplace method.\n",
      "The behavior will change in pandas 3.0. This inplace method will never work because the intermediate object on which we are setting values always behaves as a copy.\n",
      "\n",
      "For example, when doing 'df[col].method(value, inplace=True)', try using 'df.method({col: value}, inplace=True)' or df[col] = df[col].method(value) instead, to perform the operation inplace on the original object.\n",
      "\n",
      "\n",
      "  test_df['category'].fillna(global_mean, inplace=True)\n"
     ]
    }
   ],
   "source": [
    "# Step 1: Compute mean target value per category (from training data only)\n",
    "category_target_mean = train_df.groupby('category')['transaction_amount'].mean()\n",
    "\n",
    "# Step 2: Map encoded values to both train and test sets\n",
    "train_df['category'] = train_df['category'].map(category_target_mean)\n",
    "test_df['category'] = test_df['category'].map(category_target_mean)\n",
    "\n",
    "# Step 3 (optional): Fill NaNs in test set (in case unseen categories exist)\n",
    "global_mean = train_df['transaction_amount'].mean()\n",
    "test_df['category'].fillna(global_mean, inplace=True)\n"
   ]
  },
  {
   "cell_type": "code",
   "execution_count": 86,
   "id": "e75c0d6d",
   "metadata": {},
   "outputs": [],
   "source": [
    "from sklearn.preprocessing import OneHotEncoder\n",
    "import pandas as pd\n",
    "\n",
    "# 2. Create and fit encoder\n",
    "encoder = OneHotEncoder(sparse_output=False, handle_unknown='ignore')\n",
    "encoder.fit(train_df[['event_type']])\n",
    "\n",
    "# 3. Transform both train and test\n",
    "train_encoded = encoder.transform(train_df[['event_type']])\n",
    "test_encoded = encoder.transform(test_df[['event_type']])\n",
    "\n",
    "# 4. Get encoded column names\n",
    "encoded_cols = encoder.get_feature_names_out(['event_type'])\n",
    "\n",
    "# 5. Convert to DataFrame\n",
    "train_encoded_df = pd.DataFrame(train_encoded, columns=encoded_cols, index=train_df.index)\n",
    "test_encoded_df = pd.DataFrame(test_encoded, columns=encoded_cols, index=test_df.index)\n",
    "\n",
    "# 6. Merge with original DataFrames\n",
    "train_df = pd.concat([train_df.drop(columns=['event_type']), train_encoded_df], axis=1)\n",
    "test_df = pd.concat([test_df.drop(columns=['event_type']), test_encoded_df], axis=1)\n"
   ]
  },
  {
   "cell_type": "code",
   "execution_count": 87,
   "id": "88ebfc53",
   "metadata": {},
   "outputs": [],
   "source": [
    "X_train = train_df.dropna(subset=['transaction_amount']).drop(columns=['transaction_amount', 'transaction_date'])\n",
    "X_test = test_df.dropna(subset=['transaction_amount']).drop(columns=['transaction_amount', 'transaction_date'])\n",
    "\n",
    "y_train = train_df['transaction_amount']\n",
    "y_test = test_df['transaction_amount']\n"
   ]
  },
  {
   "cell_type": "code",
   "execution_count": 88,
   "id": "c525e8b6",
   "metadata": {},
   "outputs": [
    {
     "name": "stdout",
     "output_type": "stream",
     "text": [
      "<class 'pandas.core.frame.DataFrame'>\n",
      "Index: 7794 entries, 4402 to 879\n",
      "Data columns (total 21 columns):\n",
      " #   Column               Non-Null Count  Dtype         \n",
      "---  ------               --------------  -----         \n",
      " 0   category             7794 non-null   float64       \n",
      " 1   transaction_date     7794 non-null   datetime64[ns]\n",
      " 2   transaction_amount   7794 non-null   float64       \n",
      " 3   is_event             7794 non-null   bool          \n",
      " 4   is_holiday           7794 non-null   bool          \n",
      " 5   pre_event_window     7794 non-null   bool          \n",
      " 6   post_event_window    7794 non-null   bool          \n",
      " 7   day_of_week_sin      7794 non-null   float64       \n",
      " 8   day_of_week_cos      7794 non-null   float64       \n",
      " 9   month_sin            7794 non-null   float64       \n",
      " 10  month_cos            7794 non-null   float64       \n",
      " 11  day_of_year_sin      7794 non-null   float64       \n",
      " 12  day_of_year_cos      7794 non-null   float64       \n",
      " 13  lag_1                7794 non-null   float64       \n",
      " 14  lag_7                7794 non-null   float64       \n",
      " 15  lag_14               7794 non-null   float64       \n",
      " 16  rolling_mean_7       7794 non-null   float64       \n",
      " 17  rolling_mean_14      7794 non-null   float64       \n",
      " 18  event_type_disaster  7794 non-null   float64       \n",
      " 19  event_type_festival  7794 non-null   float64       \n",
      " 20  event_type_none      7794 non-null   float64       \n",
      "dtypes: bool(4), datetime64[ns](1), float64(16)\n",
      "memory usage: 1.1 MB\n"
     ]
    }
   ],
   "source": [
    "train_df.info()"
   ]
  },
  {
   "cell_type": "markdown",
   "id": "bdca746f",
   "metadata": {},
   "source": [
    "# 5. Training the model"
   ]
  },
  {
   "cell_type": "code",
   "execution_count": 89,
   "id": "65970b3b",
   "metadata": {},
   "outputs": [
    {
     "name": "stdout",
     "output_type": "stream",
     "text": [
      "<class 'pandas.core.frame.DataFrame'>\n",
      "Index: 7794 entries, 4402 to 879\n",
      "Data columns (total 21 columns):\n",
      " #   Column               Non-Null Count  Dtype         \n",
      "---  ------               --------------  -----         \n",
      " 0   category             7794 non-null   float64       \n",
      " 1   transaction_date     7794 non-null   datetime64[ns]\n",
      " 2   transaction_amount   7794 non-null   float64       \n",
      " 3   is_event             7794 non-null   bool          \n",
      " 4   is_holiday           7794 non-null   bool          \n",
      " 5   pre_event_window     7794 non-null   bool          \n",
      " 6   post_event_window    7794 non-null   bool          \n",
      " 7   day_of_week_sin      7794 non-null   float64       \n",
      " 8   day_of_week_cos      7794 non-null   float64       \n",
      " 9   month_sin            7794 non-null   float64       \n",
      " 10  month_cos            7794 non-null   float64       \n",
      " 11  day_of_year_sin      7794 non-null   float64       \n",
      " 12  day_of_year_cos      7794 non-null   float64       \n",
      " 13  lag_1                7794 non-null   float64       \n",
      " 14  lag_7                7794 non-null   float64       \n",
      " 15  lag_14               7794 non-null   float64       \n",
      " 16  rolling_mean_7       7794 non-null   float64       \n",
      " 17  rolling_mean_14      7794 non-null   float64       \n",
      " 18  event_type_disaster  7794 non-null   float64       \n",
      " 19  event_type_festival  7794 non-null   float64       \n",
      " 20  event_type_none      7794 non-null   float64       \n",
      "dtypes: bool(4), datetime64[ns](1), float64(16)\n",
      "memory usage: 1.1 MB\n"
     ]
    }
   ],
   "source": [
    "train_df.info()"
   ]
  },
  {
   "cell_type": "code",
   "execution_count": 90,
   "id": "fbebf58b",
   "metadata": {},
   "outputs": [
    {
     "data": {
      "text/html": [
       "<div>\n",
       "<style scoped>\n",
       "    .dataframe tbody tr th:only-of-type {\n",
       "        vertical-align: middle;\n",
       "    }\n",
       "\n",
       "    .dataframe tbody tr th {\n",
       "        vertical-align: top;\n",
       "    }\n",
       "\n",
       "    .dataframe thead th {\n",
       "        text-align: right;\n",
       "    }\n",
       "</style>\n",
       "<table border=\"1\" class=\"dataframe\">\n",
       "  <thead>\n",
       "    <tr style=\"text-align: right;\">\n",
       "      <th></th>\n",
       "      <th>category</th>\n",
       "      <th>transaction_date</th>\n",
       "      <th>transaction_amount</th>\n",
       "      <th>is_event</th>\n",
       "      <th>is_holiday</th>\n",
       "      <th>pre_event_window</th>\n",
       "      <th>post_event_window</th>\n",
       "      <th>day_of_week_sin</th>\n",
       "      <th>day_of_week_cos</th>\n",
       "      <th>month_sin</th>\n",
       "      <th>...</th>\n",
       "      <th>day_of_year_sin</th>\n",
       "      <th>day_of_year_cos</th>\n",
       "      <th>lag_1</th>\n",
       "      <th>lag_7</th>\n",
       "      <th>lag_14</th>\n",
       "      <th>rolling_mean_7</th>\n",
       "      <th>rolling_mean_14</th>\n",
       "      <th>event_type_disaster</th>\n",
       "      <th>event_type_festival</th>\n",
       "      <th>event_type_none</th>\n",
       "    </tr>\n",
       "  </thead>\n",
       "  <tbody>\n",
       "    <tr>\n",
       "      <th>4402</th>\n",
       "      <td>28498.247333</td>\n",
       "      <td>2022-07-14</td>\n",
       "      <td>18564.22</td>\n",
       "      <td>False</td>\n",
       "      <td>False</td>\n",
       "      <td>False</td>\n",
       "      <td>True</td>\n",
       "      <td>-9.749279e-01</td>\n",
       "      <td>-0.222521</td>\n",
       "      <td>-0.5</td>\n",
       "      <td>...</td>\n",
       "      <td>-0.213521</td>\n",
       "      <td>-0.976938</td>\n",
       "      <td>66836.10</td>\n",
       "      <td>21926.41</td>\n",
       "      <td>111018.88</td>\n",
       "      <td>27792.874286</td>\n",
       "      <td>29495.373571</td>\n",
       "      <td>0.0</td>\n",
       "      <td>0.0</td>\n",
       "      <td>1.0</td>\n",
       "    </tr>\n",
       "    <tr>\n",
       "      <th>4403</th>\n",
       "      <td>28498.247333</td>\n",
       "      <td>2022-07-15</td>\n",
       "      <td>12115.95</td>\n",
       "      <td>False</td>\n",
       "      <td>True</td>\n",
       "      <td>False</td>\n",
       "      <td>True</td>\n",
       "      <td>-7.818315e-01</td>\n",
       "      <td>0.623490</td>\n",
       "      <td>-0.5</td>\n",
       "      <td>...</td>\n",
       "      <td>-0.230306</td>\n",
       "      <td>-0.973118</td>\n",
       "      <td>18564.22</td>\n",
       "      <td>21061.24</td>\n",
       "      <td>24268.32</td>\n",
       "      <td>27312.561429</td>\n",
       "      <td>22891.469286</td>\n",
       "      <td>0.0</td>\n",
       "      <td>0.0</td>\n",
       "      <td>1.0</td>\n",
       "    </tr>\n",
       "    <tr>\n",
       "      <th>4404</th>\n",
       "      <td>28498.247333</td>\n",
       "      <td>2022-07-16</td>\n",
       "      <td>21987.26</td>\n",
       "      <td>False</td>\n",
       "      <td>False</td>\n",
       "      <td>False</td>\n",
       "      <td>True</td>\n",
       "      <td>-2.449294e-16</td>\n",
       "      <td>1.000000</td>\n",
       "      <td>-0.5</td>\n",
       "      <td>...</td>\n",
       "      <td>-0.247022</td>\n",
       "      <td>-0.969010</td>\n",
       "      <td>12115.95</td>\n",
       "      <td>11715.77</td>\n",
       "      <td>23241.56</td>\n",
       "      <td>26034.662857</td>\n",
       "      <td>22023.442857</td>\n",
       "      <td>0.0</td>\n",
       "      <td>0.0</td>\n",
       "      <td>1.0</td>\n",
       "    </tr>\n",
       "    <tr>\n",
       "      <th>4405</th>\n",
       "      <td>28498.247333</td>\n",
       "      <td>2022-07-17</td>\n",
       "      <td>38750.07</td>\n",
       "      <td>False</td>\n",
       "      <td>False</td>\n",
       "      <td>False</td>\n",
       "      <td>True</td>\n",
       "      <td>7.818315e-01</td>\n",
       "      <td>0.623490</td>\n",
       "      <td>-0.5</td>\n",
       "      <td>...</td>\n",
       "      <td>-0.263665</td>\n",
       "      <td>-0.964614</td>\n",
       "      <td>21987.26</td>\n",
       "      <td>26315.41</td>\n",
       "      <td>14484.37</td>\n",
       "      <td>27502.018571</td>\n",
       "      <td>21933.850000</td>\n",
       "      <td>0.0</td>\n",
       "      <td>0.0</td>\n",
       "      <td>1.0</td>\n",
       "    </tr>\n",
       "    <tr>\n",
       "      <th>4406</th>\n",
       "      <td>28498.247333</td>\n",
       "      <td>2022-07-18</td>\n",
       "      <td>18807.53</td>\n",
       "      <td>False</td>\n",
       "      <td>False</td>\n",
       "      <td>False</td>\n",
       "      <td>True</td>\n",
       "      <td>9.749279e-01</td>\n",
       "      <td>-0.222521</td>\n",
       "      <td>-0.5</td>\n",
       "      <td>...</td>\n",
       "      <td>-0.280231</td>\n",
       "      <td>-0.959933</td>\n",
       "      <td>38750.07</td>\n",
       "      <td>27412.51</td>\n",
       "      <td>7357.62</td>\n",
       "      <td>29278.398571</td>\n",
       "      <td>23667.114286</td>\n",
       "      <td>0.0</td>\n",
       "      <td>0.0</td>\n",
       "      <td>1.0</td>\n",
       "    </tr>\n",
       "  </tbody>\n",
       "</table>\n",
       "<p>5 rows × 21 columns</p>\n",
       "</div>"
      ],
      "text/plain": [
       "          category transaction_date  transaction_amount  is_event  is_holiday  \\\n",
       "4402  28498.247333       2022-07-14            18564.22     False       False   \n",
       "4403  28498.247333       2022-07-15            12115.95     False        True   \n",
       "4404  28498.247333       2022-07-16            21987.26     False       False   \n",
       "4405  28498.247333       2022-07-17            38750.07     False       False   \n",
       "4406  28498.247333       2022-07-18            18807.53     False       False   \n",
       "\n",
       "      pre_event_window  post_event_window  day_of_week_sin  day_of_week_cos  \\\n",
       "4402             False               True    -9.749279e-01        -0.222521   \n",
       "4403             False               True    -7.818315e-01         0.623490   \n",
       "4404             False               True    -2.449294e-16         1.000000   \n",
       "4405             False               True     7.818315e-01         0.623490   \n",
       "4406             False               True     9.749279e-01        -0.222521   \n",
       "\n",
       "      month_sin  ...  day_of_year_sin  day_of_year_cos     lag_1     lag_7  \\\n",
       "4402       -0.5  ...        -0.213521        -0.976938  66836.10  21926.41   \n",
       "4403       -0.5  ...        -0.230306        -0.973118  18564.22  21061.24   \n",
       "4404       -0.5  ...        -0.247022        -0.969010  12115.95  11715.77   \n",
       "4405       -0.5  ...        -0.263665        -0.964614  21987.26  26315.41   \n",
       "4406       -0.5  ...        -0.280231        -0.959933  38750.07  27412.51   \n",
       "\n",
       "         lag_14  rolling_mean_7  rolling_mean_14  event_type_disaster  \\\n",
       "4402  111018.88    27792.874286     29495.373571                  0.0   \n",
       "4403   24268.32    27312.561429     22891.469286                  0.0   \n",
       "4404   23241.56    26034.662857     22023.442857                  0.0   \n",
       "4405   14484.37    27502.018571     21933.850000                  0.0   \n",
       "4406    7357.62    29278.398571     23667.114286                  0.0   \n",
       "\n",
       "      event_type_festival  event_type_none  \n",
       "4402                  0.0              1.0  \n",
       "4403                  0.0              1.0  \n",
       "4404                  0.0              1.0  \n",
       "4405                  0.0              1.0  \n",
       "4406                  0.0              1.0  \n",
       "\n",
       "[5 rows x 21 columns]"
      ]
     },
     "execution_count": 90,
     "metadata": {},
     "output_type": "execute_result"
    }
   ],
   "source": [
    "train_df.head()"
   ]
  },
  {
   "cell_type": "code",
   "execution_count": 91,
   "id": "b9087ab6",
   "metadata": {},
   "outputs": [
    {
     "data": {
      "text/html": [
       "<div>\n",
       "<style scoped>\n",
       "    .dataframe tbody tr th:only-of-type {\n",
       "        vertical-align: middle;\n",
       "    }\n",
       "\n",
       "    .dataframe tbody tr th {\n",
       "        vertical-align: top;\n",
       "    }\n",
       "\n",
       "    .dataframe thead th {\n",
       "        text-align: right;\n",
       "    }\n",
       "</style>\n",
       "<table border=\"1\" class=\"dataframe\">\n",
       "  <thead>\n",
       "    <tr style=\"text-align: right;\">\n",
       "      <th></th>\n",
       "      <th>category</th>\n",
       "      <th>is_event</th>\n",
       "      <th>is_holiday</th>\n",
       "      <th>pre_event_window</th>\n",
       "      <th>post_event_window</th>\n",
       "      <th>day_of_week_sin</th>\n",
       "      <th>day_of_week_cos</th>\n",
       "      <th>month_sin</th>\n",
       "      <th>month_cos</th>\n",
       "      <th>day_of_year_sin</th>\n",
       "      <th>day_of_year_cos</th>\n",
       "      <th>lag_1</th>\n",
       "      <th>lag_7</th>\n",
       "      <th>lag_14</th>\n",
       "      <th>rolling_mean_7</th>\n",
       "      <th>rolling_mean_14</th>\n",
       "      <th>event_type_disaster</th>\n",
       "      <th>event_type_festival</th>\n",
       "      <th>event_type_none</th>\n",
       "    </tr>\n",
       "  </thead>\n",
       "  <tbody>\n",
       "    <tr>\n",
       "      <th>4402</th>\n",
       "      <td>28498.247333</td>\n",
       "      <td>False</td>\n",
       "      <td>False</td>\n",
       "      <td>False</td>\n",
       "      <td>True</td>\n",
       "      <td>-9.749279e-01</td>\n",
       "      <td>-0.222521</td>\n",
       "      <td>-0.5</td>\n",
       "      <td>-0.866025</td>\n",
       "      <td>-0.213521</td>\n",
       "      <td>-0.976938</td>\n",
       "      <td>66836.10</td>\n",
       "      <td>21926.41</td>\n",
       "      <td>111018.88</td>\n",
       "      <td>27792.874286</td>\n",
       "      <td>29495.373571</td>\n",
       "      <td>0.0</td>\n",
       "      <td>0.0</td>\n",
       "      <td>1.0</td>\n",
       "    </tr>\n",
       "    <tr>\n",
       "      <th>4403</th>\n",
       "      <td>28498.247333</td>\n",
       "      <td>False</td>\n",
       "      <td>True</td>\n",
       "      <td>False</td>\n",
       "      <td>True</td>\n",
       "      <td>-7.818315e-01</td>\n",
       "      <td>0.623490</td>\n",
       "      <td>-0.5</td>\n",
       "      <td>-0.866025</td>\n",
       "      <td>-0.230306</td>\n",
       "      <td>-0.973118</td>\n",
       "      <td>18564.22</td>\n",
       "      <td>21061.24</td>\n",
       "      <td>24268.32</td>\n",
       "      <td>27312.561429</td>\n",
       "      <td>22891.469286</td>\n",
       "      <td>0.0</td>\n",
       "      <td>0.0</td>\n",
       "      <td>1.0</td>\n",
       "    </tr>\n",
       "    <tr>\n",
       "      <th>4404</th>\n",
       "      <td>28498.247333</td>\n",
       "      <td>False</td>\n",
       "      <td>False</td>\n",
       "      <td>False</td>\n",
       "      <td>True</td>\n",
       "      <td>-2.449294e-16</td>\n",
       "      <td>1.000000</td>\n",
       "      <td>-0.5</td>\n",
       "      <td>-0.866025</td>\n",
       "      <td>-0.247022</td>\n",
       "      <td>-0.969010</td>\n",
       "      <td>12115.95</td>\n",
       "      <td>11715.77</td>\n",
       "      <td>23241.56</td>\n",
       "      <td>26034.662857</td>\n",
       "      <td>22023.442857</td>\n",
       "      <td>0.0</td>\n",
       "      <td>0.0</td>\n",
       "      <td>1.0</td>\n",
       "    </tr>\n",
       "    <tr>\n",
       "      <th>4405</th>\n",
       "      <td>28498.247333</td>\n",
       "      <td>False</td>\n",
       "      <td>False</td>\n",
       "      <td>False</td>\n",
       "      <td>True</td>\n",
       "      <td>7.818315e-01</td>\n",
       "      <td>0.623490</td>\n",
       "      <td>-0.5</td>\n",
       "      <td>-0.866025</td>\n",
       "      <td>-0.263665</td>\n",
       "      <td>-0.964614</td>\n",
       "      <td>21987.26</td>\n",
       "      <td>26315.41</td>\n",
       "      <td>14484.37</td>\n",
       "      <td>27502.018571</td>\n",
       "      <td>21933.850000</td>\n",
       "      <td>0.0</td>\n",
       "      <td>0.0</td>\n",
       "      <td>1.0</td>\n",
       "    </tr>\n",
       "    <tr>\n",
       "      <th>4406</th>\n",
       "      <td>28498.247333</td>\n",
       "      <td>False</td>\n",
       "      <td>False</td>\n",
       "      <td>False</td>\n",
       "      <td>True</td>\n",
       "      <td>9.749279e-01</td>\n",
       "      <td>-0.222521</td>\n",
       "      <td>-0.5</td>\n",
       "      <td>-0.866025</td>\n",
       "      <td>-0.280231</td>\n",
       "      <td>-0.959933</td>\n",
       "      <td>38750.07</td>\n",
       "      <td>27412.51</td>\n",
       "      <td>7357.62</td>\n",
       "      <td>29278.398571</td>\n",
       "      <td>23667.114286</td>\n",
       "      <td>0.0</td>\n",
       "      <td>0.0</td>\n",
       "      <td>1.0</td>\n",
       "    </tr>\n",
       "  </tbody>\n",
       "</table>\n",
       "</div>"
      ],
      "text/plain": [
       "          category  is_event  is_holiday  pre_event_window  post_event_window  \\\n",
       "4402  28498.247333     False       False             False               True   \n",
       "4403  28498.247333     False        True             False               True   \n",
       "4404  28498.247333     False       False             False               True   \n",
       "4405  28498.247333     False       False             False               True   \n",
       "4406  28498.247333     False       False             False               True   \n",
       "\n",
       "      day_of_week_sin  day_of_week_cos  month_sin  month_cos  day_of_year_sin  \\\n",
       "4402    -9.749279e-01        -0.222521       -0.5  -0.866025        -0.213521   \n",
       "4403    -7.818315e-01         0.623490       -0.5  -0.866025        -0.230306   \n",
       "4404    -2.449294e-16         1.000000       -0.5  -0.866025        -0.247022   \n",
       "4405     7.818315e-01         0.623490       -0.5  -0.866025        -0.263665   \n",
       "4406     9.749279e-01        -0.222521       -0.5  -0.866025        -0.280231   \n",
       "\n",
       "      day_of_year_cos     lag_1     lag_7     lag_14  rolling_mean_7  \\\n",
       "4402        -0.976938  66836.10  21926.41  111018.88    27792.874286   \n",
       "4403        -0.973118  18564.22  21061.24   24268.32    27312.561429   \n",
       "4404        -0.969010  12115.95  11715.77   23241.56    26034.662857   \n",
       "4405        -0.964614  21987.26  26315.41   14484.37    27502.018571   \n",
       "4406        -0.959933  38750.07  27412.51    7357.62    29278.398571   \n",
       "\n",
       "      rolling_mean_14  event_type_disaster  event_type_festival  \\\n",
       "4402     29495.373571                  0.0                  0.0   \n",
       "4403     22891.469286                  0.0                  0.0   \n",
       "4404     22023.442857                  0.0                  0.0   \n",
       "4405     21933.850000                  0.0                  0.0   \n",
       "4406     23667.114286                  0.0                  0.0   \n",
       "\n",
       "      event_type_none  \n",
       "4402              1.0  \n",
       "4403              1.0  \n",
       "4404              1.0  \n",
       "4405              1.0  \n",
       "4406              1.0  "
      ]
     },
     "execution_count": 91,
     "metadata": {},
     "output_type": "execute_result"
    }
   ],
   "source": [
    "X_train.head()"
   ]
  },
  {
   "cell_type": "code",
   "execution_count": 92,
   "id": "4e892e02",
   "metadata": {},
   "outputs": [],
   "source": [
    "from xgboost import XGBRegressor\n",
    "\n",
    "# Train\n",
    "model_xgb = XGBRegressor(n_estimators=100)\n",
    "model_xgb.fit(X_train, y_train)\n",
    "\n",
    "# Predict\n",
    "y_pred = model_xgb.predict(X_test)"
   ]
  },
  {
   "cell_type": "markdown",
   "id": "89521c5e",
   "metadata": {},
   "source": [
    "# 6. Evaluation"
   ]
  },
  {
   "cell_type": "code",
   "execution_count": 93,
   "id": "bdec4b39",
   "metadata": {},
   "outputs": [
    {
     "name": "stdout",
     "output_type": "stream",
     "text": [
      "<class 'pandas.core.frame.DataFrame'>\n",
      "Index: 7794 entries, 4402 to 879\n",
      "Data columns (total 21 columns):\n",
      " #   Column               Non-Null Count  Dtype         \n",
      "---  ------               --------------  -----         \n",
      " 0   category             7794 non-null   float64       \n",
      " 1   transaction_date     7794 non-null   datetime64[ns]\n",
      " 2   transaction_amount   7794 non-null   float64       \n",
      " 3   is_event             7794 non-null   bool          \n",
      " 4   is_holiday           7794 non-null   bool          \n",
      " 5   pre_event_window     7794 non-null   bool          \n",
      " 6   post_event_window    7794 non-null   bool          \n",
      " 7   day_of_week_sin      7794 non-null   float64       \n",
      " 8   day_of_week_cos      7794 non-null   float64       \n",
      " 9   month_sin            7794 non-null   float64       \n",
      " 10  month_cos            7794 non-null   float64       \n",
      " 11  day_of_year_sin      7794 non-null   float64       \n",
      " 12  day_of_year_cos      7794 non-null   float64       \n",
      " 13  lag_1                7794 non-null   float64       \n",
      " 14  lag_7                7794 non-null   float64       \n",
      " 15  lag_14               7794 non-null   float64       \n",
      " 16  rolling_mean_7       7794 non-null   float64       \n",
      " 17  rolling_mean_14      7794 non-null   float64       \n",
      " 18  event_type_disaster  7794 non-null   float64       \n",
      " 19  event_type_festival  7794 non-null   float64       \n",
      " 20  event_type_none      7794 non-null   float64       \n",
      "dtypes: bool(4), datetime64[ns](1), float64(16)\n",
      "memory usage: 1.1 MB\n"
     ]
    }
   ],
   "source": [
    "train_df.info()"
   ]
  },
  {
   "cell_type": "code",
   "execution_count": 94,
   "id": "90b6103e",
   "metadata": {},
   "outputs": [
    {
     "name": "stdout",
     "output_type": "stream",
     "text": [
      "MAE: 9983.498293375776\n",
      "R-squared: 0.7915516767665886\n",
      "MAPE: 8734099820522104.0\n"
     ]
    }
   ],
   "source": [
    "from sklearn.metrics import mean_absolute_error, r2_score, mean_absolute_percentage_error\n",
    "\n",
    "mae_xgb = mean_absolute_error(y_test, y_pred)\n",
    "print(\"MAE:\", mae_xgb)\n",
    "\n",
    "r2_xgb = r2_score(y_test, y_pred)\n",
    "print(\"R-squared:\", r2_xgb)\n",
    "\n",
    "mape_xgb = mean_absolute_percentage_error(y_test, y_pred)\n",
    "print(\"MAPE:\", mape_xgb)"
   ]
  },
  {
   "cell_type": "markdown",
   "id": "69acbbbb",
   "metadata": {},
   "source": [
    "# 7. Forecasting"
   ]
  },
  {
   "cell_type": "code",
   "execution_count": 95,
   "id": "1c65c75b",
   "metadata": {},
   "outputs": [],
   "source": [
    "_transaction_df = None  # cache in memory\n",
    "\n",
    "\n",
    "def load_transaction_data(refresh=False) -> pd.DataFrame:\n",
    "    global _transaction_df\n",
    "\n",
    "    if _transaction_df is None or refresh:\n",
    "        df = pd.read_csv('../../project/data/synthetic_data_v5.csv')  # or query DB\n",
    "        df['transaction_date'] = pd.to_datetime(df['transaction_date'], dayfirst=True)\n",
    "        df['category'] = df['category'].astype(str)\n",
    "        df['product'] = df['product'].astype(str)\n",
    "        _transaction_df = df\n",
    "\n",
    "    return _transaction_df.copy()\n",
    "\n",
    "\n",
    "def get_past_days_data_category(category_name, past_days=30):\n",
    "    today = datetime.datetime.today()\n",
    "    start_date = today - timedelta(days=past_days+1)\n",
    "    end_date = today - timedelta(days=1)\n",
    "    df = load_transaction_data()\n",
    "    df = df[df['category'] == category_name]\n",
    "    df = df[df['transaction_date'].between(start_date, end_date)]\n",
    "\n",
    "    aggregated_df = df.groupby([\"transaction_date\"]).agg(\n",
    "        transaction_count=(\"amount\", \"count\"),\n",
    "        transaction_amount=(\"amount\", \"sum\")\n",
    "    ).reset_index()\n",
    "    \n",
    "    # Reindex to include all date-category pairs\n",
    "    aggregated_df = aggregated_df.set_index('transaction_date').asfreq('D', fill_value=0)\n",
    "\n",
    "    # Reset index for further processing\n",
    "    aggregated_df = aggregated_df.reset_index()\n",
    "    \n",
    "    return aggregated_df\n"
   ]
  },
  {
   "cell_type": "code",
   "execution_count": 96,
   "id": "8793e418",
   "metadata": {},
   "outputs": [],
   "source": [
    "import pandas as pd\n",
    "import numpy as np\n",
    "from datetime import timedelta\n",
    "import requests\n",
    "\n",
    "features = [\n",
    "       'category', 'is_event', 'is_holiday',\n",
    "       'pre_event_window', 'post_event_window', 'day_of_week_sin',\n",
    "       'day_of_week_cos', 'month_sin', 'month_cos', 'day_of_year_sin',\n",
    "       'day_of_year_cos', 'lag_1', 'lag_7', 'lag_14', 'rolling_mean_7',\n",
    "       'rolling_mean_14', 'event_type_disaster', 'event_type_festival',\n",
    "       'event_type_none'\n",
    "       ]\n",
    "\n",
    "def forecast_next_7_days_category(category_name, model, aggregated_df, category_target_mean, global_mean, target_col='transaction_amount'):\n",
    "    # Step 1: Filter past data for this category\n",
    "    aggregated_df.sort_values('transaction_date', inplace=True)\n",
    "    aggregated_df.reset_index(drop=True, inplace=True)\n",
    "\n",
    "    # Step 2: Prepare future dates\n",
    "    last_date = aggregated_df['transaction_date'].max() \n",
    "    future_dates = pd.to_datetime([last_date + timedelta(days=i+1) for i in range(7)])\n",
    "\n",
    "    forecasts = []\n",
    "    \n",
    "    for forecast_date in future_dates:\n",
    "        row = {}\n",
    "        row['transaction_date'] = forecast_date\n",
    "\n",
    "        # === Static Features ===\n",
    "        row['category'] = category_target_mean.get(category_name, global_mean)\n",
    "\n",
    "        data = requests.get(f'http://127.0.0.1:8000/api/calender/info/{forecast_date}').json()\n",
    "        row['is_event'] = data.get('is_event', False)\n",
    "        row['is_holiday'] = data.get('is_holiday', False)\n",
    "        row['pre_event_window'] = data.get('pre_event_window', False)\n",
    "        row['post_event_window'] = data.get('post_event_window', False)\n",
    "\n",
    "        # === Cyclical Features ===\n",
    "        dow = forecast_date.weekday()  # Monday=0\n",
    "        row[\"day_of_week\"] = row[\"transaction_date\"].dayofweek\n",
    "        row[\"day_of_week\"] = ((row[\"day_of_week\"] + 1) % 7) + 1\n",
    "        row['day_of_week_sin'] = np.sin(2 * np.pi * dow / 7)\n",
    "        row['day_of_week_cos'] = np.cos(2 * np.pi * dow / 7)\n",
    "\n",
    "        month = forecast_date.month\n",
    "        row['month_sin'] = np.sin(2 * np.pi * month / 12)\n",
    "        row['month_cos'] = np.cos(2 * np.pi * month / 12)\n",
    "\n",
    "        day_of_year = forecast_date.dayofyear\n",
    "        row['day_of_year_sin'] = np.sin(2 * np.pi * day_of_year / 365)\n",
    "        row['day_of_year_cos'] = np.cos(2 * np.pi * day_of_year / 365)\n",
    "\n",
    "        # === One-hot Event Type ===\n",
    "        row['event_type_festival'] = data.get('event_type', 'none') == 'festival'\n",
    "        row['event_type_disaster'] = data.get('event_type', 'none') == 'disaster'\n",
    "        row['event_type_none'] = data.get('event_type', 'none') == 'none'\n",
    "\n",
    "        # === Lag and Rolling ===\n",
    "        # Make sure to handle missing lag values (e.g. beginning of series)\n",
    "        try:\n",
    "            row['lag_1'] = aggregated_df.iloc[-1][target_col]\n",
    "            row['lag_7'] = aggregated_df.iloc[-7][target_col] if len(aggregated_df) >= 7 else row['lag_1']\n",
    "            row['lag_14'] = aggregated_df.iloc[-14][target_col] if len(aggregated_df) >= 14 else row['lag_7']\n",
    "        except IndexError:\n",
    "            row['lag_1'] = row['lag_7'] = row['lag_14'] = aggregated_df[target_col].mean()\n",
    "\n",
    "        row['rolling_mean_7'] = aggregated_df[target_col].rolling(window=7).mean().iloc[-1] if len(df_cat) >= 7 else df_cat['transaction_amount'].mean()\n",
    "        row['rolling_mean_14'] = aggregated_df[target_col].rolling(window=14).mean().iloc[-1] if len(df_cat) >= 14 else df_cat['transaction_amount'].mean()\n",
    "\n",
    "        # Convert to DataFrame and predict\n",
    "        X = pd.DataFrame([row])\n",
    "        prediction = model.predict(X[features])[0]\n",
    "        row[target_col] = prediction\n",
    "\n",
    "        # Append to results\n",
    "        forecasts.append(row)\n",
    "\n",
    "        # Append to aggregated_df to maintain rolling window\n",
    "        aggregated_df = pd.concat([aggregated_df, pd.DataFrame({\n",
    "            'transaction_date': [forecast_date],\n",
    "            target_col: [prediction]\n",
    "        })], ignore_index=True)\n",
    "\n",
    "    return pd.DataFrame(forecasts)\n"
   ]
  },
  {
   "cell_type": "code",
   "execution_count": 97,
   "id": "75b53526",
   "metadata": {},
   "outputs": [
    {
     "name": "stdout",
     "output_type": "stream",
     "text": [
      "  transaction_date  transaction_amount\n",
      "0       2025-07-01        13370.345703\n",
      "1       2025-07-02        25613.062500\n",
      "2       2025-07-03        16316.887695\n",
      "3       2025-07-04        22106.982422\n",
      "4       2025-07-05        19668.218750\n",
      "5       2025-07-06        22422.685547\n",
      "6       2025-07-07        23357.835938\n"
     ]
    },
    {
     "name": "stderr",
     "output_type": "stream",
     "text": [
      "C:\\Users\\JARVIS\\AppData\\Local\\Temp\\ipykernel_13868\\3203081338.py:9: UserWarning: Parsing dates in %Y-%m-%d format when dayfirst=True was specified. Pass `dayfirst=False` or specify a format to silence this warning.\n",
      "  df['transaction_date'] = pd.to_datetime(df['transaction_date'], dayfirst=True)\n"
     ]
    }
   ],
   "source": [
    "df_30 = get_past_days_data_category('loan', past_days=30)\n",
    "\n",
    "forecast_df = forecast_next_7_days_category(\n",
    "    category_name='loan',\n",
    "    model=model_xgb,\n",
    "    aggregated_df=df_30,\n",
    "    category_target_mean=category_target_mean,\n",
    "    global_mean=global_mean\n",
    ")\n",
    "print(forecast_df[['transaction_date', 'transaction_amount']])\n"
   ]
  },
  {
   "cell_type": "markdown",
   "id": "75b76bb9",
   "metadata": {},
   "source": [
    "# 8. Saving the model"
   ]
  },
  {
   "cell_type": "code",
   "execution_count": 98,
   "id": "72ed28e4",
   "metadata": {},
   "outputs": [],
   "source": [
    "import pickle\n",
    "\n",
    "with open('./models/xgb_model_category_amount.pkl', 'wb') as f:\n",
    "    data = {\n",
    "        'model': model_xgb,\n",
    "        'category_target_mean': category_target_mean,\n",
    "        'global_mean': global_mean,\n",
    "    }\n",
    "    pickle.dump(data, f)"
   ]
  },
  {
   "cell_type": "code",
   "execution_count": null,
   "id": "5308da5c",
   "metadata": {},
   "outputs": [],
   "source": []
  }
 ],
 "metadata": {
  "kernelspec": {
   "display_name": "env_torch",
   "language": "python",
   "name": "python3"
  },
  "language_info": {
   "codemirror_mode": {
    "name": "ipython",
    "version": 3
   },
   "file_extension": ".py",
   "mimetype": "text/x-python",
   "name": "python",
   "nbconvert_exporter": "python",
   "pygments_lexer": "ipython3",
   "version": "3.12.3"
  }
 },
 "nbformat": 4,
 "nbformat_minor": 5
}

{
 "cells": [
  {
   "cell_type": "code",
   "execution_count": 28,
   "id": "85a02c2c",
   "metadata": {},
   "outputs": [],
   "source": [
    "import numpy as numpy\n",
    "import pandas as pd\n",
    "import matplotlib.pyplot as plt\n",
    "import seaborn as sns\n",
    "import numpy as np\n",
    "import datetime"
   ]
  },
  {
   "cell_type": "code",
   "execution_count": 29,
   "id": "60fa7dc7",
   "metadata": {},
   "outputs": [],
   "source": [
    "df = pd.read_csv(r\"D:\\eSewa Internship\\final_project_gitlab\\project\\data\\original_data\\synthetic_data_v6.csv\")"
   ]
  },
  {
   "cell_type": "markdown",
   "id": "8b39f2ef",
   "metadata": {},
   "source": [
    "# 1. Structuring the data"
   ]
  },
  {
   "cell_type": "code",
   "execution_count": 30,
   "id": "2e26f680",
   "metadata": {},
   "outputs": [
    {
     "data": {
      "text/html": [
       "<div>\n",
       "<style scoped>\n",
       "    .dataframe tbody tr th:only-of-type {\n",
       "        vertical-align: middle;\n",
       "    }\n",
       "\n",
       "    .dataframe tbody tr th {\n",
       "        vertical-align: top;\n",
       "    }\n",
       "\n",
       "    .dataframe thead th {\n",
       "        text-align: right;\n",
       "    }\n",
       "</style>\n",
       "<table border=\"1\" class=\"dataframe\">\n",
       "  <thead>\n",
       "    <tr style=\"text-align: right;\">\n",
       "      <th></th>\n",
       "      <th>transaction_date</th>\n",
       "      <th>category</th>\n",
       "      <th>product</th>\n",
       "      <th>amount</th>\n",
       "      <th>is_event</th>\n",
       "      <th>event_name</th>\n",
       "      <th>is_holiday</th>\n",
       "    </tr>\n",
       "  </thead>\n",
       "  <tbody>\n",
       "    <tr>\n",
       "      <th>94115</th>\n",
       "      <td>2025-07-02</td>\n",
       "      <td>government</td>\n",
       "      <td>tax_payment</td>\n",
       "      <td>6000.73</td>\n",
       "      <td>True</td>\n",
       "      <td>New Year English</td>\n",
       "      <td>True</td>\n",
       "    </tr>\n",
       "    <tr>\n",
       "      <th>94116</th>\n",
       "      <td>2025-07-02</td>\n",
       "      <td>government</td>\n",
       "      <td>govt_fee</td>\n",
       "      <td>6556.95</td>\n",
       "      <td>True</td>\n",
       "      <td>New Year English</td>\n",
       "      <td>True</td>\n",
       "    </tr>\n",
       "    <tr>\n",
       "      <th>94117</th>\n",
       "      <td>2025-07-02</td>\n",
       "      <td>shopping</td>\n",
       "      <td>online_shopping</td>\n",
       "      <td>1484.73</td>\n",
       "      <td>True</td>\n",
       "      <td>New Year English</td>\n",
       "      <td>True</td>\n",
       "    </tr>\n",
       "    <tr>\n",
       "      <th>94118</th>\n",
       "      <td>2025-07-02</td>\n",
       "      <td>topup</td>\n",
       "      <td>ntc_topup</td>\n",
       "      <td>2330.63</td>\n",
       "      <td>True</td>\n",
       "      <td>New Year English</td>\n",
       "      <td>True</td>\n",
       "    </tr>\n",
       "    <tr>\n",
       "      <th>94119</th>\n",
       "      <td>2025-07-02</td>\n",
       "      <td>shopping</td>\n",
       "      <td>mobile_data_pack</td>\n",
       "      <td>6630.10</td>\n",
       "      <td>True</td>\n",
       "      <td>New Year English</td>\n",
       "      <td>True</td>\n",
       "    </tr>\n",
       "  </tbody>\n",
       "</table>\n",
       "</div>"
      ],
      "text/plain": [
       "      transaction_date    category           product   amount  is_event  \\\n",
       "94115       2025-07-02  government       tax_payment  6000.73      True   \n",
       "94116       2025-07-02  government          govt_fee  6556.95      True   \n",
       "94117       2025-07-02    shopping   online_shopping  1484.73      True   \n",
       "94118       2025-07-02       topup         ntc_topup  2330.63      True   \n",
       "94119       2025-07-02    shopping  mobile_data_pack  6630.10      True   \n",
       "\n",
       "             event_name  is_holiday  \n",
       "94115  New Year English        True  \n",
       "94116  New Year English        True  \n",
       "94117  New Year English        True  \n",
       "94118  New Year English        True  \n",
       "94119  New Year English        True  "
      ]
     },
     "execution_count": 30,
     "metadata": {},
     "output_type": "execute_result"
    }
   ],
   "source": [
    "df.tail()"
   ]
  },
  {
   "cell_type": "code",
   "execution_count": 31,
   "id": "97dc2484",
   "metadata": {},
   "outputs": [
    {
     "name": "stdout",
     "output_type": "stream",
     "text": [
      "<class 'pandas.core.frame.DataFrame'>\n",
      "RangeIndex: 94120 entries, 0 to 94119\n",
      "Data columns (total 7 columns):\n",
      " #   Column            Non-Null Count  Dtype  \n",
      "---  ------            --------------  -----  \n",
      " 0   transaction_date  94120 non-null  object \n",
      " 1   category          94120 non-null  object \n",
      " 2   product           94120 non-null  object \n",
      " 3   amount            94120 non-null  float64\n",
      " 4   is_event          94120 non-null  bool   \n",
      " 5   event_name        13574 non-null  object \n",
      " 6   is_holiday        94120 non-null  bool   \n",
      "dtypes: bool(2), float64(1), object(4)\n",
      "memory usage: 3.8+ MB\n"
     ]
    }
   ],
   "source": [
    "df.info()"
   ]
  },
  {
   "cell_type": "code",
   "execution_count": 32,
   "id": "b4502b6d",
   "metadata": {},
   "outputs": [],
   "source": [
    "df['transaction_date'] = pd.to_datetime(df['transaction_date'])"
   ]
  },
  {
   "cell_type": "code",
   "execution_count": 33,
   "id": "c285a970",
   "metadata": {},
   "outputs": [],
   "source": [
    "\n",
    "# Set full date range\n",
    "full_date_range = pd.date_range(start=df['transaction_date'].min(),\n",
    "                                end=df['transaction_date'].max())\n",
    "\n",
    "# Get all unique categories or products\n",
    "all_products = df['product'].unique()\n",
    "\n",
    "# Create complete cartesian product of dates and categories\n",
    "complete_index = pd.MultiIndex.from_product(\n",
    "    [all_products, full_date_range],\n",
    "    names=['product', 'transaction_date']\n",
    ")\n",
    "\n",
    "# Group & aggregate per day per category if not already\n",
    "df_daily = df.groupby(['category', 'product', 'transaction_date']) \\\n",
    "    .agg({\n",
    "            \"amount\": \"sum\",\n",
    "            \"is_event\": \"max\",    # If any row that day is a festival, mark it as True\n",
    "            \"event_name\": \"first\",   # Just keep the first festival name (optional)\n",
    "            \"is_holiday\": \"max\"      # If any row that day is a holiday, mark it as True\n",
    "        }).reset_index()\n",
    "                                                        \n",
    "\n",
    "# Reindex to include all date-category pairs\n",
    "df_full = df_daily.set_index(['product', 'transaction_date']).reindex(complete_index)\n",
    "\n",
    "# Fill missing amount with 0\n",
    "df_full['amount'] = df_full['amount'].fillna(0)\n",
    "\n",
    "# Reset index for further processing\n",
    "aggregated_df = df_full.reset_index()\n",
    "\n"
   ]
  },
  {
   "cell_type": "code",
   "execution_count": 34,
   "id": "1b7b5383",
   "metadata": {},
   "outputs": [
    {
     "name": "stdout",
     "output_type": "stream",
     "text": [
      "<class 'pandas.core.frame.DataFrame'>\n",
      "RangeIndex: 19746 entries, 0 to 19745\n",
      "Data columns (total 7 columns):\n",
      " #   Column            Non-Null Count  Dtype         \n",
      "---  ------            --------------  -----         \n",
      " 0   product           19746 non-null  object        \n",
      " 1   transaction_date  19746 non-null  datetime64[ns]\n",
      " 2   category          19121 non-null  object        \n",
      " 3   amount            19746 non-null  float64       \n",
      " 4   is_event          19121 non-null  object        \n",
      " 5   event_name        1264 non-null   object        \n",
      " 6   is_holiday        19121 non-null  object        \n",
      "dtypes: datetime64[ns](1), float64(1), object(5)\n",
      "memory usage: 1.1+ MB\n"
     ]
    }
   ],
   "source": [
    "aggregated_df.info()"
   ]
  },
  {
   "cell_type": "code",
   "execution_count": 35,
   "id": "02c05d04",
   "metadata": {},
   "outputs": [],
   "source": [
    "aggregated_df['is_event'] = aggregated_df['is_event'].astype('bool')\n",
    "aggregated_df['is_holiday'] = aggregated_df['is_holiday'].astype('bool')"
   ]
  },
  {
   "cell_type": "code",
   "execution_count": 36,
   "id": "da11882f",
   "metadata": {},
   "outputs": [
    {
     "name": "stdout",
     "output_type": "stream",
     "text": [
      "<class 'pandas.core.frame.DataFrame'>\n",
      "RangeIndex: 19746 entries, 0 to 19745\n",
      "Data columns (total 7 columns):\n",
      " #   Column            Non-Null Count  Dtype         \n",
      "---  ------            --------------  -----         \n",
      " 0   product           19746 non-null  object        \n",
      " 1   transaction_date  19746 non-null  datetime64[ns]\n",
      " 2   category          19121 non-null  object        \n",
      " 3   amount            19746 non-null  float64       \n",
      " 4   is_event          19746 non-null  bool          \n",
      " 5   event_name        1264 non-null   object        \n",
      " 6   is_holiday        19746 non-null  bool          \n",
      "dtypes: bool(2), datetime64[ns](1), float64(1), object(3)\n",
      "memory usage: 810.0+ KB\n"
     ]
    }
   ],
   "source": [
    "aggregated_df.info()"
   ]
  },
  {
   "cell_type": "code",
   "execution_count": 37,
   "id": "7023e36f",
   "metadata": {},
   "outputs": [],
   "source": [
    "aggregated_df.rename(columns={'amount': \"transaction_amount\"}, inplace=True)"
   ]
  },
  {
   "cell_type": "code",
   "execution_count": 38,
   "id": "876588df",
   "metadata": {},
   "outputs": [],
   "source": [
    "# Step 3: Sort the result\n",
    "aggregated_df.sort_values([\"transaction_date\", \"category\", 'product'], inplace=True)"
   ]
  },
  {
   "cell_type": "code",
   "execution_count": 39,
   "id": "2e9ce6c9",
   "metadata": {},
   "outputs": [
    {
     "data": {
      "text/plain": [
       "is_event\n",
       "False    17920\n",
       "True      1826\n",
       "Name: count, dtype: int64"
      ]
     },
     "execution_count": 39,
     "metadata": {},
     "output_type": "execute_result"
    }
   ],
   "source": [
    "aggregated_df.is_event.value_counts()"
   ]
  },
  {
   "cell_type": "code",
   "execution_count": 40,
   "id": "d51e014a",
   "metadata": {},
   "outputs": [
    {
     "data": {
      "text/plain": [
       "(94120, 7)"
      ]
     },
     "execution_count": 40,
     "metadata": {},
     "output_type": "execute_result"
    }
   ],
   "source": [
    "df.shape"
   ]
  },
  {
   "cell_type": "code",
   "execution_count": 41,
   "id": "18c21cc8",
   "metadata": {},
   "outputs": [
    {
     "data": {
      "text/plain": [
       "(19746, 7)"
      ]
     },
     "execution_count": 41,
     "metadata": {},
     "output_type": "execute_result"
    }
   ],
   "source": [
    "aggregated_df.shape"
   ]
  },
  {
   "cell_type": "markdown",
   "id": "b2db7a5f",
   "metadata": {},
   "source": [
    "# 2. Data Profiling"
   ]
  },
  {
   "cell_type": "code",
   "execution_count": 42,
   "id": "5e04b293",
   "metadata": {},
   "outputs": [
    {
     "data": {
      "text/plain": [
       "array(['New Year English', None, nan, 'Maghe Sankranti',\n",
       "       \"Valentine's Day\", 'Shivaratri', 'Holi', 'New Year Nepali',\n",
       "       \"Mother's Day\", 'Buddha Jayanti', 'Rakhshya Bandhan', 'Teej',\n",
       "       'Indra Jatra', 'Dashain Day 1', 'Dashain Day 2', 'Dashain Day 3',\n",
       "       'Dashain Day 4', 'Dashain Day 5', 'Tihar Day 1', 'Tihar Day 2',\n",
       "       'Tihar Day 3', 'Tihar Day 4', 'Chhath', 'Christmas', 'Earthquake',\n",
       "       'Recession Alert'], dtype=object)"
      ]
     },
     "execution_count": 42,
     "metadata": {},
     "output_type": "execute_result"
    }
   ],
   "source": [
    "aggregated_df.event_name.unique()"
   ]
  },
  {
   "cell_type": "markdown",
   "id": "d5388e0c",
   "metadata": {},
   "source": [
    "# 3. Feature Engineering"
   ]
  },
  {
   "cell_type": "code",
   "execution_count": 43,
   "id": "1933b773",
   "metadata": {},
   "outputs": [],
   "source": [
    "def classify_event(name):\n",
    "    if pd.isna(name):\n",
    "        return \"none\"\n",
    "    if name.lower() in [\"earthquake\", \"recession alert\"]:\n",
    "        return \"disaster\"\n",
    "    return \"festival\"\n",
    "\n",
    "aggregated_df[\"event_type\"] = aggregated_df[\"event_name\"].apply(classify_event)\n"
   ]
  },
  {
   "cell_type": "code",
   "execution_count": 44,
   "id": "a16db475",
   "metadata": {},
   "outputs": [
    {
     "data": {
      "text/plain": [
       "event_type\n",
       "none        18482\n",
       "festival     1201\n",
       "disaster       63\n",
       "Name: count, dtype: int64"
      ]
     },
     "execution_count": 44,
     "metadata": {},
     "output_type": "execute_result"
    }
   ],
   "source": [
    "aggregated_df.event_type.value_counts()"
   ]
  },
  {
   "cell_type": "markdown",
   "id": "958ac448",
   "metadata": {},
   "source": [
    "### 3.1 Accounting for pre and post event effects"
   ]
  },
  {
   "cell_type": "code",
   "execution_count": 45,
   "id": "5b8f49f1",
   "metadata": {},
   "outputs": [],
   "source": [
    "from datetime import timedelta\n",
    "\n",
    "# Get all event dates by product\n",
    "event_dates = aggregated_df.dropna(subset=[\"event_name\"])[[\"transaction_date\", \"category\", 'product']]\n",
    "\n",
    "# Initialize flags\n",
    "aggregated_df[\"pre_event_window\"] = False\n",
    "aggregated_df[\"post_event_window\"] = False\n",
    "\n",
    "# Loop through events to set flags\n",
    "for _, row in event_dates.iterrows():\n",
    "    cat = row[\"category\"]\n",
    "    prod = row[\"product\"]\n",
    "    date = row[\"transaction_date\"]\n",
    "\n",
    "    mask_pre = (aggregated_df[\"category\"] == cat) & (aggregated_df[\"product\"] == prod) & \\\n",
    "               (aggregated_df[\"transaction_date\"] >= date - timedelta(days=7)) & \\\n",
    "               (aggregated_df[\"transaction_date\"] < date)\n",
    "    \n",
    "    mask_post =(aggregated_df[\"category\"] == cat) & (aggregated_df[\"product\"] == prod) & \\\n",
    "                (aggregated_df[\"transaction_date\"] > date) & \\\n",
    "                (aggregated_df[\"transaction_date\"] <= date + timedelta(days=7))\n",
    "\n",
    "    aggregated_df.loc[mask_pre, \"pre_event_window\"] = True\n",
    "    aggregated_df.loc[mask_post, \"post_event_window\"] = True\n"
   ]
  },
  {
   "cell_type": "code",
   "execution_count": 46,
   "id": "85e01fef",
   "metadata": {},
   "outputs": [
    {
     "data": {
      "text/html": [
       "<div>\n",
       "<style scoped>\n",
       "    .dataframe tbody tr th:only-of-type {\n",
       "        vertical-align: middle;\n",
       "    }\n",
       "\n",
       "    .dataframe tbody tr th {\n",
       "        vertical-align: top;\n",
       "    }\n",
       "\n",
       "    .dataframe thead th {\n",
       "        text-align: right;\n",
       "    }\n",
       "</style>\n",
       "<table border=\"1\" class=\"dataframe\">\n",
       "  <thead>\n",
       "    <tr style=\"text-align: right;\">\n",
       "      <th></th>\n",
       "      <th>product</th>\n",
       "      <th>transaction_date</th>\n",
       "      <th>category</th>\n",
       "      <th>transaction_amount</th>\n",
       "      <th>is_event</th>\n",
       "      <th>event_name</th>\n",
       "      <th>is_holiday</th>\n",
       "      <th>event_type</th>\n",
       "      <th>pre_event_window</th>\n",
       "      <th>post_event_window</th>\n",
       "    </tr>\n",
       "  </thead>\n",
       "  <tbody>\n",
       "    <tr>\n",
       "      <th>5485</th>\n",
       "      <td>bank_deposit</td>\n",
       "      <td>2022-07-02</td>\n",
       "      <td>bank_transaction</td>\n",
       "      <td>68514.51</td>\n",
       "      <td>True</td>\n",
       "      <td>New Year English</td>\n",
       "      <td>True</td>\n",
       "      <td>festival</td>\n",
       "      <td>False</td>\n",
       "      <td>False</td>\n",
       "    </tr>\n",
       "    <tr>\n",
       "      <th>10970</th>\n",
       "      <td>bank_withdrawal</td>\n",
       "      <td>2022-07-02</td>\n",
       "      <td>bank_transaction</td>\n",
       "      <td>42504.37</td>\n",
       "      <td>True</td>\n",
       "      <td>New Year English</td>\n",
       "      <td>True</td>\n",
       "      <td>festival</td>\n",
       "      <td>False</td>\n",
       "      <td>False</td>\n",
       "    </tr>\n",
       "    <tr>\n",
       "      <th>14261</th>\n",
       "      <td>electricity_bill</td>\n",
       "      <td>2022-07-02</td>\n",
       "      <td>bill_payment</td>\n",
       "      <td>22606.89</td>\n",
       "      <td>True</td>\n",
       "      <td>New Year English</td>\n",
       "      <td>True</td>\n",
       "      <td>festival</td>\n",
       "      <td>False</td>\n",
       "      <td>False</td>\n",
       "    </tr>\n",
       "    <tr>\n",
       "      <th>7679</th>\n",
       "      <td>internet_bill</td>\n",
       "      <td>2022-07-02</td>\n",
       "      <td>bill_payment</td>\n",
       "      <td>35946.78</td>\n",
       "      <td>True</td>\n",
       "      <td>New Year English</td>\n",
       "      <td>True</td>\n",
       "      <td>festival</td>\n",
       "      <td>False</td>\n",
       "      <td>False</td>\n",
       "    </tr>\n",
       "    <tr>\n",
       "      <th>2194</th>\n",
       "      <td>water_bill</td>\n",
       "      <td>2022-07-02</td>\n",
       "      <td>bill_payment</td>\n",
       "      <td>41235.86</td>\n",
       "      <td>True</td>\n",
       "      <td>New Year English</td>\n",
       "      <td>True</td>\n",
       "      <td>festival</td>\n",
       "      <td>False</td>\n",
       "      <td>False</td>\n",
       "    </tr>\n",
       "  </tbody>\n",
       "</table>\n",
       "</div>"
      ],
      "text/plain": [
       "                product transaction_date          category  \\\n",
       "5485       bank_deposit       2022-07-02  bank_transaction   \n",
       "10970   bank_withdrawal       2022-07-02  bank_transaction   \n",
       "14261  electricity_bill       2022-07-02      bill_payment   \n",
       "7679      internet_bill       2022-07-02      bill_payment   \n",
       "2194         water_bill       2022-07-02      bill_payment   \n",
       "\n",
       "       transaction_amount  is_event        event_name  is_holiday event_type  \\\n",
       "5485             68514.51      True  New Year English        True   festival   \n",
       "10970            42504.37      True  New Year English        True   festival   \n",
       "14261            22606.89      True  New Year English        True   festival   \n",
       "7679             35946.78      True  New Year English        True   festival   \n",
       "2194             41235.86      True  New Year English        True   festival   \n",
       "\n",
       "       pre_event_window  post_event_window  \n",
       "5485              False              False  \n",
       "10970             False              False  \n",
       "14261             False              False  \n",
       "7679              False              False  \n",
       "2194              False              False  "
      ]
     },
     "execution_count": 46,
     "metadata": {},
     "output_type": "execute_result"
    }
   ],
   "source": [
    "aggregated_df.head()"
   ]
  },
  {
   "cell_type": "code",
   "execution_count": 47,
   "id": "c428889e",
   "metadata": {},
   "outputs": [],
   "source": [
    "# aggregated_df.set_index(['transaction_date'], inplace=True)\n",
    "#"
   ]
  },
  {
   "cell_type": "code",
   "execution_count": null,
   "id": "d6457725",
   "metadata": {},
   "outputs": [],
   "source": [
    "unique_products = aggregated_df['product'].unique()\n",
    "\n",
    "for prod in unique_products:\n",
    "    rolling_mean_data = aggregated_df[(aggregated_df['product'] == prod)]['transaction_amount'].rolling(window=7).mean()\n",
    "    aggregated_df.loc[aggregated_df['product'] == prod, 'transaction_amount'] = rolling_mean_data"
   ]
  },
  {
   "cell_type": "code",
   "execution_count": 49,
   "id": "84082e2d",
   "metadata": {},
   "outputs": [
    {
     "data": {
      "text/plain": [
       "<Axes: >"
      ]
     },
     "execution_count": 49,
     "metadata": {},
     "output_type": "execute_result"
    },
    {
     "data": {
      "image/png": "[encoded data removed]",
      "text/plain": [
       "<Figure size 640x480 with 2 Axes>"
      ]
     },
     "metadata": {},
     "output_type": "display_data"
    }
   ],
   "source": [
    "sns.heatmap(aggregated_df.isna())"
   ]
  },
  {
   "cell_type": "code",
   "execution_count": 50,
   "id": "85355306",
   "metadata": {},
   "outputs": [
    {
     "data": {
      "text/plain": [
       "<Axes: >"
      ]
     },
     "execution_count": 50,
     "metadata": {},
     "output_type": "execute_result"
    },
    {
     "data": {
      "image/png": "[encoded data removed]",
      "text/plain": [
       "<Figure size 640x480 with 1 Axes>"
      ]
     },
     "metadata": {},
     "output_type": "display_data"
    }
   ],
   "source": [
    "aggregated_df['transaction_amount'][aggregated_df['product'] == 'ncell_topup'].plot()"
   ]
  },
  {
   "cell_type": "markdown",
   "id": "b0e7b719",
   "metadata": {},
   "source": [
    "### 3.2 Making cyclical features for the dates"
   ]
  },
  {
   "cell_type": "code",
   "execution_count": 51,
   "id": "b698aff1",
   "metadata": {},
   "outputs": [],
   "source": [
    "# Day of Week (0 to 6)\n",
    "aggregated_df[\"day_of_week\"] = aggregated_df[\"transaction_date\"].dt.dayofweek\n",
    "# Shift so that Sunday = 1, Monday = 2, ..., Saturday = 7\n",
    "aggregated_df[\"day_of_week\"] = ((aggregated_df[\"day_of_week\"] + 1) % 7) + 1\n",
    "aggregated_df[\"day_of_week_sin\"] = np.sin(2 * np.pi * aggregated_df[\"day_of_week\"] / 7)\n",
    "aggregated_df[\"day_of_week_cos\"] = np.cos(2 * np.pi * aggregated_df[\"day_of_week\"] / 7)\n",
    "\n",
    "# Month (1 to 12)\n",
    "aggregated_df[\"month\"] = aggregated_df[\"transaction_date\"].dt.month\n",
    "aggregated_df[\"month_sin\"] = np.sin(2 * np.pi * aggregated_df[\"month\"] / 12)\n",
    "aggregated_df[\"month_cos\"] = np.cos(2 * np.pi * aggregated_df[\"month\"] / 12)\n",
    "\n",
    "\n",
    "# Year (1 to 365)\n",
    "aggregated_df[\"day_of_year\"] = aggregated_df[\"transaction_date\"].dt.dayofyear\n",
    "aggregated_df[\"day_of_year_sin\"] = np.sin(2 * np.pi * aggregated_df[\"day_of_year\"] / 365)\n",
    "aggregated_df[\"day_of_year_cos\"] = np.cos(2 * np.pi * aggregated_df[\"day_of_year\"] / 365)"
   ]
  },
  {
   "cell_type": "code",
   "execution_count": 52,
   "id": "c2b8e813",
   "metadata": {},
   "outputs": [],
   "source": [
    "aggregated_df.drop(columns=[\"day_of_week\", \"month\", 'day_of_year'], inplace=True)"
   ]
  },
  {
   "cell_type": "code",
   "execution_count": 53,
   "id": "f517eacd",
   "metadata": {},
   "outputs": [
    {
     "data": {
      "text/plain": [
       "(19746, 16)"
      ]
     },
     "execution_count": 53,
     "metadata": {},
     "output_type": "execute_result"
    }
   ],
   "source": [
    "aggregated_df.shape"
   ]
  },
  {
   "cell_type": "markdown",
   "id": "dab339ba",
   "metadata": {},
   "source": [
    "### 3.3 Removing the unwanted columns"
   ]
  },
  {
   "cell_type": "code",
   "execution_count": 54,
   "id": "6d084499",
   "metadata": {},
   "outputs": [],
   "source": [
    "aggregated_df.drop(columns=['event_name'], inplace=True)"
   ]
  },
  {
   "cell_type": "markdown",
   "id": "e0d35dd2",
   "metadata": {},
   "source": [
    "### 3.4 Creating Lag features and rolling mean statistics"
   ]
  },
  {
   "cell_type": "code",
   "execution_count": 55,
   "id": "62eeb8bc",
   "metadata": {},
   "outputs": [],
   "source": [
    "# Ensure the data is sorted by date\n",
    "aggregated_df = aggregated_df.sort_values([\"transaction_date\", 'category', 'product'])\n",
    "\n",
    "# Create lag features\n",
    "for lag in [1, 7, 14]:\n",
    "    aggregated_df[f\"lag_{lag}\"] = aggregated_df.groupby(['category', 'product'])[\"transaction_amount\"].shift(lag)\n"
   ]
  },
  {
   "cell_type": "code",
   "execution_count": 56,
   "id": "109658e9",
   "metadata": {},
   "outputs": [],
   "source": [
    "# Create 7-day and 30-day rolling means\n",
    "for window in [7, 14]:\n",
    "    aggregated_df[f\"rolling_mean_{window}\"] = (\n",
    "        aggregated_df.groupby(['category', 'product'])[\"transaction_amount\"]\n",
    "        .transform(lambda x: x.shift(1).rolling(window=window).mean())\n",
    "    )\n"
   ]
  },
  {
   "cell_type": "markdown",
   "id": "77ca6a4f",
   "metadata": {},
   "source": [
    "### 3.4 Droping unwanted rows"
   ]
  },
  {
   "cell_type": "code",
   "execution_count": 57,
   "id": "c7c3b57a",
   "metadata": {},
   "outputs": [],
   "source": [
    "aggregated_df.dropna(inplace=True)"
   ]
  },
  {
   "cell_type": "code",
   "execution_count": 58,
   "id": "6946d455",
   "metadata": {},
   "outputs": [
    {
     "data": {
      "text/plain": [
       "(18767, 20)"
      ]
     },
     "execution_count": 58,
     "metadata": {},
     "output_type": "execute_result"
    }
   ],
   "source": [
    "aggregated_df.shape"
   ]
  },
  {
   "cell_type": "markdown",
   "id": "1eb6439c",
   "metadata": {},
   "source": [
    "# 4. Performing the train-test split"
   ]
  },
  {
   "cell_type": "code",
   "execution_count": 59,
   "id": "d66e76c4",
   "metadata": {},
   "outputs": [],
   "source": [
    "train_list, test_list = [], []\n",
    "\n",
    "for cat in aggregated_df['product'].unique():\n",
    "    df_cat = aggregated_df[aggregated_df['product'] == cat]\n",
    "    cutoff = df_cat['transaction_date'].quantile(0.8)\n",
    "    \n",
    "    train_list.append(df_cat[df_cat['transaction_date'] <= cutoff])\n",
    "    test_list.append(df_cat[df_cat['transaction_date'] > cutoff])\n",
    "\n",
    "train_df = pd.concat(train_list)\n",
    "test_df = pd.concat(test_list)\n"
   ]
  },
  {
   "cell_type": "code",
   "execution_count": 60,
   "id": "37b23d37",
   "metadata": {},
   "outputs": [
    {
     "data": {
      "text/html": [
       "<div>\n",
       "<style scoped>\n",
       "    .dataframe tbody tr th:only-of-type {\n",
       "        vertical-align: middle;\n",
       "    }\n",
       "\n",
       "    .dataframe tbody tr th {\n",
       "        vertical-align: top;\n",
       "    }\n",
       "\n",
       "    .dataframe thead th {\n",
       "        text-align: right;\n",
       "    }\n",
       "</style>\n",
       "<table border=\"1\" class=\"dataframe\">\n",
       "  <thead>\n",
       "    <tr style=\"text-align: right;\">\n",
       "      <th></th>\n",
       "      <th>product</th>\n",
       "      <th>transaction_date</th>\n",
       "      <th>category</th>\n",
       "      <th>transaction_amount</th>\n",
       "      <th>is_event</th>\n",
       "      <th>is_holiday</th>\n",
       "      <th>event_type</th>\n",
       "      <th>pre_event_window</th>\n",
       "      <th>post_event_window</th>\n",
       "      <th>day_of_week_sin</th>\n",
       "      <th>day_of_week_cos</th>\n",
       "      <th>month_sin</th>\n",
       "      <th>month_cos</th>\n",
       "      <th>day_of_year_sin</th>\n",
       "      <th>day_of_year_cos</th>\n",
       "      <th>lag_1</th>\n",
       "      <th>lag_7</th>\n",
       "      <th>lag_14</th>\n",
       "      <th>rolling_mean_7</th>\n",
       "      <th>rolling_mean_14</th>\n",
       "    </tr>\n",
       "  </thead>\n",
       "  <tbody>\n",
       "    <tr>\n",
       "      <th>5505</th>\n",
       "      <td>bank_deposit</td>\n",
       "      <td>2022-07-22</td>\n",
       "      <td>bank_transaction</td>\n",
       "      <td>14252.824286</td>\n",
       "      <td>False</td>\n",
       "      <td>False</td>\n",
       "      <td>none</td>\n",
       "      <td>False</td>\n",
       "      <td>True</td>\n",
       "      <td>-7.818315e-01</td>\n",
       "      <td>0.623490</td>\n",
       "      <td>-0.5</td>\n",
       "      <td>-0.866025</td>\n",
       "      <td>-0.345612</td>\n",
       "      <td>-0.938377</td>\n",
       "      <td>14459.664286</td>\n",
       "      <td>12919.087143</td>\n",
       "      <td>18821.502857</td>\n",
       "      <td>13552.084286</td>\n",
       "      <td>12367.874082</td>\n",
       "    </tr>\n",
       "    <tr>\n",
       "      <th>5506</th>\n",
       "      <td>bank_deposit</td>\n",
       "      <td>2022-07-23</td>\n",
       "      <td>bank_transaction</td>\n",
       "      <td>16299.682857</td>\n",
       "      <td>False</td>\n",
       "      <td>False</td>\n",
       "      <td>none</td>\n",
       "      <td>False</td>\n",
       "      <td>False</td>\n",
       "      <td>-2.449294e-16</td>\n",
       "      <td>1.000000</td>\n",
       "      <td>-0.5</td>\n",
       "      <td>-0.866025</td>\n",
       "      <td>-0.361714</td>\n",
       "      <td>-0.932289</td>\n",
       "      <td>14252.824286</td>\n",
       "      <td>13105.095714</td>\n",
       "      <td>10175.725714</td>\n",
       "      <td>13742.618163</td>\n",
       "      <td>12041.539898</td>\n",
       "    </tr>\n",
       "    <tr>\n",
       "      <th>5507</th>\n",
       "      <td>bank_deposit</td>\n",
       "      <td>2022-07-24</td>\n",
       "      <td>bank_transaction</td>\n",
       "      <td>15312.768571</td>\n",
       "      <td>False</td>\n",
       "      <td>True</td>\n",
       "      <td>none</td>\n",
       "      <td>False</td>\n",
       "      <td>False</td>\n",
       "      <td>7.818315e-01</td>\n",
       "      <td>0.623490</td>\n",
       "      <td>-0.5</td>\n",
       "      <td>-0.866025</td>\n",
       "      <td>-0.377708</td>\n",
       "      <td>-0.925925</td>\n",
       "      <td>16299.682857</td>\n",
       "      <td>12302.302857</td>\n",
       "      <td>10219.314286</td>\n",
       "      <td>14198.987755</td>\n",
       "      <td>12478.965408</td>\n",
       "    </tr>\n",
       "    <tr>\n",
       "      <th>5508</th>\n",
       "      <td>bank_deposit</td>\n",
       "      <td>2022-07-25</td>\n",
       "      <td>bank_transaction</td>\n",
       "      <td>13722.465714</td>\n",
       "      <td>False</td>\n",
       "      <td>False</td>\n",
       "      <td>none</td>\n",
       "      <td>False</td>\n",
       "      <td>False</td>\n",
       "      <td>9.749279e-01</td>\n",
       "      <td>-0.222521</td>\n",
       "      <td>-0.5</td>\n",
       "      <td>-0.866025</td>\n",
       "      <td>-0.393590</td>\n",
       "      <td>-0.919286</td>\n",
       "      <td>15312.768571</td>\n",
       "      <td>12995.061429</td>\n",
       "      <td>8510.560000</td>\n",
       "      <td>14629.054286</td>\n",
       "      <td>12842.783571</td>\n",
       "    </tr>\n",
       "    <tr>\n",
       "      <th>5509</th>\n",
       "      <td>bank_deposit</td>\n",
       "      <td>2022-07-26</td>\n",
       "      <td>bank_transaction</td>\n",
       "      <td>10339.091429</td>\n",
       "      <td>False</td>\n",
       "      <td>False</td>\n",
       "      <td>none</td>\n",
       "      <td>False</td>\n",
       "      <td>False</td>\n",
       "      <td>4.338837e-01</td>\n",
       "      <td>-0.900969</td>\n",
       "      <td>-0.5</td>\n",
       "      <td>-0.866025</td>\n",
       "      <td>-0.409356</td>\n",
       "      <td>-0.912375</td>\n",
       "      <td>13722.465714</td>\n",
       "      <td>14845.290000</td>\n",
       "      <td>9031.008571</td>\n",
       "      <td>14732.969184</td>\n",
       "      <td>13215.062551</td>\n",
       "    </tr>\n",
       "  </tbody>\n",
       "</table>\n",
       "</div>"
      ],
      "text/plain": [
       "           product transaction_date          category  transaction_amount  \\\n",
       "5505  bank_deposit       2022-07-22  bank_transaction        14252.824286   \n",
       "5506  bank_deposit       2022-07-23  bank_transaction        16299.682857   \n",
       "5507  bank_deposit       2022-07-24  bank_transaction        15312.768571   \n",
       "5508  bank_deposit       2022-07-25  bank_transaction        13722.465714   \n",
       "5509  bank_deposit       2022-07-26  bank_transaction        10339.091429   \n",
       "\n",
       "      is_event  is_holiday event_type  pre_event_window  post_event_window  \\\n",
       "5505     False       False       none             False               True   \n",
       "5506     False       False       none             False              False   \n",
       "5507     False        True       none             False              False   \n",
       "5508     False       False       none             False              False   \n",
       "5509     False       False       none             False              False   \n",
       "\n",
       "      day_of_week_sin  day_of_week_cos  month_sin  month_cos  day_of_year_sin  \\\n",
       "5505    -7.818315e-01         0.623490       -0.5  -0.866025        -0.345612   \n",
       "5506    -2.449294e-16         1.000000       -0.5  -0.866025        -0.361714   \n",
       "5507     7.818315e-01         0.623490       -0.5  -0.866025        -0.377708   \n",
       "5508     9.749279e-01        -0.222521       -0.5  -0.866025        -0.393590   \n",
       "5509     4.338837e-01        -0.900969       -0.5  -0.866025        -0.409356   \n",
       "\n",
       "      day_of_year_cos         lag_1         lag_7        lag_14  \\\n",
       "5505        -0.938377  14459.664286  12919.087143  18821.502857   \n",
       "5506        -0.932289  14252.824286  13105.095714  10175.725714   \n",
       "5507        -0.925925  16299.682857  12302.302857  10219.314286   \n",
       "5508        -0.919286  15312.768571  12995.061429   8510.560000   \n",
       "5509        -0.912375  13722.465714  14845.290000   9031.008571   \n",
       "\n",
       "      rolling_mean_7  rolling_mean_14  \n",
       "5505    13552.084286     12367.874082  \n",
       "5506    13742.618163     12041.539898  \n",
       "5507    14198.987755     12478.965408  \n",
       "5508    14629.054286     12842.783571  \n",
       "5509    14732.969184     13215.062551  "
      ]
     },
     "execution_count": 60,
     "metadata": {},
     "output_type": "execute_result"
    }
   ],
   "source": [
    "train_df.head()"
   ]
  },
  {
   "cell_type": "markdown",
   "id": "580e0df0",
   "metadata": {},
   "source": [
    "### 4.1.1 Encoding the categorical features using Target Encoding and One-Hot Encoding"
   ]
  },
  {
   "cell_type": "code",
   "execution_count": 61,
   "id": "7845e0ad",
   "metadata": {},
   "outputs": [],
   "source": [
    "# train_df.drop(columns=['transaction_date'], inplace=True)\n",
    "# test_df.drop(columns=['transaction_date'], inplace=True)"
   ]
  },
  {
   "cell_type": "code",
   "execution_count": 62,
   "id": "08a78877",
   "metadata": {},
   "outputs": [
    {
     "name": "stderr",
     "output_type": "stream",
     "text": [
      "C:\\Users\\JARVIS\\AppData\\Local\\Temp\\ipykernel_16968\\405799129.py:13: FutureWarning: A value is trying to be set on a copy of a DataFrame or Series through chained assignment using an inplace method.\n",
      "The behavior will change in pandas 3.0. This inplace method will never work because the intermediate object on which we are setting values always behaves as a copy.\n",
      "\n",
      "For example, when doing 'df[col].method(value, inplace=True)', try using 'df.method({col: value}, inplace=True)' or df[col] = df[col].method(value) instead, to perform the operation inplace on the original object.\n",
      "\n",
      "\n",
      "  test_df['product'].fillna(global_mean, inplace=True)\n"
     ]
    }
   ],
   "source": [
    "# Step 1: Compute mean target value per category (from training data only)\n",
    "product_target_mean = train_df.groupby('product')['transaction_amount'].mean()\n",
    "category_target_mean = train_df.groupby('category')['transaction_amount'].mean()\n",
    "\n",
    "# Step 2: Map encoded values to both train and test sets\n",
    "train_df['product'] = train_df['product'].map(product_target_mean)\n",
    "test_df['product'] = test_df['product'].map(product_target_mean)\n",
    "train_df['category'] = train_df['category'].map(category_target_mean)\n",
    "test_df['category'] = test_df['category'].map(category_target_mean)\n",
    "\n",
    "# Step 3 (optional): Fill NaNs in test set (in case unseen categories exist)\n",
    "global_mean = train_df['transaction_amount'].mean()\n",
    "test_df['product'].fillna(global_mean, inplace=True)\n"
   ]
  },
  {
   "cell_type": "code",
   "execution_count": 63,
   "id": "e75c0d6d",
   "metadata": {},
   "outputs": [],
   "source": [
    "from sklearn.preprocessing import OneHotEncoder\n",
    "import pandas as pd\n",
    "\n",
    "# 2. Create and fit encoder\n",
    "encoder = OneHotEncoder(sparse_output=False, handle_unknown='ignore')\n",
    "encoder.fit(train_df[['event_type']])\n",
    "\n",
    "# 3. Transform both train and test\n",
    "train_encoded = encoder.transform(train_df[['event_type']])\n",
    "test_encoded = encoder.transform(test_df[['event_type']])\n",
    "\n",
    "# 4. Get encoded column names\n",
    "encoded_cols = encoder.get_feature_names_out(['event_type'])\n",
    "\n",
    "# 5. Convert to DataFrame\n",
    "train_encoded_df = pd.DataFrame(train_encoded, columns=encoded_cols, index=train_df.index)\n",
    "test_encoded_df = pd.DataFrame(test_encoded, columns=encoded_cols, index=test_df.index)\n",
    "\n",
    "# 6. Merge with original DataFrames\n",
    "train_df = pd.concat([train_df.drop(columns=['event_type']), train_encoded_df], axis=1)\n",
    "test_df = pd.concat([test_df.drop(columns=['event_type']), test_encoded_df], axis=1)\n"
   ]
  },
  {
   "cell_type": "code",
   "execution_count": 64,
   "id": "88ebfc53",
   "metadata": {},
   "outputs": [],
   "source": [
    "X_train = train_df.dropna(subset=['transaction_amount']).drop(columns=['transaction_amount', 'transaction_date'])\n",
    "X_test = test_df.dropna(subset=['transaction_amount']).drop(columns=['transaction_amount', 'transaction_date'])\n",
    "\n",
    "y_train = train_df['transaction_amount']\n",
    "y_test = test_df['transaction_amount']\n"
   ]
  },
  {
   "cell_type": "code",
   "execution_count": 65,
   "id": "c525e8b6",
   "metadata": {},
   "outputs": [
    {
     "name": "stdout",
     "output_type": "stream",
     "text": [
      "<class 'pandas.core.frame.DataFrame'>\n",
      "Index: 15011 entries, 5505 to 18434\n",
      "Data columns (total 22 columns):\n",
      " #   Column               Non-Null Count  Dtype         \n",
      "---  ------               --------------  -----         \n",
      " 0   product              15011 non-null  float64       \n",
      " 1   transaction_date     15011 non-null  datetime64[ns]\n",
      " 2   category             15011 non-null  float64       \n",
      " 3   transaction_amount   15011 non-null  float64       \n",
      " 4   is_event             15011 non-null  bool          \n",
      " 5   is_holiday           15011 non-null  bool          \n",
      " 6   pre_event_window     15011 non-null  bool          \n",
      " 7   post_event_window    15011 non-null  bool          \n",
      " 8   day_of_week_sin      15011 non-null  float64       \n",
      " 9   day_of_week_cos      15011 non-null  float64       \n",
      " 10  month_sin            15011 non-null  float64       \n",
      " 11  month_cos            15011 non-null  float64       \n",
      " 12  day_of_year_sin      15011 non-null  float64       \n",
      " 13  day_of_year_cos      15011 non-null  float64       \n",
      " 14  lag_1                15011 non-null  float64       \n",
      " 15  lag_7                15011 non-null  float64       \n",
      " 16  lag_14               15011 non-null  float64       \n",
      " 17  rolling_mean_7       15011 non-null  float64       \n",
      " 18  rolling_mean_14      15011 non-null  float64       \n",
      " 19  event_type_disaster  15011 non-null  float64       \n",
      " 20  event_type_festival  15011 non-null  float64       \n",
      " 21  event_type_none      15011 non-null  float64       \n",
      "dtypes: bool(4), datetime64[ns](1), float64(17)\n",
      "memory usage: 2.2 MB\n"
     ]
    }
   ],
   "source": [
    "train_df.info()"
   ]
  },
  {
   "cell_type": "markdown",
   "id": "bdca746f",
   "metadata": {},
   "source": [
    "# 5. Training the model"
   ]
  },
  {
   "cell_type": "code",
   "execution_count": 66,
   "id": "65970b3b",
   "metadata": {},
   "outputs": [
    {
     "name": "stdout",
     "output_type": "stream",
     "text": [
      "<class 'pandas.core.frame.DataFrame'>\n",
      "Index: 15011 entries, 5505 to 18434\n",
      "Data columns (total 22 columns):\n",
      " #   Column               Non-Null Count  Dtype         \n",
      "---  ------               --------------  -----         \n",
      " 0   product              15011 non-null  float64       \n",
      " 1   transaction_date     15011 non-null  datetime64[ns]\n",
      " 2   category             15011 non-null  float64       \n",
      " 3   transaction_amount   15011 non-null  float64       \n",
      " 4   is_event             15011 non-null  bool          \n",
      " 5   is_holiday           15011 non-null  bool          \n",
      " 6   pre_event_window     15011 non-null  bool          \n",
      " 7   post_event_window    15011 non-null  bool          \n",
      " 8   day_of_week_sin      15011 non-null  float64       \n",
      " 9   day_of_week_cos      15011 non-null  float64       \n",
      " 10  month_sin            15011 non-null  float64       \n",
      " 11  month_cos            15011 non-null  float64       \n",
      " 12  day_of_year_sin      15011 non-null  float64       \n",
      " 13  day_of_year_cos      15011 non-null  float64       \n",
      " 14  lag_1                15011 non-null  float64       \n",
      " 15  lag_7                15011 non-null  float64       \n",
      " 16  lag_14               15011 non-null  float64       \n",
      " 17  rolling_mean_7       15011 non-null  float64       \n",
      " 18  rolling_mean_14      15011 non-null  float64       \n",
      " 19  event_type_disaster  15011 non-null  float64       \n",
      " 20  event_type_festival  15011 non-null  float64       \n",
      " 21  event_type_none      15011 non-null  float64       \n",
      "dtypes: bool(4), datetime64[ns](1), float64(17)\n",
      "memory usage: 2.2 MB\n"
     ]
    }
   ],
   "source": [
    "train_df.info()"
   ]
  },
  {
   "cell_type": "code",
   "execution_count": 67,
   "id": "fbebf58b",
   "metadata": {},
   "outputs": [
    {
     "data": {
      "text/html": [
       "<div>\n",
       "<style scoped>\n",
       "    .dataframe tbody tr th:only-of-type {\n",
       "        vertical-align: middle;\n",
       "    }\n",
       "\n",
       "    .dataframe tbody tr th {\n",
       "        vertical-align: top;\n",
       "    }\n",
       "\n",
       "    .dataframe thead th {\n",
       "        text-align: right;\n",
       "    }\n",
       "</style>\n",
       "<table border=\"1\" class=\"dataframe\">\n",
       "  <thead>\n",
       "    <tr style=\"text-align: right;\">\n",
       "      <th></th>\n",
       "      <th>product</th>\n",
       "      <th>transaction_date</th>\n",
       "      <th>category</th>\n",
       "      <th>transaction_amount</th>\n",
       "      <th>is_event</th>\n",
       "      <th>is_holiday</th>\n",
       "      <th>pre_event_window</th>\n",
       "      <th>post_event_window</th>\n",
       "      <th>day_of_week_sin</th>\n",
       "      <th>day_of_week_cos</th>\n",
       "      <th>...</th>\n",
       "      <th>day_of_year_sin</th>\n",
       "      <th>day_of_year_cos</th>\n",
       "      <th>lag_1</th>\n",
       "      <th>lag_7</th>\n",
       "      <th>lag_14</th>\n",
       "      <th>rolling_mean_7</th>\n",
       "      <th>rolling_mean_14</th>\n",
       "      <th>event_type_disaster</th>\n",
       "      <th>event_type_festival</th>\n",
       "      <th>event_type_none</th>\n",
       "    </tr>\n",
       "  </thead>\n",
       "  <tbody>\n",
       "    <tr>\n",
       "      <th>5505</th>\n",
       "      <td>14580.281241</td>\n",
       "      <td>2022-07-22</td>\n",
       "      <td>14310.069124</td>\n",
       "      <td>14252.824286</td>\n",
       "      <td>False</td>\n",
       "      <td>False</td>\n",
       "      <td>False</td>\n",
       "      <td>True</td>\n",
       "      <td>-7.818315e-01</td>\n",
       "      <td>0.623490</td>\n",
       "      <td>...</td>\n",
       "      <td>-0.345612</td>\n",
       "      <td>-0.938377</td>\n",
       "      <td>14459.664286</td>\n",
       "      <td>12919.087143</td>\n",
       "      <td>18821.502857</td>\n",
       "      <td>13552.084286</td>\n",
       "      <td>12367.874082</td>\n",
       "      <td>0.0</td>\n",
       "      <td>0.0</td>\n",
       "      <td>1.0</td>\n",
       "    </tr>\n",
       "    <tr>\n",
       "      <th>5506</th>\n",
       "      <td>14580.281241</td>\n",
       "      <td>2022-07-23</td>\n",
       "      <td>14310.069124</td>\n",
       "      <td>16299.682857</td>\n",
       "      <td>False</td>\n",
       "      <td>False</td>\n",
       "      <td>False</td>\n",
       "      <td>False</td>\n",
       "      <td>-2.449294e-16</td>\n",
       "      <td>1.000000</td>\n",
       "      <td>...</td>\n",
       "      <td>-0.361714</td>\n",
       "      <td>-0.932289</td>\n",
       "      <td>14252.824286</td>\n",
       "      <td>13105.095714</td>\n",
       "      <td>10175.725714</td>\n",
       "      <td>13742.618163</td>\n",
       "      <td>12041.539898</td>\n",
       "      <td>0.0</td>\n",
       "      <td>0.0</td>\n",
       "      <td>1.0</td>\n",
       "    </tr>\n",
       "    <tr>\n",
       "      <th>5507</th>\n",
       "      <td>14580.281241</td>\n",
       "      <td>2022-07-24</td>\n",
       "      <td>14310.069124</td>\n",
       "      <td>15312.768571</td>\n",
       "      <td>False</td>\n",
       "      <td>True</td>\n",
       "      <td>False</td>\n",
       "      <td>False</td>\n",
       "      <td>7.818315e-01</td>\n",
       "      <td>0.623490</td>\n",
       "      <td>...</td>\n",
       "      <td>-0.377708</td>\n",
       "      <td>-0.925925</td>\n",
       "      <td>16299.682857</td>\n",
       "      <td>12302.302857</td>\n",
       "      <td>10219.314286</td>\n",
       "      <td>14198.987755</td>\n",
       "      <td>12478.965408</td>\n",
       "      <td>0.0</td>\n",
       "      <td>0.0</td>\n",
       "      <td>1.0</td>\n",
       "    </tr>\n",
       "    <tr>\n",
       "      <th>5508</th>\n",
       "      <td>14580.281241</td>\n",
       "      <td>2022-07-25</td>\n",
       "      <td>14310.069124</td>\n",
       "      <td>13722.465714</td>\n",
       "      <td>False</td>\n",
       "      <td>False</td>\n",
       "      <td>False</td>\n",
       "      <td>False</td>\n",
       "      <td>9.749279e-01</td>\n",
       "      <td>-0.222521</td>\n",
       "      <td>...</td>\n",
       "      <td>-0.393590</td>\n",
       "      <td>-0.919286</td>\n",
       "      <td>15312.768571</td>\n",
       "      <td>12995.061429</td>\n",
       "      <td>8510.560000</td>\n",
       "      <td>14629.054286</td>\n",
       "      <td>12842.783571</td>\n",
       "      <td>0.0</td>\n",
       "      <td>0.0</td>\n",
       "      <td>1.0</td>\n",
       "    </tr>\n",
       "    <tr>\n",
       "      <th>5509</th>\n",
       "      <td>14580.281241</td>\n",
       "      <td>2022-07-26</td>\n",
       "      <td>14310.069124</td>\n",
       "      <td>10339.091429</td>\n",
       "      <td>False</td>\n",
       "      <td>False</td>\n",
       "      <td>False</td>\n",
       "      <td>False</td>\n",
       "      <td>4.338837e-01</td>\n",
       "      <td>-0.900969</td>\n",
       "      <td>...</td>\n",
       "      <td>-0.409356</td>\n",
       "      <td>-0.912375</td>\n",
       "      <td>13722.465714</td>\n",
       "      <td>14845.290000</td>\n",
       "      <td>9031.008571</td>\n",
       "      <td>14732.969184</td>\n",
       "      <td>13215.062551</td>\n",
       "      <td>0.0</td>\n",
       "      <td>0.0</td>\n",
       "      <td>1.0</td>\n",
       "    </tr>\n",
       "  </tbody>\n",
       "</table>\n",
       "<p>5 rows × 22 columns</p>\n",
       "</div>"
      ],
      "text/plain": [
       "           product transaction_date      category  transaction_amount  \\\n",
       "5505  14580.281241       2022-07-22  14310.069124        14252.824286   \n",
       "5506  14580.281241       2022-07-23  14310.069124        16299.682857   \n",
       "5507  14580.281241       2022-07-24  14310.069124        15312.768571   \n",
       "5508  14580.281241       2022-07-25  14310.069124        13722.465714   \n",
       "5509  14580.281241       2022-07-26  14310.069124        10339.091429   \n",
       "\n",
       "      is_event  is_holiday  pre_event_window  post_event_window  \\\n",
       "5505     False       False             False               True   \n",
       "5506     False       False             False              False   \n",
       "5507     False        True             False              False   \n",
       "5508     False       False             False              False   \n",
       "5509     False       False             False              False   \n",
       "\n",
       "      day_of_week_sin  day_of_week_cos  ...  day_of_year_sin  day_of_year_cos  \\\n",
       "5505    -7.818315e-01         0.623490  ...        -0.345612        -0.938377   \n",
       "5506    -2.449294e-16         1.000000  ...        -0.361714        -0.932289   \n",
       "5507     7.818315e-01         0.623490  ...        -0.377708        -0.925925   \n",
       "5508     9.749279e-01        -0.222521  ...        -0.393590        -0.919286   \n",
       "5509     4.338837e-01        -0.900969  ...        -0.409356        -0.912375   \n",
       "\n",
       "             lag_1         lag_7        lag_14  rolling_mean_7  \\\n",
       "5505  14459.664286  12919.087143  18821.502857    13552.084286   \n",
       "5506  14252.824286  13105.095714  10175.725714    13742.618163   \n",
       "5507  16299.682857  12302.302857  10219.314286    14198.987755   \n",
       "5508  15312.768571  12995.061429   8510.560000    14629.054286   \n",
       "5509  13722.465714  14845.290000   9031.008571    14732.969184   \n",
       "\n",
       "      rolling_mean_14  event_type_disaster  event_type_festival  \\\n",
       "5505     12367.874082                  0.0                  0.0   \n",
       "5506     12041.539898                  0.0                  0.0   \n",
       "5507     12478.965408                  0.0                  0.0   \n",
       "5508     12842.783571                  0.0                  0.0   \n",
       "5509     13215.062551                  0.0                  0.0   \n",
       "\n",
       "      event_type_none  \n",
       "5505              1.0  \n",
       "5506              1.0  \n",
       "5507              1.0  \n",
       "5508              1.0  \n",
       "5509              1.0  \n",
       "\n",
       "[5 rows x 22 columns]"
      ]
     },
     "execution_count": 67,
     "metadata": {},
     "output_type": "execute_result"
    }
   ],
   "source": [
    "train_df.head()"
   ]
  },
  {
   "cell_type": "code",
   "execution_count": 68,
   "id": "b9087ab6",
   "metadata": {},
   "outputs": [
    {
     "data": {
      "text/html": [
       "<div>\n",
       "<style scoped>\n",
       "    .dataframe tbody tr th:only-of-type {\n",
       "        vertical-align: middle;\n",
       "    }\n",
       "\n",
       "    .dataframe tbody tr th {\n",
       "        vertical-align: top;\n",
       "    }\n",
       "\n",
       "    .dataframe thead th {\n",
       "        text-align: right;\n",
       "    }\n",
       "</style>\n",
       "<table border=\"1\" class=\"dataframe\">\n",
       "  <thead>\n",
       "    <tr style=\"text-align: right;\">\n",
       "      <th></th>\n",
       "      <th>product</th>\n",
       "      <th>category</th>\n",
       "      <th>is_event</th>\n",
       "      <th>is_holiday</th>\n",
       "      <th>pre_event_window</th>\n",
       "      <th>post_event_window</th>\n",
       "      <th>day_of_week_sin</th>\n",
       "      <th>day_of_week_cos</th>\n",
       "      <th>month_sin</th>\n",
       "      <th>month_cos</th>\n",
       "      <th>day_of_year_sin</th>\n",
       "      <th>day_of_year_cos</th>\n",
       "      <th>lag_1</th>\n",
       "      <th>lag_7</th>\n",
       "      <th>lag_14</th>\n",
       "      <th>rolling_mean_7</th>\n",
       "      <th>rolling_mean_14</th>\n",
       "      <th>event_type_disaster</th>\n",
       "      <th>event_type_festival</th>\n",
       "      <th>event_type_none</th>\n",
       "    </tr>\n",
       "  </thead>\n",
       "  <tbody>\n",
       "    <tr>\n",
       "      <th>5505</th>\n",
       "      <td>14580.281241</td>\n",
       "      <td>14310.069124</td>\n",
       "      <td>False</td>\n",
       "      <td>False</td>\n",
       "      <td>False</td>\n",
       "      <td>True</td>\n",
       "      <td>-7.818315e-01</td>\n",
       "      <td>0.623490</td>\n",
       "      <td>-0.5</td>\n",
       "      <td>-0.866025</td>\n",
       "      <td>-0.345612</td>\n",
       "      <td>-0.938377</td>\n",
       "      <td>14459.664286</td>\n",
       "      <td>12919.087143</td>\n",
       "      <td>18821.502857</td>\n",
       "      <td>13552.084286</td>\n",
       "      <td>12367.874082</td>\n",
       "      <td>0.0</td>\n",
       "      <td>0.0</td>\n",
       "      <td>1.0</td>\n",
       "    </tr>\n",
       "    <tr>\n",
       "      <th>5506</th>\n",
       "      <td>14580.281241</td>\n",
       "      <td>14310.069124</td>\n",
       "      <td>False</td>\n",
       "      <td>False</td>\n",
       "      <td>False</td>\n",
       "      <td>False</td>\n",
       "      <td>-2.449294e-16</td>\n",
       "      <td>1.000000</td>\n",
       "      <td>-0.5</td>\n",
       "      <td>-0.866025</td>\n",
       "      <td>-0.361714</td>\n",
       "      <td>-0.932289</td>\n",
       "      <td>14252.824286</td>\n",
       "      <td>13105.095714</td>\n",
       "      <td>10175.725714</td>\n",
       "      <td>13742.618163</td>\n",
       "      <td>12041.539898</td>\n",
       "      <td>0.0</td>\n",
       "      <td>0.0</td>\n",
       "      <td>1.0</td>\n",
       "    </tr>\n",
       "    <tr>\n",
       "      <th>5507</th>\n",
       "      <td>14580.281241</td>\n",
       "      <td>14310.069124</td>\n",
       "      <td>False</td>\n",
       "      <td>True</td>\n",
       "      <td>False</td>\n",
       "      <td>False</td>\n",
       "      <td>7.818315e-01</td>\n",
       "      <td>0.623490</td>\n",
       "      <td>-0.5</td>\n",
       "      <td>-0.866025</td>\n",
       "      <td>-0.377708</td>\n",
       "      <td>-0.925925</td>\n",
       "      <td>16299.682857</td>\n",
       "      <td>12302.302857</td>\n",
       "      <td>10219.314286</td>\n",
       "      <td>14198.987755</td>\n",
       "      <td>12478.965408</td>\n",
       "      <td>0.0</td>\n",
       "      <td>0.0</td>\n",
       "      <td>1.0</td>\n",
       "    </tr>\n",
       "    <tr>\n",
       "      <th>5508</th>\n",
       "      <td>14580.281241</td>\n",
       "      <td>14310.069124</td>\n",
       "      <td>False</td>\n",
       "      <td>False</td>\n",
       "      <td>False</td>\n",
       "      <td>False</td>\n",
       "      <td>9.749279e-01</td>\n",
       "      <td>-0.222521</td>\n",
       "      <td>-0.5</td>\n",
       "      <td>-0.866025</td>\n",
       "      <td>-0.393590</td>\n",
       "      <td>-0.919286</td>\n",
       "      <td>15312.768571</td>\n",
       "      <td>12995.061429</td>\n",
       "      <td>8510.560000</td>\n",
       "      <td>14629.054286</td>\n",
       "      <td>12842.783571</td>\n",
       "      <td>0.0</td>\n",
       "      <td>0.0</td>\n",
       "      <td>1.0</td>\n",
       "    </tr>\n",
       "    <tr>\n",
       "      <th>5509</th>\n",
       "      <td>14580.281241</td>\n",
       "      <td>14310.069124</td>\n",
       "      <td>False</td>\n",
       "      <td>False</td>\n",
       "      <td>False</td>\n",
       "      <td>False</td>\n",
       "      <td>4.338837e-01</td>\n",
       "      <td>-0.900969</td>\n",
       "      <td>-0.5</td>\n",
       "      <td>-0.866025</td>\n",
       "      <td>-0.409356</td>\n",
       "      <td>-0.912375</td>\n",
       "      <td>13722.465714</td>\n",
       "      <td>14845.290000</td>\n",
       "      <td>9031.008571</td>\n",
       "      <td>14732.969184</td>\n",
       "      <td>13215.062551</td>\n",
       "      <td>0.0</td>\n",
       "      <td>0.0</td>\n",
       "      <td>1.0</td>\n",
       "    </tr>\n",
       "  </tbody>\n",
       "</table>\n",
       "</div>"
      ],
      "text/plain": [
       "           product      category  is_event  is_holiday  pre_event_window  \\\n",
       "5505  14580.281241  14310.069124     False       False             False   \n",
       "5506  14580.281241  14310.069124     False       False             False   \n",
       "5507  14580.281241  14310.069124     False        True             False   \n",
       "5508  14580.281241  14310.069124     False       False             False   \n",
       "5509  14580.281241  14310.069124     False       False             False   \n",
       "\n",
       "      post_event_window  day_of_week_sin  day_of_week_cos  month_sin  \\\n",
       "5505               True    -7.818315e-01         0.623490       -0.5   \n",
       "5506              False    -2.449294e-16         1.000000       -0.5   \n",
       "5507              False     7.818315e-01         0.623490       -0.5   \n",
       "5508              False     9.749279e-01        -0.222521       -0.5   \n",
       "5509              False     4.338837e-01        -0.900969       -0.5   \n",
       "\n",
       "      month_cos  day_of_year_sin  day_of_year_cos         lag_1         lag_7  \\\n",
       "5505  -0.866025        -0.345612        -0.938377  14459.664286  12919.087143   \n",
       "5506  -0.866025        -0.361714        -0.932289  14252.824286  13105.095714   \n",
       "5507  -0.866025        -0.377708        -0.925925  16299.682857  12302.302857   \n",
       "5508  -0.866025        -0.393590        -0.919286  15312.768571  12995.061429   \n",
       "5509  -0.866025        -0.409356        -0.912375  13722.465714  14845.290000   \n",
       "\n",
       "            lag_14  rolling_mean_7  rolling_mean_14  event_type_disaster  \\\n",
       "5505  18821.502857    13552.084286     12367.874082                  0.0   \n",
       "5506  10175.725714    13742.618163     12041.539898                  0.0   \n",
       "5507  10219.314286    14198.987755     12478.965408                  0.0   \n",
       "5508   8510.560000    14629.054286     12842.783571                  0.0   \n",
       "5509   9031.008571    14732.969184     13215.062551                  0.0   \n",
       "\n",
       "      event_type_festival  event_type_none  \n",
       "5505                  0.0              1.0  \n",
       "5506                  0.0              1.0  \n",
       "5507                  0.0              1.0  \n",
       "5508                  0.0              1.0  \n",
       "5509                  0.0              1.0  "
      ]
     },
     "execution_count": 68,
     "metadata": {},
     "output_type": "execute_result"
    }
   ],
   "source": [
    "X_train.head()"
   ]
  },
  {
   "cell_type": "code",
   "execution_count": 69,
   "id": "4e892e02",
   "metadata": {},
   "outputs": [],
   "source": [
    "from xgboost import XGBRegressor\n",
    "\n",
    "# Train\n",
    "model_xgb = XGBRegressor(n_estimators=100)\n",
    "model_xgb.fit(X_train, y_train)\n",
    "\n",
    "# Predict\n",
    "y_pred = model_xgb.predict(X_test)"
   ]
  },
  {
   "cell_type": "markdown",
   "id": "89521c5e",
   "metadata": {},
   "source": [
    "# 6. Evaluation"
   ]
  },
  {
   "cell_type": "code",
   "execution_count": 70,
   "id": "bdec4b39",
   "metadata": {},
   "outputs": [
    {
     "name": "stdout",
     "output_type": "stream",
     "text": [
      "<class 'pandas.core.frame.DataFrame'>\n",
      "Index: 15011 entries, 5505 to 18434\n",
      "Data columns (total 22 columns):\n",
      " #   Column               Non-Null Count  Dtype         \n",
      "---  ------               --------------  -----         \n",
      " 0   product              15011 non-null  float64       \n",
      " 1   transaction_date     15011 non-null  datetime64[ns]\n",
      " 2   category             15011 non-null  float64       \n",
      " 3   transaction_amount   15011 non-null  float64       \n",
      " 4   is_event             15011 non-null  bool          \n",
      " 5   is_holiday           15011 non-null  bool          \n",
      " 6   pre_event_window     15011 non-null  bool          \n",
      " 7   post_event_window    15011 non-null  bool          \n",
      " 8   day_of_week_sin      15011 non-null  float64       \n",
      " 9   day_of_week_cos      15011 non-null  float64       \n",
      " 10  month_sin            15011 non-null  float64       \n",
      " 11  month_cos            15011 non-null  float64       \n",
      " 12  day_of_year_sin      15011 non-null  float64       \n",
      " 13  day_of_year_cos      15011 non-null  float64       \n",
      " 14  lag_1                15011 non-null  float64       \n",
      " 15  lag_7                15011 non-null  float64       \n",
      " 16  lag_14               15011 non-null  float64       \n",
      " 17  rolling_mean_7       15011 non-null  float64       \n",
      " 18  rolling_mean_14      15011 non-null  float64       \n",
      " 19  event_type_disaster  15011 non-null  float64       \n",
      " 20  event_type_festival  15011 non-null  float64       \n",
      " 21  event_type_none      15011 non-null  float64       \n",
      "dtypes: bool(4), datetime64[ns](1), float64(17)\n",
      "memory usage: 2.2 MB\n"
     ]
    }
   ],
   "source": [
    "train_df.info()"
   ]
  },
  {
   "cell_type": "code",
   "execution_count": 71,
   "id": "90b6103e",
   "metadata": {},
   "outputs": [
    {
     "name": "stdout",
     "output_type": "stream",
     "text": [
      "MAE: 1497.6993905855543\n",
      "R-squared: 0.9508778334477314\n",
      "MAPE: 0.10408122004975556\n"
     ]
    }
   ],
   "source": [
    "from sklearn.metrics import mean_absolute_error, r2_score, mean_absolute_percentage_error\n",
    "\n",
    "mae_xgb = mean_absolute_error(y_test, y_pred)\n",
    "print(\"MAE:\", mae_xgb)\n",
    "\n",
    "r2_xgb = r2_score(y_test, y_pred)\n",
    "print(\"R-squared:\", r2_xgb)\n",
    "\n",
    "mape_xgb = mean_absolute_percentage_error(y_test, y_pred)\n",
    "print(\"MAPE:\", mape_xgb)"
   ]
  },
  {
   "cell_type": "markdown",
   "id": "69acbbbb",
   "metadata": {},
   "source": [
    "# 7. Forecasting"
   ]
  },
  {
   "cell_type": "code",
   "execution_count": 72,
   "id": "1c65c75b",
   "metadata": {},
   "outputs": [],
   "source": [
    "_transaction_df = None  # cache in memory\n",
    "\n",
    "\n",
    "def load_transaction_data(refresh=False) -> pd.DataFrame:\n",
    "    global _transaction_df\n",
    "\n",
    "    if _transaction_df is None or refresh:\n",
    "        df = pd.read_csv('../../project/data/synthetic_data_v5.csv')  # or query DB\n",
    "        df['transaction_date'] = pd.to_datetime(df['transaction_date'], dayfirst=True)\n",
    "        df['category'] = df['category'].astype(str)\n",
    "        df['product'] = df['product'].astype(str)\n",
    "        _transaction_df = df\n",
    "\n",
    "    return _transaction_df.copy()\n",
    "\n",
    "\n",
    "def get_past_days_data_product(category_name, product_name, past_days=30):\n",
    "    today = datetime.today()\n",
    "    start_date = today - timedelta(days=past_days + 1)\n",
    "    end_date = today - timedelta(days=1)\n",
    "    df = load_transaction_data()\n",
    "    df = df[(df['category'] == category_name) & (df['product'] == product_name)]\n",
    "    df = df[df['transaction_date'].between(start_date, end_date)]\n",
    "\n",
    "    aggregated_df = df.groupby([\"transaction_date\"]).agg(\n",
    "        transaction_count=(\"amount\", \"count\"),\n",
    "        transaction_amount=(\"amount\", \"sum\")\n",
    "    ).reset_index()\n",
    "\n",
    "    # Reindex to include all date-category pairs\n",
    "    aggregated_df = aggregated_df.set_index('transaction_date').asfreq('D', fill_value=0)\n",
    "\n",
    "    # Reset index for further processing\n",
    "    aggregated_df = aggregated_df.reset_index()\n",
    "\n",
    "    return aggregated_df\n",
    "\n",
    "\n"
   ]
  },
  {
   "cell_type": "code",
   "execution_count": 73,
   "id": "59616a54",
   "metadata": {},
   "outputs": [
    {
     "data": {
      "text/plain": [
       "Index(['product', 'category', 'is_event', 'is_holiday', 'pre_event_window',\n",
       "       'post_event_window', 'day_of_week_sin', 'day_of_week_cos', 'month_sin',\n",
       "       'month_cos', 'day_of_year_sin', 'day_of_year_cos', 'lag_1', 'lag_7',\n",
       "       'lag_14', 'rolling_mean_7', 'rolling_mean_14', 'event_type_disaster',\n",
       "       'event_type_festival', 'event_type_none'],\n",
       "      dtype='object')"
      ]
     },
     "execution_count": 73,
     "metadata": {},
     "output_type": "execute_result"
    }
   ],
   "source": [
    "X_train.columns"
   ]
  },
  {
   "cell_type": "code",
   "execution_count": 74,
   "id": "8793e418",
   "metadata": {},
   "outputs": [],
   "source": [
    "import pandas as pd\n",
    "import numpy as np\n",
    "from datetime import timedelta, datetime\n",
    "import requests\n",
    "\n",
    "features = [\n",
    "       'product', 'category', 'is_event', 'is_holiday', 'pre_event_window',\n",
    "       'post_event_window', 'day_of_week_sin', 'day_of_week_cos', 'month_sin',\n",
    "       'month_cos', 'day_of_year_sin', 'day_of_year_cos', 'lag_1', 'lag_7',\n",
    "       'lag_14', 'rolling_mean_7', 'rolling_mean_14', 'event_type_disaster',\n",
    "       'event_type_festival', 'event_type_none'\n",
    "       ]\n",
    "\n",
    "def forecast_next_7_days_product(category_name, product_name, model, aggregated_df, category_target_mean, product_target_mean, global_mean, target_col='transaction_amount'):\n",
    "    # Step 1: Filter past data for this category\n",
    "    aggregated_df.sort_values('transaction_date', inplace=True)\n",
    "    aggregated_df.reset_index(drop=True, inplace=True)\n",
    "\n",
    "    # Step 2: Prepare future dates\n",
    "    last_date = aggregated_df['transaction_date'].max() \n",
    "    future_dates = pd.to_datetime([last_date + timedelta(days=i+1) for i in range(7)])\n",
    "\n",
    "    forecasts = []\n",
    "    \n",
    "    for forecast_date in future_dates:\n",
    "        row = {}\n",
    "        row['transaction_date'] = forecast_date\n",
    "\n",
    "        # === Static Features ===\n",
    "        row['category'] = category_target_mean.get(category_name, global_mean)\n",
    "        row['product'] = product_target_mean.get(product_name, global_mean)\n",
    "\n",
    "        data = requests.get(f'http://127.0.0.1:8000/api/calender/info/{forecast_date}').json()\n",
    "        row['is_event'] = data.get('is_event', False)\n",
    "        row['is_holiday'] = data.get('is_holiday', False)\n",
    "        row['pre_event_window'] = data.get('pre_event_window', False)\n",
    "        row['post_event_window'] = data.get('post_event_window', False)\n",
    "\n",
    "        # === Cyclical Features ===\n",
    "        dow = forecast_date.weekday()  # Monday=0\n",
    "        row[\"day_of_week\"] = row[\"transaction_date\"].dayofweek\n",
    "        row[\"day_of_week\"] = ((row[\"day_of_week\"] + 1) % 7) + 1\n",
    "        row['day_of_week_sin'] = np.sin(2 * np.pi * dow / 7)\n",
    "        row['day_of_week_cos'] = np.cos(2 * np.pi * dow / 7)\n",
    "\n",
    "        month = forecast_date.month\n",
    "        row['month_sin'] = np.sin(2 * np.pi * month / 12)\n",
    "        row['month_cos'] = np.cos(2 * np.pi * month / 12)\n",
    "\n",
    "        day_of_year = forecast_date.dayofyear\n",
    "        row['day_of_year_sin'] = np.sin(2 * np.pi * day_of_year / 365)\n",
    "        row['day_of_year_cos'] = np.cos(2 * np.pi * day_of_year / 365)\n",
    "\n",
    "        # === One-hot Event Type ===\n",
    "        row['event_type_festival'] = data.get('event_type', 'none') == 'festival'\n",
    "        row['event_type_disaster'] = data.get('event_type', 'none') == 'disaster'\n",
    "        row['event_type_none'] = data.get('event_type', 'none') == 'none'\n",
    "\n",
    "        # === Lag and Rolling ===\n",
    "        # Make sure to handle missing lag values (e.g. beginning of series)\n",
    "        try:\n",
    "            row['lag_1'] = aggregated_df.iloc[-1][target_col]\n",
    "            row['lag_7'] = aggregated_df.iloc[-7][target_col] if len(aggregated_df) >= 7 else row['lag_1']\n",
    "            row['lag_14'] = aggregated_df.iloc[-14][target_col] if len(aggregated_df) >= 14 else row['lag_7']\n",
    "        except IndexError:\n",
    "            row['lag_1'] = row['lag_7'] = row['lag_14'] = aggregated_df[target_col].mean()\n",
    "\n",
    "        row['rolling_mean_7'] = aggregated_df[target_col].rolling(window=7).mean().iloc[-1] if len(df_cat) >= 7 else df_cat['transaction_amount'].mean()\n",
    "        row['rolling_mean_14'] = aggregated_df[target_col].rolling(window=14).mean().iloc[-1] if len(df_cat) >= 14 else df_cat['transaction_amount'].mean()\n",
    "\n",
    "        # Convert to DataFrame and predict\n",
    "        X = pd.DataFrame([row])\n",
    "        prediction = model.predict(X[features])[0]\n",
    "        row[target_col] = prediction\n",
    "\n",
    "        # Append to results\n",
    "        forecasts.append(row)\n",
    "\n",
    "        # Append to aggregated_df to maintain rolling window\n",
    "        aggregated_df = pd.concat([aggregated_df, pd.DataFrame({\n",
    "            'transaction_date': [forecast_date],\n",
    "            target_col: [prediction]\n",
    "        })], ignore_index=True)\n",
    "\n",
    "    return pd.DataFrame(forecasts)\n"
   ]
  },
  {
   "cell_type": "code",
   "execution_count": 75,
   "id": "75b53526",
   "metadata": {},
   "outputs": [
    {
     "ename": "FileNotFoundError",
     "evalue": "[Errno 2] No such file or directory: '../../project/data/synthetic_data_v5.csv'",
     "output_type": "error",
     "traceback": [
      "\u001b[1;31m---------------------------------------------------------------------------\u001b[0m",
      "\u001b[1;31mFileNotFoundError\u001b[0m                         Traceback (most recent call last)",
      "Cell \u001b[1;32mIn[75], line 1\u001b[0m\n\u001b[1;32m----> 1\u001b[0m df_30 \u001b[38;5;241m=\u001b[39m \u001b[43mget_past_days_data_product\u001b[49m\u001b[43m(\u001b[49m\u001b[38;5;124;43m'\u001b[39;49m\u001b[38;5;124;43mtopup\u001b[39;49m\u001b[38;5;124;43m'\u001b[39;49m\u001b[43m,\u001b[49m\u001b[38;5;124;43m'\u001b[39;49m\u001b[38;5;124;43mntc_topup\u001b[39;49m\u001b[38;5;124;43m'\u001b[39;49m\u001b[43m,\u001b[49m\u001b[43m \u001b[49m\u001b[43mpast_days\u001b[49m\u001b[38;5;241;43m=\u001b[39;49m\u001b[38;5;241;43m30\u001b[39;49m\u001b[43m)\u001b[49m\n\u001b[0;32m      3\u001b[0m forecast_df \u001b[38;5;241m=\u001b[39m forecast_next_7_days_product(\n\u001b[0;32m      4\u001b[0m     category_name\u001b[38;5;241m=\u001b[39m\u001b[38;5;124m'\u001b[39m\u001b[38;5;124mtopup\u001b[39m\u001b[38;5;124m'\u001b[39m,\n\u001b[0;32m      5\u001b[0m     product_name\u001b[38;5;241m=\u001b[39m\u001b[38;5;124m'\u001b[39m\u001b[38;5;124mntc_topup\u001b[39m\u001b[38;5;124m'\u001b[39m,\n\u001b[1;32m   (...)\u001b[0m\n\u001b[0;32m     10\u001b[0m     global_mean\u001b[38;5;241m=\u001b[39mglobal_mean\n\u001b[0;32m     11\u001b[0m )\n\u001b[0;32m     12\u001b[0m \u001b[38;5;28mprint\u001b[39m(forecast_df[[\u001b[38;5;124m'\u001b[39m\u001b[38;5;124mtransaction_date\u001b[39m\u001b[38;5;124m'\u001b[39m, \u001b[38;5;124m'\u001b[39m\u001b[38;5;124mtransaction_amount\u001b[39m\u001b[38;5;124m'\u001b[39m]])\n",
      "Cell \u001b[1;32mIn[72], line 21\u001b[0m, in \u001b[0;36mget_past_days_data_product\u001b[1;34m(category_name, product_name, past_days)\u001b[0m\n\u001b[0;32m     19\u001b[0m start_date \u001b[38;5;241m=\u001b[39m today \u001b[38;5;241m-\u001b[39m timedelta(days\u001b[38;5;241m=\u001b[39mpast_days \u001b[38;5;241m+\u001b[39m \u001b[38;5;241m1\u001b[39m)\n\u001b[0;32m     20\u001b[0m end_date \u001b[38;5;241m=\u001b[39m today \u001b[38;5;241m-\u001b[39m timedelta(days\u001b[38;5;241m=\u001b[39m\u001b[38;5;241m1\u001b[39m)\n\u001b[1;32m---> 21\u001b[0m df \u001b[38;5;241m=\u001b[39m \u001b[43mload_transaction_data\u001b[49m\u001b[43m(\u001b[49m\u001b[43m)\u001b[49m\n\u001b[0;32m     22\u001b[0m df \u001b[38;5;241m=\u001b[39m df[(df[\u001b[38;5;124m'\u001b[39m\u001b[38;5;124mcategory\u001b[39m\u001b[38;5;124m'\u001b[39m] \u001b[38;5;241m==\u001b[39m category_name) \u001b[38;5;241m&\u001b[39m (df[\u001b[38;5;124m'\u001b[39m\u001b[38;5;124mproduct\u001b[39m\u001b[38;5;124m'\u001b[39m] \u001b[38;5;241m==\u001b[39m product_name)]\n\u001b[0;32m     23\u001b[0m df \u001b[38;5;241m=\u001b[39m df[df[\u001b[38;5;124m'\u001b[39m\u001b[38;5;124mtransaction_date\u001b[39m\u001b[38;5;124m'\u001b[39m]\u001b[38;5;241m.\u001b[39mbetween(start_date, end_date)]\n",
      "Cell \u001b[1;32mIn[72], line 8\u001b[0m, in \u001b[0;36mload_transaction_data\u001b[1;34m(refresh)\u001b[0m\n\u001b[0;32m      5\u001b[0m \u001b[38;5;28;01mglobal\u001b[39;00m _transaction_df\n\u001b[0;32m      7\u001b[0m \u001b[38;5;28;01mif\u001b[39;00m _transaction_df \u001b[38;5;129;01mis\u001b[39;00m \u001b[38;5;28;01mNone\u001b[39;00m \u001b[38;5;129;01mor\u001b[39;00m refresh:\n\u001b[1;32m----> 8\u001b[0m     df \u001b[38;5;241m=\u001b[39m \u001b[43mpd\u001b[49m\u001b[38;5;241;43m.\u001b[39;49m\u001b[43mread_csv\u001b[49m\u001b[43m(\u001b[49m\u001b[38;5;124;43m'\u001b[39;49m\u001b[38;5;124;43m../../project/data/synthetic_data_v5.csv\u001b[39;49m\u001b[38;5;124;43m'\u001b[39;49m\u001b[43m)\u001b[49m  \u001b[38;5;66;03m# or query DB\u001b[39;00m\n\u001b[0;32m      9\u001b[0m     df[\u001b[38;5;124m'\u001b[39m\u001b[38;5;124mtransaction_date\u001b[39m\u001b[38;5;124m'\u001b[39m] \u001b[38;5;241m=\u001b[39m pd\u001b[38;5;241m.\u001b[39mto_datetime(df[\u001b[38;5;124m'\u001b[39m\u001b[38;5;124mtransaction_date\u001b[39m\u001b[38;5;124m'\u001b[39m], dayfirst\u001b[38;5;241m=\u001b[39m\u001b[38;5;28;01mTrue\u001b[39;00m)\n\u001b[0;32m     10\u001b[0m     df[\u001b[38;5;124m'\u001b[39m\u001b[38;5;124mcategory\u001b[39m\u001b[38;5;124m'\u001b[39m] \u001b[38;5;241m=\u001b[39m df[\u001b[38;5;124m'\u001b[39m\u001b[38;5;124mcategory\u001b[39m\u001b[38;5;124m'\u001b[39m]\u001b[38;5;241m.\u001b[39mastype(\u001b[38;5;28mstr\u001b[39m)\n",
      "File \u001b[1;32mc:\\Users\\JARVIS\\anaconda3\\envs\\env_torch\\Lib\\site-packages\\pandas\\io\\parsers\\readers.py:1026\u001b[0m, in \u001b[0;36mread_csv\u001b[1;34m(filepath_or_buffer, sep, delimiter, header, names, index_col, usecols, dtype, engine, converters, true_values, false_values, skipinitialspace, skiprows, skipfooter, nrows, na_values, keep_default_na, na_filter, verbose, skip_blank_lines, parse_dates, infer_datetime_format, keep_date_col, date_parser, date_format, dayfirst, cache_dates, iterator, chunksize, compression, thousands, decimal, lineterminator, quotechar, quoting, doublequote, escapechar, comment, encoding, encoding_errors, dialect, on_bad_lines, delim_whitespace, low_memory, memory_map, float_precision, storage_options, dtype_backend)\u001b[0m\n\u001b[0;32m   1013\u001b[0m kwds_defaults \u001b[38;5;241m=\u001b[39m _refine_defaults_read(\n\u001b[0;32m   1014\u001b[0m     dialect,\n\u001b[0;32m   1015\u001b[0m     delimiter,\n\u001b[1;32m   (...)\u001b[0m\n\u001b[0;32m   1022\u001b[0m     dtype_backend\u001b[38;5;241m=\u001b[39mdtype_backend,\n\u001b[0;32m   1023\u001b[0m )\n\u001b[0;32m   1024\u001b[0m kwds\u001b[38;5;241m.\u001b[39mupdate(kwds_defaults)\n\u001b[1;32m-> 1026\u001b[0m \u001b[38;5;28;01mreturn\u001b[39;00m \u001b[43m_read\u001b[49m\u001b[43m(\u001b[49m\u001b[43mfilepath_or_buffer\u001b[49m\u001b[43m,\u001b[49m\u001b[43m \u001b[49m\u001b[43mkwds\u001b[49m\u001b[43m)\u001b[49m\n",
      "File \u001b[1;32mc:\\Users\\JARVIS\\anaconda3\\envs\\env_torch\\Lib\\site-packages\\pandas\\io\\parsers\\readers.py:620\u001b[0m, in \u001b[0;36m_read\u001b[1;34m(filepath_or_buffer, kwds)\u001b[0m\n\u001b[0;32m    617\u001b[0m _validate_names(kwds\u001b[38;5;241m.\u001b[39mget(\u001b[38;5;124m\"\u001b[39m\u001b[38;5;124mnames\u001b[39m\u001b[38;5;124m\"\u001b[39m, \u001b[38;5;28;01mNone\u001b[39;00m))\n\u001b[0;32m    619\u001b[0m \u001b[38;5;66;03m# Create the parser.\u001b[39;00m\n\u001b[1;32m--> 620\u001b[0m parser \u001b[38;5;241m=\u001b[39m \u001b[43mTextFileReader\u001b[49m\u001b[43m(\u001b[49m\u001b[43mfilepath_or_buffer\u001b[49m\u001b[43m,\u001b[49m\u001b[43m \u001b[49m\u001b[38;5;241;43m*\u001b[39;49m\u001b[38;5;241;43m*\u001b[39;49m\u001b[43mkwds\u001b[49m\u001b[43m)\u001b[49m\n\u001b[0;32m    622\u001b[0m \u001b[38;5;28;01mif\u001b[39;00m chunksize \u001b[38;5;129;01mor\u001b[39;00m iterator:\n\u001b[0;32m    623\u001b[0m     \u001b[38;5;28;01mreturn\u001b[39;00m parser\n",
      "File \u001b[1;32mc:\\Users\\JARVIS\\anaconda3\\envs\\env_torch\\Lib\\site-packages\\pandas\\io\\parsers\\readers.py:1620\u001b[0m, in \u001b[0;36mTextFileReader.__init__\u001b[1;34m(self, f, engine, **kwds)\u001b[0m\n\u001b[0;32m   1617\u001b[0m     \u001b[38;5;28mself\u001b[39m\u001b[38;5;241m.\u001b[39moptions[\u001b[38;5;124m\"\u001b[39m\u001b[38;5;124mhas_index_names\u001b[39m\u001b[38;5;124m\"\u001b[39m] \u001b[38;5;241m=\u001b[39m kwds[\u001b[38;5;124m\"\u001b[39m\u001b[38;5;124mhas_index_names\u001b[39m\u001b[38;5;124m\"\u001b[39m]\n\u001b[0;32m   1619\u001b[0m \u001b[38;5;28mself\u001b[39m\u001b[38;5;241m.\u001b[39mhandles: IOHandles \u001b[38;5;241m|\u001b[39m \u001b[38;5;28;01mNone\u001b[39;00m \u001b[38;5;241m=\u001b[39m \u001b[38;5;28;01mNone\u001b[39;00m\n\u001b[1;32m-> 1620\u001b[0m \u001b[38;5;28mself\u001b[39m\u001b[38;5;241m.\u001b[39m_engine \u001b[38;5;241m=\u001b[39m \u001b[38;5;28;43mself\u001b[39;49m\u001b[38;5;241;43m.\u001b[39;49m\u001b[43m_make_engine\u001b[49m\u001b[43m(\u001b[49m\u001b[43mf\u001b[49m\u001b[43m,\u001b[49m\u001b[43m \u001b[49m\u001b[38;5;28;43mself\u001b[39;49m\u001b[38;5;241;43m.\u001b[39;49m\u001b[43mengine\u001b[49m\u001b[43m)\u001b[49m\n",
      "File \u001b[1;32mc:\\Users\\JARVIS\\anaconda3\\envs\\env_torch\\Lib\\site-packages\\pandas\\io\\parsers\\readers.py:1880\u001b[0m, in \u001b[0;36mTextFileReader._make_engine\u001b[1;34m(self, f, engine)\u001b[0m\n\u001b[0;32m   1878\u001b[0m     \u001b[38;5;28;01mif\u001b[39;00m \u001b[38;5;124m\"\u001b[39m\u001b[38;5;124mb\u001b[39m\u001b[38;5;124m\"\u001b[39m \u001b[38;5;129;01mnot\u001b[39;00m \u001b[38;5;129;01min\u001b[39;00m mode:\n\u001b[0;32m   1879\u001b[0m         mode \u001b[38;5;241m+\u001b[39m\u001b[38;5;241m=\u001b[39m \u001b[38;5;124m\"\u001b[39m\u001b[38;5;124mb\u001b[39m\u001b[38;5;124m\"\u001b[39m\n\u001b[1;32m-> 1880\u001b[0m \u001b[38;5;28mself\u001b[39m\u001b[38;5;241m.\u001b[39mhandles \u001b[38;5;241m=\u001b[39m \u001b[43mget_handle\u001b[49m\u001b[43m(\u001b[49m\n\u001b[0;32m   1881\u001b[0m \u001b[43m    \u001b[49m\u001b[43mf\u001b[49m\u001b[43m,\u001b[49m\n\u001b[0;32m   1882\u001b[0m \u001b[43m    \u001b[49m\u001b[43mmode\u001b[49m\u001b[43m,\u001b[49m\n\u001b[0;32m   1883\u001b[0m \u001b[43m    \u001b[49m\u001b[43mencoding\u001b[49m\u001b[38;5;241;43m=\u001b[39;49m\u001b[38;5;28;43mself\u001b[39;49m\u001b[38;5;241;43m.\u001b[39;49m\u001b[43moptions\u001b[49m\u001b[38;5;241;43m.\u001b[39;49m\u001b[43mget\u001b[49m\u001b[43m(\u001b[49m\u001b[38;5;124;43m\"\u001b[39;49m\u001b[38;5;124;43mencoding\u001b[39;49m\u001b[38;5;124;43m\"\u001b[39;49m\u001b[43m,\u001b[49m\u001b[43m \u001b[49m\u001b[38;5;28;43;01mNone\u001b[39;49;00m\u001b[43m)\u001b[49m\u001b[43m,\u001b[49m\n\u001b[0;32m   1884\u001b[0m \u001b[43m    \u001b[49m\u001b[43mcompression\u001b[49m\u001b[38;5;241;43m=\u001b[39;49m\u001b[38;5;28;43mself\u001b[39;49m\u001b[38;5;241;43m.\u001b[39;49m\u001b[43moptions\u001b[49m\u001b[38;5;241;43m.\u001b[39;49m\u001b[43mget\u001b[49m\u001b[43m(\u001b[49m\u001b[38;5;124;43m\"\u001b[39;49m\u001b[38;5;124;43mcompression\u001b[39;49m\u001b[38;5;124;43m\"\u001b[39;49m\u001b[43m,\u001b[49m\u001b[43m \u001b[49m\u001b[38;5;28;43;01mNone\u001b[39;49;00m\u001b[43m)\u001b[49m\u001b[43m,\u001b[49m\n\u001b[0;32m   1885\u001b[0m \u001b[43m    \u001b[49m\u001b[43mmemory_map\u001b[49m\u001b[38;5;241;43m=\u001b[39;49m\u001b[38;5;28;43mself\u001b[39;49m\u001b[38;5;241;43m.\u001b[39;49m\u001b[43moptions\u001b[49m\u001b[38;5;241;43m.\u001b[39;49m\u001b[43mget\u001b[49m\u001b[43m(\u001b[49m\u001b[38;5;124;43m\"\u001b[39;49m\u001b[38;5;124;43mmemory_map\u001b[39;49m\u001b[38;5;124;43m\"\u001b[39;49m\u001b[43m,\u001b[49m\u001b[43m \u001b[49m\u001b[38;5;28;43;01mFalse\u001b[39;49;00m\u001b[43m)\u001b[49m\u001b[43m,\u001b[49m\n\u001b[0;32m   1886\u001b[0m \u001b[43m    \u001b[49m\u001b[43mis_text\u001b[49m\u001b[38;5;241;43m=\u001b[39;49m\u001b[43mis_text\u001b[49m\u001b[43m,\u001b[49m\n\u001b[0;32m   1887\u001b[0m \u001b[43m    \u001b[49m\u001b[43merrors\u001b[49m\u001b[38;5;241;43m=\u001b[39;49m\u001b[38;5;28;43mself\u001b[39;49m\u001b[38;5;241;43m.\u001b[39;49m\u001b[43moptions\u001b[49m\u001b[38;5;241;43m.\u001b[39;49m\u001b[43mget\u001b[49m\u001b[43m(\u001b[49m\u001b[38;5;124;43m\"\u001b[39;49m\u001b[38;5;124;43mencoding_errors\u001b[39;49m\u001b[38;5;124;43m\"\u001b[39;49m\u001b[43m,\u001b[49m\u001b[43m \u001b[49m\u001b[38;5;124;43m\"\u001b[39;49m\u001b[38;5;124;43mstrict\u001b[39;49m\u001b[38;5;124;43m\"\u001b[39;49m\u001b[43m)\u001b[49m\u001b[43m,\u001b[49m\n\u001b[0;32m   1888\u001b[0m \u001b[43m    \u001b[49m\u001b[43mstorage_options\u001b[49m\u001b[38;5;241;43m=\u001b[39;49m\u001b[38;5;28;43mself\u001b[39;49m\u001b[38;5;241;43m.\u001b[39;49m\u001b[43moptions\u001b[49m\u001b[38;5;241;43m.\u001b[39;49m\u001b[43mget\u001b[49m\u001b[43m(\u001b[49m\u001b[38;5;124;43m\"\u001b[39;49m\u001b[38;5;124;43mstorage_options\u001b[39;49m\u001b[38;5;124;43m\"\u001b[39;49m\u001b[43m,\u001b[49m\u001b[43m \u001b[49m\u001b[38;5;28;43;01mNone\u001b[39;49;00m\u001b[43m)\u001b[49m\u001b[43m,\u001b[49m\n\u001b[0;32m   1889\u001b[0m \u001b[43m\u001b[49m\u001b[43m)\u001b[49m\n\u001b[0;32m   1890\u001b[0m \u001b[38;5;28;01massert\u001b[39;00m \u001b[38;5;28mself\u001b[39m\u001b[38;5;241m.\u001b[39mhandles \u001b[38;5;129;01mis\u001b[39;00m \u001b[38;5;129;01mnot\u001b[39;00m \u001b[38;5;28;01mNone\u001b[39;00m\n\u001b[0;32m   1891\u001b[0m f \u001b[38;5;241m=\u001b[39m \u001b[38;5;28mself\u001b[39m\u001b[38;5;241m.\u001b[39mhandles\u001b[38;5;241m.\u001b[39mhandle\n",
      "File \u001b[1;32mc:\\Users\\JARVIS\\anaconda3\\envs\\env_torch\\Lib\\site-packages\\pandas\\io\\common.py:873\u001b[0m, in \u001b[0;36mget_handle\u001b[1;34m(path_or_buf, mode, encoding, compression, memory_map, is_text, errors, storage_options)\u001b[0m\n\u001b[0;32m    868\u001b[0m \u001b[38;5;28;01melif\u001b[39;00m \u001b[38;5;28misinstance\u001b[39m(handle, \u001b[38;5;28mstr\u001b[39m):\n\u001b[0;32m    869\u001b[0m     \u001b[38;5;66;03m# Check whether the filename is to be opened in binary mode.\u001b[39;00m\n\u001b[0;32m    870\u001b[0m     \u001b[38;5;66;03m# Binary mode does not support 'encoding' and 'newline'.\u001b[39;00m\n\u001b[0;32m    871\u001b[0m     \u001b[38;5;28;01mif\u001b[39;00m ioargs\u001b[38;5;241m.\u001b[39mencoding \u001b[38;5;129;01mand\u001b[39;00m \u001b[38;5;124m\"\u001b[39m\u001b[38;5;124mb\u001b[39m\u001b[38;5;124m\"\u001b[39m \u001b[38;5;129;01mnot\u001b[39;00m \u001b[38;5;129;01min\u001b[39;00m ioargs\u001b[38;5;241m.\u001b[39mmode:\n\u001b[0;32m    872\u001b[0m         \u001b[38;5;66;03m# Encoding\u001b[39;00m\n\u001b[1;32m--> 873\u001b[0m         handle \u001b[38;5;241m=\u001b[39m \u001b[38;5;28;43mopen\u001b[39;49m\u001b[43m(\u001b[49m\n\u001b[0;32m    874\u001b[0m \u001b[43m            \u001b[49m\u001b[43mhandle\u001b[49m\u001b[43m,\u001b[49m\n\u001b[0;32m    875\u001b[0m \u001b[43m            \u001b[49m\u001b[43mioargs\u001b[49m\u001b[38;5;241;43m.\u001b[39;49m\u001b[43mmode\u001b[49m\u001b[43m,\u001b[49m\n\u001b[0;32m    876\u001b[0m \u001b[43m            \u001b[49m\u001b[43mencoding\u001b[49m\u001b[38;5;241;43m=\u001b[39;49m\u001b[43mioargs\u001b[49m\u001b[38;5;241;43m.\u001b[39;49m\u001b[43mencoding\u001b[49m\u001b[43m,\u001b[49m\n\u001b[0;32m    877\u001b[0m \u001b[43m            \u001b[49m\u001b[43merrors\u001b[49m\u001b[38;5;241;43m=\u001b[39;49m\u001b[43merrors\u001b[49m\u001b[43m,\u001b[49m\n\u001b[0;32m    878\u001b[0m \u001b[43m            \u001b[49m\u001b[43mnewline\u001b[49m\u001b[38;5;241;43m=\u001b[39;49m\u001b[38;5;124;43m\"\u001b[39;49m\u001b[38;5;124;43m\"\u001b[39;49m\u001b[43m,\u001b[49m\n\u001b[0;32m    879\u001b[0m \u001b[43m        \u001b[49m\u001b[43m)\u001b[49m\n\u001b[0;32m    880\u001b[0m     \u001b[38;5;28;01melse\u001b[39;00m:\n\u001b[0;32m    881\u001b[0m         \u001b[38;5;66;03m# Binary mode\u001b[39;00m\n\u001b[0;32m    882\u001b[0m         handle \u001b[38;5;241m=\u001b[39m \u001b[38;5;28mopen\u001b[39m(handle, ioargs\u001b[38;5;241m.\u001b[39mmode)\n",
      "\u001b[1;31mFileNotFoundError\u001b[0m: [Errno 2] No such file or directory: '../../project/data/synthetic_data_v5.csv'"
     ]
    }
   ],
   "source": [
    "df_30 = get_past_days_data_product('topup','ntc_topup', past_days=30)\n",
    "\n",
    "forecast_df = forecast_next_7_days_product(\n",
    "    category_name='topup',\n",
    "    product_name='ntc_topup',\n",
    "    model=model_xgb,\n",
    "    aggregated_df=df_30,\n",
    "    category_target_mean=category_target_mean,\n",
    "    product_target_mean=product_target_mean,\n",
    "    global_mean=global_mean\n",
    ")\n",
    "print(forecast_df[['transaction_date', 'transaction_amount']])\n"
   ]
  },
  {
   "cell_type": "markdown",
   "id": "75b76bb9",
   "metadata": {},
   "source": [
    "# 8. Saving the model"
   ]
  },
  {
   "cell_type": "code",
   "execution_count": 76,
   "id": "72ed28e4",
   "metadata": {},
   "outputs": [],
   "source": [
    "import pickle\n",
    "\n",
    "with open('./models/xgb_model_product_amount.pkl', 'wb') as f:\n",
    "    data = {\n",
    "        'model': model_xgb,\n",
    "        'category_target_mean': category_target_mean,\n",
    "        'product_target_mean': product_target_mean,\n",
    "        'global_mean': global_mean,\n",
    "    }\n",
    "    pickle.dump(data, f)"
   ]
  },
  {
   "cell_type": "code",
   "execution_count": null,
   "id": "5308da5c",
   "metadata": {},
   "outputs": [],
   "source": []
  }
 ],
 "metadata": {
  "kernelspec": {
   "display_name": "env_torch",
   "language": "python",
   "name": "python3"
  },
  "language_info": {
   "codemirror_mode": {
    "name": "ipython",
    "version": 3
   },
   "file_extension": ".py",
   "mimetype": "text/x-python",
   "name": "python",
   "nbconvert_exporter": "python",
   "pygments_lexer": "ipython3",
   "version": "3.12.3"
  }
 },
 "nbformat": 4,
 "nbformat_minor": 5
}

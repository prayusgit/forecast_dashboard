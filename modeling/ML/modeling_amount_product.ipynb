{
 "cells": [
  {
   "cell_type": "code",
   "execution_count": 234,
   "id": "85a02c2c",
   "metadata": {},
   "outputs": [],
   "source": [
    "import numpy as numpy\n",
    "import pandas as pd\n",
    "import matplotlib.pyplot as plt\n",
    "import seaborn as sns\n",
    "import numpy as np\n",
    "import datetime"
   ]
  },
  {
   "cell_type": "code",
   "execution_count": 235,
   "id": "60fa7dc7",
   "metadata": {},
   "outputs": [],
   "source": [
    "df = pd.read_csv('../../project/data/synthetic_data_v5.csv')"
   ]
  },
  {
   "cell_type": "markdown",
   "id": "8b39f2ef",
   "metadata": {},
   "source": [
    "# 1. Structuring the data"
   ]
  },
  {
   "cell_type": "code",
   "execution_count": 236,
   "id": "2e26f680",
   "metadata": {},
   "outputs": [
    {
     "data": {
      "text/html": [
       "<div>\n",
       "<style scoped>\n",
       "    .dataframe tbody tr th:only-of-type {\n",
       "        vertical-align: middle;\n",
       "    }\n",
       "\n",
       "    .dataframe tbody tr th {\n",
       "        vertical-align: top;\n",
       "    }\n",
       "\n",
       "    .dataframe thead th {\n",
       "        text-align: right;\n",
       "    }\n",
       "</style>\n",
       "<table border=\"1\" class=\"dataframe\">\n",
       "  <thead>\n",
       "    <tr style=\"text-align: right;\">\n",
       "      <th></th>\n",
       "      <th>transaction_date</th>\n",
       "      <th>category</th>\n",
       "      <th>product</th>\n",
       "      <th>amount</th>\n",
       "      <th>is_event</th>\n",
       "      <th>event_name</th>\n",
       "      <th>is_holiday</th>\n",
       "    </tr>\n",
       "  </thead>\n",
       "  <tbody>\n",
       "    <tr>\n",
       "      <th>94115</th>\n",
       "      <td>2025-06-30</td>\n",
       "      <td>government</td>\n",
       "      <td>tax_payment</td>\n",
       "      <td>6000.73</td>\n",
       "      <td>True</td>\n",
       "      <td>New Year English</td>\n",
       "      <td>True</td>\n",
       "    </tr>\n",
       "    <tr>\n",
       "      <th>94116</th>\n",
       "      <td>2025-06-30</td>\n",
       "      <td>government</td>\n",
       "      <td>govt_fee</td>\n",
       "      <td>6556.95</td>\n",
       "      <td>True</td>\n",
       "      <td>New Year English</td>\n",
       "      <td>True</td>\n",
       "    </tr>\n",
       "    <tr>\n",
       "      <th>94117</th>\n",
       "      <td>2025-06-30</td>\n",
       "      <td>shopping</td>\n",
       "      <td>online_shopping</td>\n",
       "      <td>1484.73</td>\n",
       "      <td>True</td>\n",
       "      <td>New Year English</td>\n",
       "      <td>True</td>\n",
       "    </tr>\n",
       "    <tr>\n",
       "      <th>94118</th>\n",
       "      <td>2025-06-30</td>\n",
       "      <td>insurance</td>\n",
       "      <td>insurance_payment</td>\n",
       "      <td>1138.25</td>\n",
       "      <td>True</td>\n",
       "      <td>New Year English</td>\n",
       "      <td>True</td>\n",
       "    </tr>\n",
       "    <tr>\n",
       "      <th>94119</th>\n",
       "      <td>2025-06-30</td>\n",
       "      <td>shopping</td>\n",
       "      <td>mobile_data_pack</td>\n",
       "      <td>6630.10</td>\n",
       "      <td>True</td>\n",
       "      <td>New Year English</td>\n",
       "      <td>True</td>\n",
       "    </tr>\n",
       "  </tbody>\n",
       "</table>\n",
       "</div>"
      ],
      "text/plain": [
       "      transaction_date    category            product   amount  is_event  \\\n",
       "94115       2025-06-30  government        tax_payment  6000.73      True   \n",
       "94116       2025-06-30  government           govt_fee  6556.95      True   \n",
       "94117       2025-06-30    shopping    online_shopping  1484.73      True   \n",
       "94118       2025-06-30   insurance  insurance_payment  1138.25      True   \n",
       "94119       2025-06-30    shopping   mobile_data_pack  6630.10      True   \n",
       "\n",
       "             event_name  is_holiday  \n",
       "94115  New Year English        True  \n",
       "94116  New Year English        True  \n",
       "94117  New Year English        True  \n",
       "94118  New Year English        True  \n",
       "94119  New Year English        True  "
      ]
     },
     "execution_count": 236,
     "metadata": {},
     "output_type": "execute_result"
    }
   ],
   "source": [
    "df.tail()"
   ]
  },
  {
   "cell_type": "code",
   "execution_count": 237,
   "id": "97dc2484",
   "metadata": {},
   "outputs": [
    {
     "name": "stdout",
     "output_type": "stream",
     "text": [
      "<class 'pandas.core.frame.DataFrame'>\n",
      "RangeIndex: 94120 entries, 0 to 94119\n",
      "Data columns (total 7 columns):\n",
      " #   Column            Non-Null Count  Dtype  \n",
      "---  ------            --------------  -----  \n",
      " 0   transaction_date  94120 non-null  object \n",
      " 1   category          94120 non-null  object \n",
      " 2   product           94120 non-null  object \n",
      " 3   amount            94120 non-null  float64\n",
      " 4   is_event          94120 non-null  bool   \n",
      " 5   event_name        13574 non-null  object \n",
      " 6   is_holiday        94120 non-null  bool   \n",
      "dtypes: bool(2), float64(1), object(4)\n",
      "memory usage: 3.8+ MB\n"
     ]
    }
   ],
   "source": [
    "df.info()"
   ]
  },
  {
   "cell_type": "code",
   "execution_count": 238,
   "id": "b4502b6d",
   "metadata": {},
   "outputs": [],
   "source": [
    "df['transaction_date'] = pd.to_datetime(df['transaction_date'])"
   ]
  },
  {
   "cell_type": "code",
   "execution_count": 239,
   "id": "c285a970",
   "metadata": {},
   "outputs": [],
   "source": [
    "\n",
    "# Set full date range\n",
    "full_date_range = pd.date_range(start=df['transaction_date'].min(),\n",
    "                                end=df['transaction_date'].max())\n",
    "\n",
    "# Get all unique categories or products\n",
    "all_products = df['product'].unique()\n",
    "\n",
    "# Create complete cartesian product of dates and categories\n",
    "complete_index = pd.MultiIndex.from_product(\n",
    "    [all_products, full_date_range],\n",
    "    names=['product', 'transaction_date']\n",
    ")\n",
    "\n",
    "# Group & aggregate per day per category if not already\n",
    "df_daily = df.groupby(['category', 'product', 'transaction_date']) \\\n",
    "    .agg({\n",
    "            \"amount\": \"sum\",\n",
    "            \"is_event\": \"max\",    # If any row that day is a festival, mark it as True\n",
    "            \"event_name\": \"first\",   # Just keep the first festival name (optional)\n",
    "            \"is_holiday\": \"max\"      # If any row that day is a holiday, mark it as True\n",
    "        }).reset_index()\n",
    "                                                        \n",
    "\n",
    "# Reindex to include all date-category pairs\n",
    "df_full = df_daily.set_index(['product', 'transaction_date']).reindex(complete_index)\n",
    "\n",
    "# Fill missing amount with 0\n",
    "df_full['amount'] = df_full['amount'].fillna(0)\n",
    "\n",
    "# Reset index for further processing\n",
    "aggregated_df = df_full.reset_index()\n",
    "\n"
   ]
  },
  {
   "cell_type": "code",
   "execution_count": 240,
   "id": "1b7b5383",
   "metadata": {},
   "outputs": [
    {
     "name": "stdout",
     "output_type": "stream",
     "text": [
      "<class 'pandas.core.frame.DataFrame'>\n",
      "RangeIndex: 19746 entries, 0 to 19745\n",
      "Data columns (total 7 columns):\n",
      " #   Column            Non-Null Count  Dtype         \n",
      "---  ------            --------------  -----         \n",
      " 0   product           19746 non-null  object        \n",
      " 1   transaction_date  19746 non-null  datetime64[ns]\n",
      " 2   category          19121 non-null  object        \n",
      " 3   amount            19746 non-null  float64       \n",
      " 4   is_event          19121 non-null  object        \n",
      " 5   event_name        1264 non-null   object        \n",
      " 6   is_holiday        19121 non-null  object        \n",
      "dtypes: datetime64[ns](1), float64(1), object(5)\n",
      "memory usage: 1.1+ MB\n"
     ]
    }
   ],
   "source": [
    "aggregated_df.info()"
   ]
  },
  {
   "cell_type": "code",
   "execution_count": 241,
   "id": "02c05d04",
   "metadata": {},
   "outputs": [],
   "source": [
    "aggregated_df['is_event'] = aggregated_df['is_event'].astype('bool')\n",
    "aggregated_df['is_holiday'] = aggregated_df['is_holiday'].astype('bool')"
   ]
  },
  {
   "cell_type": "code",
   "execution_count": 242,
   "id": "da11882f",
   "metadata": {},
   "outputs": [
    {
     "name": "stdout",
     "output_type": "stream",
     "text": [
      "<class 'pandas.core.frame.DataFrame'>\n",
      "RangeIndex: 19746 entries, 0 to 19745\n",
      "Data columns (total 7 columns):\n",
      " #   Column            Non-Null Count  Dtype         \n",
      "---  ------            --------------  -----         \n",
      " 0   product           19746 non-null  object        \n",
      " 1   transaction_date  19746 non-null  datetime64[ns]\n",
      " 2   category          19121 non-null  object        \n",
      " 3   amount            19746 non-null  float64       \n",
      " 4   is_event          19746 non-null  bool          \n",
      " 5   event_name        1264 non-null   object        \n",
      " 6   is_holiday        19746 non-null  bool          \n",
      "dtypes: bool(2), datetime64[ns](1), float64(1), object(3)\n",
      "memory usage: 810.0+ KB\n"
     ]
    }
   ],
   "source": [
    "aggregated_df.info()"
   ]
  },
  {
   "cell_type": "code",
   "execution_count": 243,
   "id": "7023e36f",
   "metadata": {},
   "outputs": [],
   "source": [
    "aggregated_df.rename(columns={'amount': \"transaction_amount\"}, inplace=True)"
   ]
  },
  {
   "cell_type": "code",
   "execution_count": 244,
   "id": "876588df",
   "metadata": {},
   "outputs": [],
   "source": [
    "# Step 3: Sort the result\n",
    "aggregated_df.sort_values([\"transaction_date\", \"category\", 'product'], inplace=True)"
   ]
  },
  {
   "cell_type": "code",
   "execution_count": 245,
   "id": "2e9ce6c9",
   "metadata": {},
   "outputs": [
    {
     "data": {
      "text/plain": [
       "is_event\n",
       "False    17920\n",
       "True      1826\n",
       "Name: count, dtype: int64"
      ]
     },
     "execution_count": 245,
     "metadata": {},
     "output_type": "execute_result"
    }
   ],
   "source": [
    "aggregated_df.is_event.value_counts()"
   ]
  },
  {
   "cell_type": "code",
   "execution_count": 246,
   "id": "d51e014a",
   "metadata": {},
   "outputs": [
    {
     "data": {
      "text/plain": [
       "(94120, 7)"
      ]
     },
     "execution_count": 246,
     "metadata": {},
     "output_type": "execute_result"
    }
   ],
   "source": [
    "df.shape"
   ]
  },
  {
   "cell_type": "code",
   "execution_count": 247,
   "id": "18c21cc8",
   "metadata": {},
   "outputs": [
    {
     "data": {
      "text/plain": [
       "(19746, 7)"
      ]
     },
     "execution_count": 247,
     "metadata": {},
     "output_type": "execute_result"
    }
   ],
   "source": [
    "aggregated_df.shape"
   ]
  },
  {
   "cell_type": "markdown",
   "id": "b2db7a5f",
   "metadata": {},
   "source": [
    "# 2. Data Profiling"
   ]
  },
  {
   "cell_type": "code",
   "execution_count": 248,
   "id": "5e04b293",
   "metadata": {},
   "outputs": [
    {
     "data": {
      "text/plain": [
       "array(['New Year English', None, nan, 'Maghe Sankranti',\n",
       "       \"Valentine's Day\", 'Shivaratri', 'Holi', 'New Year Nepali',\n",
       "       \"Mother's Day\", 'Buddha Jayanti', 'Rakhshya Bandhan', 'Teej',\n",
       "       'Indra Jatra', 'Dashain Day 1', 'Dashain Day 2', 'Dashain Day 3',\n",
       "       'Dashain Day 4', 'Dashain Day 5', 'Tihar Day 1', 'Tihar Day 2',\n",
       "       'Tihar Day 3', 'Tihar Day 4', 'Chhath', 'Christmas', 'Earthquake',\n",
       "       'Recession Alert'], dtype=object)"
      ]
     },
     "execution_count": 248,
     "metadata": {},
     "output_type": "execute_result"
    }
   ],
   "source": [
    "aggregated_df.event_name.unique()"
   ]
  },
  {
   "cell_type": "markdown",
   "id": "d5388e0c",
   "metadata": {},
   "source": [
    "# 3. Feature Engineering"
   ]
  },
  {
   "cell_type": "code",
   "execution_count": 249,
   "id": "1933b773",
   "metadata": {},
   "outputs": [],
   "source": [
    "def classify_event(name):\n",
    "    if pd.isna(name):\n",
    "        return \"none\"\n",
    "    if name.lower() in [\"earthquake\", \"recession alert\"]:\n",
    "        return \"disaster\"\n",
    "    return \"festival\"\n",
    "\n",
    "aggregated_df[\"event_type\"] = aggregated_df[\"event_name\"].apply(classify_event)\n"
   ]
  },
  {
   "cell_type": "code",
   "execution_count": 250,
   "id": "a16db475",
   "metadata": {},
   "outputs": [
    {
     "data": {
      "text/plain": [
       "event_type\n",
       "none        18482\n",
       "festival     1201\n",
       "disaster       63\n",
       "Name: count, dtype: int64"
      ]
     },
     "execution_count": 250,
     "metadata": {},
     "output_type": "execute_result"
    }
   ],
   "source": [
    "aggregated_df.event_type.value_counts()"
   ]
  },
  {
   "cell_type": "markdown",
   "id": "958ac448",
   "metadata": {},
   "source": [
    "### 3.1 Accounting for pre and post event effects"
   ]
  },
  {
   "cell_type": "code",
   "execution_count": 251,
   "id": "5b8f49f1",
   "metadata": {},
   "outputs": [],
   "source": [
    "from datetime import timedelta\n",
    "\n",
    "# Get all event dates by product\n",
    "event_dates = aggregated_df.dropna(subset=[\"event_name\"])[[\"transaction_date\", \"category\", 'product']]\n",
    "\n",
    "# Initialize flags\n",
    "aggregated_df[\"pre_event_window\"] = False\n",
    "aggregated_df[\"post_event_window\"] = False\n",
    "\n",
    "# Loop through events to set flags\n",
    "for _, row in event_dates.iterrows():\n",
    "    cat = row[\"category\"]\n",
    "    prod = row[\"product\"]\n",
    "    date = row[\"transaction_date\"]\n",
    "\n",
    "    mask_pre = (aggregated_df[\"category\"] == cat) & (aggregated_df[\"product\"] == prod) & \\\n",
    "               (aggregated_df[\"transaction_date\"] >= date - timedelta(days=7)) & \\\n",
    "               (aggregated_df[\"transaction_date\"] < date)\n",
    "    \n",
    "    mask_post =(aggregated_df[\"category\"] == cat) & (aggregated_df[\"product\"] == prod) & \\\n",
    "                (aggregated_df[\"transaction_date\"] > date) & \\\n",
    "                (aggregated_df[\"transaction_date\"] <= date + timedelta(days=7))\n",
    "\n",
    "    aggregated_df.loc[mask_pre, \"pre_event_window\"] = True\n",
    "    aggregated_df.loc[mask_post, \"post_event_window\"] = True\n"
   ]
  },
  {
   "cell_type": "code",
   "execution_count": 252,
   "id": "85e01fef",
   "metadata": {},
   "outputs": [
    {
     "data": {
      "text/html": [
       "<div>\n",
       "<style scoped>\n",
       "    .dataframe tbody tr th:only-of-type {\n",
       "        vertical-align: middle;\n",
       "    }\n",
       "\n",
       "    .dataframe tbody tr th {\n",
       "        vertical-align: top;\n",
       "    }\n",
       "\n",
       "    .dataframe thead th {\n",
       "        text-align: right;\n",
       "    }\n",
       "</style>\n",
       "<table border=\"1\" class=\"dataframe\">\n",
       "  <thead>\n",
       "    <tr style=\"text-align: right;\">\n",
       "      <th></th>\n",
       "      <th>product</th>\n",
       "      <th>transaction_date</th>\n",
       "      <th>category</th>\n",
       "      <th>transaction_amount</th>\n",
       "      <th>is_event</th>\n",
       "      <th>event_name</th>\n",
       "      <th>is_holiday</th>\n",
       "      <th>event_type</th>\n",
       "      <th>pre_event_window</th>\n",
       "      <th>post_event_window</th>\n",
       "    </tr>\n",
       "  </thead>\n",
       "  <tbody>\n",
       "    <tr>\n",
       "      <th>5485</th>\n",
       "      <td>bank_deposit</td>\n",
       "      <td>2022-06-30</td>\n",
       "      <td>bank_transaction</td>\n",
       "      <td>68514.51</td>\n",
       "      <td>True</td>\n",
       "      <td>New Year English</td>\n",
       "      <td>True</td>\n",
       "      <td>festival</td>\n",
       "      <td>False</td>\n",
       "      <td>False</td>\n",
       "    </tr>\n",
       "    <tr>\n",
       "      <th>10970</th>\n",
       "      <td>bank_withdrawal</td>\n",
       "      <td>2022-06-30</td>\n",
       "      <td>bank_transaction</td>\n",
       "      <td>42504.37</td>\n",
       "      <td>True</td>\n",
       "      <td>New Year English</td>\n",
       "      <td>True</td>\n",
       "      <td>festival</td>\n",
       "      <td>False</td>\n",
       "      <td>False</td>\n",
       "    </tr>\n",
       "    <tr>\n",
       "      <th>13164</th>\n",
       "      <td>electricity_bill</td>\n",
       "      <td>2022-06-30</td>\n",
       "      <td>bill_payment</td>\n",
       "      <td>22606.89</td>\n",
       "      <td>True</td>\n",
       "      <td>New Year English</td>\n",
       "      <td>True</td>\n",
       "      <td>festival</td>\n",
       "      <td>False</td>\n",
       "      <td>False</td>\n",
       "    </tr>\n",
       "    <tr>\n",
       "      <th>6582</th>\n",
       "      <td>internet_bill</td>\n",
       "      <td>2022-06-30</td>\n",
       "      <td>bill_payment</td>\n",
       "      <td>35946.78</td>\n",
       "      <td>True</td>\n",
       "      <td>New Year English</td>\n",
       "      <td>True</td>\n",
       "      <td>festival</td>\n",
       "      <td>False</td>\n",
       "      <td>False</td>\n",
       "    </tr>\n",
       "    <tr>\n",
       "      <th>2194</th>\n",
       "      <td>water_bill</td>\n",
       "      <td>2022-06-30</td>\n",
       "      <td>bill_payment</td>\n",
       "      <td>41235.86</td>\n",
       "      <td>True</td>\n",
       "      <td>New Year English</td>\n",
       "      <td>True</td>\n",
       "      <td>festival</td>\n",
       "      <td>False</td>\n",
       "      <td>False</td>\n",
       "    </tr>\n",
       "  </tbody>\n",
       "</table>\n",
       "</div>"
      ],
      "text/plain": [
       "                product transaction_date          category  \\\n",
       "5485       bank_deposit       2022-06-30  bank_transaction   \n",
       "10970   bank_withdrawal       2022-06-30  bank_transaction   \n",
       "13164  electricity_bill       2022-06-30      bill_payment   \n",
       "6582      internet_bill       2022-06-30      bill_payment   \n",
       "2194         water_bill       2022-06-30      bill_payment   \n",
       "\n",
       "       transaction_amount  is_event        event_name  is_holiday event_type  \\\n",
       "5485             68514.51      True  New Year English        True   festival   \n",
       "10970            42504.37      True  New Year English        True   festival   \n",
       "13164            22606.89      True  New Year English        True   festival   \n",
       "6582             35946.78      True  New Year English        True   festival   \n",
       "2194             41235.86      True  New Year English        True   festival   \n",
       "\n",
       "       pre_event_window  post_event_window  \n",
       "5485              False              False  \n",
       "10970             False              False  \n",
       "13164             False              False  \n",
       "6582              False              False  \n",
       "2194              False              False  "
      ]
     },
     "execution_count": 252,
     "metadata": {},
     "output_type": "execute_result"
    }
   ],
   "source": [
    "aggregated_df.head()"
   ]
  },
  {
   "cell_type": "code",
   "execution_count": 253,
   "id": "c428889e",
   "metadata": {},
   "outputs": [],
   "source": [
    "# aggregated_df.set_index(['transaction_date'], inplace=True)\n",
    "#"
   ]
  },
  {
   "cell_type": "code",
   "execution_count": 254,
   "id": "d6457725",
   "metadata": {},
   "outputs": [],
   "source": [
    "# unique_categories = aggregated_df['product'].unique()\n",
    "\n",
    "# for cat in unique_categories:\n",
    "#     rolling_mean_data = aggregated_df[(aggregated_df['product'] == cat)]['transaction_amount'].rolling(window=20).mean()\n",
    "#     aggregated_df.loc[aggregated_df['product'] == cat, 'transaction_amount'] = rolling_mean_data"
   ]
  },
  {
   "cell_type": "code",
   "execution_count": 255,
   "id": "84082e2d",
   "metadata": {},
   "outputs": [
    {
     "data": {
      "text/plain": [
       "<Axes: >"
      ]
     },
     "execution_count": 255,
     "metadata": {},
     "output_type": "execute_result"
    },
    {
     "data": {
      "image/png": "[encoded data removed]",
      "text/plain": [
       "<Figure size 640x480 with 2 Axes>"
      ]
     },
     "metadata": {},
     "output_type": "display_data"
    }
   ],
   "source": [
    "sns.heatmap(aggregated_df.isna())"
   ]
  },
  {
   "cell_type": "code",
   "execution_count": 256,
   "id": "85355306",
   "metadata": {},
   "outputs": [
    {
     "data": {
      "text/plain": [
       "<Axes: >"
      ]
     },
     "execution_count": 256,
     "metadata": {},
     "output_type": "execute_result"
    },
    {
     "data": {
      "image/png": "[encoded data removed]",
      "text/plain": [
       "<Figure size 640x480 with 1 Axes>"
      ]
     },
     "metadata": {},
     "output_type": "display_data"
    }
   ],
   "source": [
    "aggregated_df['transaction_amount'][aggregated_df['product'] == 'ncell_topup'].plot()"
   ]
  },
  {
   "cell_type": "markdown",
   "id": "b0e7b719",
   "metadata": {},
   "source": [
    "### 3.2 Making cyclical features for the dates"
   ]
  },
  {
   "cell_type": "code",
   "execution_count": 257,
   "id": "b698aff1",
   "metadata": {},
   "outputs": [],
   "source": [
    "# Day of Week (0 to 6)\n",
    "aggregated_df[\"day_of_week\"] = aggregated_df[\"transaction_date\"].dt.dayofweek\n",
    "# Shift so that Sunday = 1, Monday = 2, ..., Saturday = 7\n",
    "aggregated_df[\"day_of_week\"] = ((aggregated_df[\"day_of_week\"] + 1) % 7) + 1\n",
    "aggregated_df[\"day_of_week_sin\"] = np.sin(2 * np.pi * aggregated_df[\"day_of_week\"] / 7)\n",
    "aggregated_df[\"day_of_week_cos\"] = np.cos(2 * np.pi * aggregated_df[\"day_of_week\"] / 7)\n",
    "\n",
    "# Month (1 to 12)\n",
    "aggregated_df[\"month\"] = aggregated_df[\"transaction_date\"].dt.month\n",
    "aggregated_df[\"month_sin\"] = np.sin(2 * np.pi * aggregated_df[\"month\"] / 12)\n",
    "aggregated_df[\"month_cos\"] = np.cos(2 * np.pi * aggregated_df[\"month\"] / 12)\n",
    "\n",
    "\n",
    "# Year (1 to 365)\n",
    "aggregated_df[\"day_of_year\"] = aggregated_df[\"transaction_date\"].dt.dayofyear\n",
    "aggregated_df[\"day_of_year_sin\"] = np.sin(2 * np.pi * aggregated_df[\"day_of_year\"] / 365)\n",
    "aggregated_df[\"day_of_year_cos\"] = np.cos(2 * np.pi * aggregated_df[\"day_of_year\"] / 365)"
   ]
  },
  {
   "cell_type": "code",
   "execution_count": 258,
   "id": "c2b8e813",
   "metadata": {},
   "outputs": [],
   "source": [
    "aggregated_df.drop(columns=[\"day_of_week\", \"month\", 'day_of_year'], inplace=True)"
   ]
  },
  {
   "cell_type": "code",
   "execution_count": 259,
   "id": "f517eacd",
   "metadata": {},
   "outputs": [
    {
     "data": {
      "text/plain": [
       "(19746, 16)"
      ]
     },
     "execution_count": 259,
     "metadata": {},
     "output_type": "execute_result"
    }
   ],
   "source": [
    "aggregated_df.shape"
   ]
  },
  {
   "cell_type": "markdown",
   "id": "dab339ba",
   "metadata": {},
   "source": [
    "### 3.3 Removing the unwanted columns"
   ]
  },
  {
   "cell_type": "code",
   "execution_count": 260,
   "id": "6d084499",
   "metadata": {},
   "outputs": [],
   "source": [
    "aggregated_df.drop(columns=['event_name'], inplace=True)"
   ]
  },
  {
   "cell_type": "markdown",
   "id": "e0d35dd2",
   "metadata": {},
   "source": [
    "### 3.4 Creating Lag features and rolling mean statistics"
   ]
  },
  {
   "cell_type": "code",
   "execution_count": 261,
   "id": "62eeb8bc",
   "metadata": {},
   "outputs": [],
   "source": [
    "# Ensure the data is sorted by date\n",
    "aggregated_df = aggregated_df.sort_values([\"transaction_date\", 'category', 'product'])\n",
    "\n",
    "# Create lag features\n",
    "for lag in [1, 7, 14]:\n",
    "    aggregated_df[f\"lag_{lag}\"] = aggregated_df.groupby(['category', 'product'])[\"transaction_amount\"].shift(lag)\n"
   ]
  },
  {
   "cell_type": "code",
   "execution_count": 262,
   "id": "109658e9",
   "metadata": {},
   "outputs": [],
   "source": [
    "# Create 7-day and 30-day rolling means\n",
    "for window in [7, 14]:\n",
    "    aggregated_df[f\"rolling_mean_{window}\"] = (\n",
    "        aggregated_df.groupby(['category', 'product'])[\"transaction_amount\"]\n",
    "        .transform(lambda x: x.shift(1).rolling(window=window).mean())\n",
    "    )\n"
   ]
  },
  {
   "cell_type": "markdown",
   "id": "77ca6a4f",
   "metadata": {},
   "source": [
    "### 3.4 Droping unwanted rows"
   ]
  },
  {
   "cell_type": "code",
   "execution_count": 263,
   "id": "c7c3b57a",
   "metadata": {},
   "outputs": [],
   "source": [
    "aggregated_df.dropna(inplace=True)"
   ]
  },
  {
   "cell_type": "code",
   "execution_count": 264,
   "id": "6946d455",
   "metadata": {},
   "outputs": [
    {
     "data": {
      "text/plain": [
       "(18869, 20)"
      ]
     },
     "execution_count": 264,
     "metadata": {},
     "output_type": "execute_result"
    }
   ],
   "source": [
    "aggregated_df.shape"
   ]
  },
  {
   "cell_type": "markdown",
   "id": "1eb6439c",
   "metadata": {},
   "source": [
    "# 4. Performing the train-test split"
   ]
  },
  {
   "cell_type": "code",
   "execution_count": 265,
   "id": "d66e76c4",
   "metadata": {},
   "outputs": [],
   "source": [
    "train_list, test_list = [], []\n",
    "\n",
    "for cat in aggregated_df['product'].unique():\n",
    "    df_cat = aggregated_df[aggregated_df['product'] == cat]\n",
    "    cutoff = df_cat['transaction_date'].quantile(0.8)\n",
    "    \n",
    "    train_list.append(df_cat[df_cat['transaction_date'] <= cutoff])\n",
    "    test_list.append(df_cat[df_cat['transaction_date'] > cutoff])\n",
    "\n",
    "train_df = pd.concat(train_list)\n",
    "test_df = pd.concat(test_list)\n"
   ]
  },
  {
   "cell_type": "code",
   "execution_count": 266,
   "id": "37b23d37",
   "metadata": {},
   "outputs": [
    {
     "data": {
      "text/html": [
       "<div>\n",
       "<style scoped>\n",
       "    .dataframe tbody tr th:only-of-type {\n",
       "        vertical-align: middle;\n",
       "    }\n",
       "\n",
       "    .dataframe tbody tr th {\n",
       "        vertical-align: top;\n",
       "    }\n",
       "\n",
       "    .dataframe thead th {\n",
       "        text-align: right;\n",
       "    }\n",
       "</style>\n",
       "<table border=\"1\" class=\"dataframe\">\n",
       "  <thead>\n",
       "    <tr style=\"text-align: right;\">\n",
       "      <th></th>\n",
       "      <th>product</th>\n",
       "      <th>transaction_date</th>\n",
       "      <th>category</th>\n",
       "      <th>transaction_amount</th>\n",
       "      <th>is_event</th>\n",
       "      <th>is_holiday</th>\n",
       "      <th>event_type</th>\n",
       "      <th>pre_event_window</th>\n",
       "      <th>post_event_window</th>\n",
       "      <th>day_of_week_sin</th>\n",
       "      <th>day_of_week_cos</th>\n",
       "      <th>month_sin</th>\n",
       "      <th>month_cos</th>\n",
       "      <th>day_of_year_sin</th>\n",
       "      <th>day_of_year_cos</th>\n",
       "      <th>lag_1</th>\n",
       "      <th>lag_7</th>\n",
       "      <th>lag_14</th>\n",
       "      <th>rolling_mean_7</th>\n",
       "      <th>rolling_mean_14</th>\n",
       "    </tr>\n",
       "  </thead>\n",
       "  <tbody>\n",
       "    <tr>\n",
       "      <th>5499</th>\n",
       "      <td>bank_deposit</td>\n",
       "      <td>2022-07-14</td>\n",
       "      <td>bank_transaction</td>\n",
       "      <td>9296.13</td>\n",
       "      <td>False</td>\n",
       "      <td>False</td>\n",
       "      <td>none</td>\n",
       "      <td>False</td>\n",
       "      <td>True</td>\n",
       "      <td>-9.749279e-01</td>\n",
       "      <td>-0.222521</td>\n",
       "      <td>-0.5</td>\n",
       "      <td>-0.866025</td>\n",
       "      <td>-0.213521</td>\n",
       "      <td>-0.976938</td>\n",
       "      <td>22777.23</td>\n",
       "      <td>7994.07</td>\n",
       "      <td>68514.51</td>\n",
       "      <td>12919.087143</td>\n",
       "      <td>15870.295000</td>\n",
       "    </tr>\n",
       "    <tr>\n",
       "      <th>5500</th>\n",
       "      <td>bank_deposit</td>\n",
       "      <td>2022-07-15</td>\n",
       "      <td>bank_transaction</td>\n",
       "      <td>7629.27</td>\n",
       "      <td>False</td>\n",
       "      <td>True</td>\n",
       "      <td>none</td>\n",
       "      <td>False</td>\n",
       "      <td>True</td>\n",
       "      <td>-7.818315e-01</td>\n",
       "      <td>0.623490</td>\n",
       "      <td>-0.5</td>\n",
       "      <td>-0.866025</td>\n",
       "      <td>-0.230306</td>\n",
       "      <td>-0.973118</td>\n",
       "      <td>9296.13</td>\n",
       "      <td>13248.82</td>\n",
       "      <td>12943.70</td>\n",
       "      <td>13105.095714</td>\n",
       "      <td>11640.410714</td>\n",
       "    </tr>\n",
       "    <tr>\n",
       "      <th>5501</th>\n",
       "      <td>bank_deposit</td>\n",
       "      <td>2022-07-16</td>\n",
       "      <td>bank_transaction</td>\n",
       "      <td>15412.51</td>\n",
       "      <td>False</td>\n",
       "      <td>False</td>\n",
       "      <td>none</td>\n",
       "      <td>False</td>\n",
       "      <td>True</td>\n",
       "      <td>-2.449294e-16</td>\n",
       "      <td>1.000000</td>\n",
       "      <td>-0.5</td>\n",
       "      <td>-0.866025</td>\n",
       "      <td>-0.247022</td>\n",
       "      <td>-0.969010</td>\n",
       "      <td>7629.27</td>\n",
       "      <td>10563.20</td>\n",
       "      <td>22524.48</td>\n",
       "      <td>12302.302857</td>\n",
       "      <td>11260.808571</td>\n",
       "    </tr>\n",
       "    <tr>\n",
       "      <th>5502</th>\n",
       "      <td>bank_deposit</td>\n",
       "      <td>2022-07-17</td>\n",
       "      <td>bank_transaction</td>\n",
       "      <td>27404.51</td>\n",
       "      <td>False</td>\n",
       "      <td>False</td>\n",
       "      <td>none</td>\n",
       "      <td>False</td>\n",
       "      <td>True</td>\n",
       "      <td>7.818315e-01</td>\n",
       "      <td>0.623490</td>\n",
       "      <td>-0.5</td>\n",
       "      <td>-0.866025</td>\n",
       "      <td>-0.263665</td>\n",
       "      <td>-0.964614</td>\n",
       "      <td>15412.51</td>\n",
       "      <td>14452.91</td>\n",
       "      <td>10809.77</td>\n",
       "      <td>12995.061429</td>\n",
       "      <td>10752.810714</td>\n",
       "    </tr>\n",
       "    <tr>\n",
       "      <th>5503</th>\n",
       "      <td>bank_deposit</td>\n",
       "      <td>2022-07-18</td>\n",
       "      <td>bank_transaction</td>\n",
       "      <td>8196.08</td>\n",
       "      <td>False</td>\n",
       "      <td>False</td>\n",
       "      <td>none</td>\n",
       "      <td>False</td>\n",
       "      <td>True</td>\n",
       "      <td>9.749279e-01</td>\n",
       "      <td>-0.222521</td>\n",
       "      <td>-0.5</td>\n",
       "      <td>-0.866025</td>\n",
       "      <td>-0.280231</td>\n",
       "      <td>-0.959933</td>\n",
       "      <td>27404.51</td>\n",
       "      <td>12446.49</td>\n",
       "      <td>3632.80</td>\n",
       "      <td>14845.290000</td>\n",
       "      <td>11938.149286</td>\n",
       "    </tr>\n",
       "  </tbody>\n",
       "</table>\n",
       "</div>"
      ],
      "text/plain": [
       "           product transaction_date          category  transaction_amount  \\\n",
       "5499  bank_deposit       2022-07-14  bank_transaction             9296.13   \n",
       "5500  bank_deposit       2022-07-15  bank_transaction             7629.27   \n",
       "5501  bank_deposit       2022-07-16  bank_transaction            15412.51   \n",
       "5502  bank_deposit       2022-07-17  bank_transaction            27404.51   \n",
       "5503  bank_deposit       2022-07-18  bank_transaction             8196.08   \n",
       "\n",
       "      is_event  is_holiday event_type  pre_event_window  post_event_window  \\\n",
       "5499     False       False       none             False               True   \n",
       "5500     False        True       none             False               True   \n",
       "5501     False       False       none             False               True   \n",
       "5502     False       False       none             False               True   \n",
       "5503     False       False       none             False               True   \n",
       "\n",
       "      day_of_week_sin  day_of_week_cos  month_sin  month_cos  day_of_year_sin  \\\n",
       "5499    -9.749279e-01        -0.222521       -0.5  -0.866025        -0.213521   \n",
       "5500    -7.818315e-01         0.623490       -0.5  -0.866025        -0.230306   \n",
       "5501    -2.449294e-16         1.000000       -0.5  -0.866025        -0.247022   \n",
       "5502     7.818315e-01         0.623490       -0.5  -0.866025        -0.263665   \n",
       "5503     9.749279e-01        -0.222521       -0.5  -0.866025        -0.280231   \n",
       "\n",
       "      day_of_year_cos     lag_1     lag_7    lag_14  rolling_mean_7  \\\n",
       "5499        -0.976938  22777.23   7994.07  68514.51    12919.087143   \n",
       "5500        -0.973118   9296.13  13248.82  12943.70    13105.095714   \n",
       "5501        -0.969010   7629.27  10563.20  22524.48    12302.302857   \n",
       "5502        -0.964614  15412.51  14452.91  10809.77    12995.061429   \n",
       "5503        -0.959933  27404.51  12446.49   3632.80    14845.290000   \n",
       "\n",
       "      rolling_mean_14  \n",
       "5499     15870.295000  \n",
       "5500     11640.410714  \n",
       "5501     11260.808571  \n",
       "5502     10752.810714  \n",
       "5503     11938.149286  "
      ]
     },
     "execution_count": 266,
     "metadata": {},
     "output_type": "execute_result"
    }
   ],
   "source": [
    "train_df.head()"
   ]
  },
  {
   "cell_type": "markdown",
   "id": "580e0df0",
   "metadata": {},
   "source": [
    "### 4.1.1 Encoding the categorical features using Target Encoding and One-Hot Encoding"
   ]
  },
  {
   "cell_type": "code",
   "execution_count": 267,
   "id": "7845e0ad",
   "metadata": {},
   "outputs": [],
   "source": [
    "# train_df.drop(columns=['transaction_date'], inplace=True)\n",
    "# test_df.drop(columns=['transaction_date'], inplace=True)"
   ]
  },
  {
   "cell_type": "code",
   "execution_count": 268,
   "id": "08a78877",
   "metadata": {},
   "outputs": [
    {
     "name": "stderr",
     "output_type": "stream",
     "text": [
      "C:\\Users\\JARVIS\\AppData\\Local\\Temp\\ipykernel_10236\\405799129.py:13: FutureWarning: A value is trying to be set on a copy of a DataFrame or Series through chained assignment using an inplace method.\n",
      "The behavior will change in pandas 3.0. This inplace method will never work because the intermediate object on which we are setting values always behaves as a copy.\n",
      "\n",
      "For example, when doing 'df[col].method(value, inplace=True)', try using 'df.method({col: value}, inplace=True)' or df[col] = df[col].method(value) instead, to perform the operation inplace on the original object.\n",
      "\n",
      "\n",
      "  test_df['product'].fillna(global_mean, inplace=True)\n"
     ]
    }
   ],
   "source": [
    "# Step 1: Compute mean target value per category (from training data only)\n",
    "product_target_mean = train_df.groupby('product')['transaction_amount'].mean()\n",
    "category_target_mean = train_df.groupby('category')['transaction_amount'].mean()\n",
    "\n",
    "# Step 2: Map encoded values to both train and test sets\n",
    "train_df['product'] = train_df['product'].map(product_target_mean)\n",
    "test_df['product'] = test_df['product'].map(product_target_mean)\n",
    "train_df['category'] = train_df['category'].map(category_target_mean)\n",
    "test_df['category'] = test_df['category'].map(category_target_mean)\n",
    "\n",
    "# Step 3 (optional): Fill NaNs in test set (in case unseen categories exist)\n",
    "global_mean = train_df['transaction_amount'].mean()\n",
    "test_df['product'].fillna(global_mean, inplace=True)\n"
   ]
  },
  {
   "cell_type": "code",
   "execution_count": 269,
   "id": "e75c0d6d",
   "metadata": {},
   "outputs": [],
   "source": [
    "from sklearn.preprocessing import OneHotEncoder\n",
    "import pandas as pd\n",
    "\n",
    "# 2. Create and fit encoder\n",
    "encoder = OneHotEncoder(sparse_output=False, handle_unknown='ignore')\n",
    "encoder.fit(train_df[['event_type']])\n",
    "\n",
    "# 3. Transform both train and test\n",
    "train_encoded = encoder.transform(train_df[['event_type']])\n",
    "test_encoded = encoder.transform(test_df[['event_type']])\n",
    "\n",
    "# 4. Get encoded column names\n",
    "encoded_cols = encoder.get_feature_names_out(['event_type'])\n",
    "\n",
    "# 5. Convert to DataFrame\n",
    "train_encoded_df = pd.DataFrame(train_encoded, columns=encoded_cols, index=train_df.index)\n",
    "test_encoded_df = pd.DataFrame(test_encoded, columns=encoded_cols, index=test_df.index)\n",
    "\n",
    "# 6. Merge with original DataFrames\n",
    "train_df = pd.concat([train_df.drop(columns=['event_type']), train_encoded_df], axis=1)\n",
    "test_df = pd.concat([test_df.drop(columns=['event_type']), test_encoded_df], axis=1)\n"
   ]
  },
  {
   "cell_type": "code",
   "execution_count": 270,
   "id": "88ebfc53",
   "metadata": {},
   "outputs": [],
   "source": [
    "X_train = train_df.dropna(subset=['transaction_amount']).drop(columns=['transaction_amount', 'transaction_date'])\n",
    "X_test = test_df.dropna(subset=['transaction_amount']).drop(columns=['transaction_amount', 'transaction_date'])\n",
    "\n",
    "y_train = train_df['transaction_amount']\n",
    "y_test = test_df['transaction_amount']\n"
   ]
  },
  {
   "cell_type": "code",
   "execution_count": 271,
   "id": "c525e8b6",
   "metadata": {},
   "outputs": [
    {
     "name": "stdout",
     "output_type": "stream",
     "text": [
      "<class 'pandas.core.frame.DataFrame'>\n",
      "Index: 15092 entries, 5499 to 16238\n",
      "Data columns (total 22 columns):\n",
      " #   Column               Non-Null Count  Dtype         \n",
      "---  ------               --------------  -----         \n",
      " 0   product              15092 non-null  float64       \n",
      " 1   transaction_date     15092 non-null  datetime64[ns]\n",
      " 2   category             15092 non-null  float64       \n",
      " 3   transaction_amount   15092 non-null  float64       \n",
      " 4   is_event             15092 non-null  bool          \n",
      " 5   is_holiday           15092 non-null  bool          \n",
      " 6   pre_event_window     15092 non-null  bool          \n",
      " 7   post_event_window    15092 non-null  bool          \n",
      " 8   day_of_week_sin      15092 non-null  float64       \n",
      " 9   day_of_week_cos      15092 non-null  float64       \n",
      " 10  month_sin            15092 non-null  float64       \n",
      " 11  month_cos            15092 non-null  float64       \n",
      " 12  day_of_year_sin      15092 non-null  float64       \n",
      " 13  day_of_year_cos      15092 non-null  float64       \n",
      " 14  lag_1                15092 non-null  float64       \n",
      " 15  lag_7                15092 non-null  float64       \n",
      " 16  lag_14               15092 non-null  float64       \n",
      " 17  rolling_mean_7       15092 non-null  float64       \n",
      " 18  rolling_mean_14      15092 non-null  float64       \n",
      " 19  event_type_disaster  15092 non-null  float64       \n",
      " 20  event_type_festival  15092 non-null  float64       \n",
      " 21  event_type_none      15092 non-null  float64       \n",
      "dtypes: bool(4), datetime64[ns](1), float64(17)\n",
      "memory usage: 2.2 MB\n"
     ]
    }
   ],
   "source": [
    "train_df.info()"
   ]
  },
  {
   "cell_type": "markdown",
   "id": "bdca746f",
   "metadata": {},
   "source": [
    "# 5. Training the model"
   ]
  },
  {
   "cell_type": "code",
   "execution_count": 272,
   "id": "65970b3b",
   "metadata": {},
   "outputs": [
    {
     "name": "stdout",
     "output_type": "stream",
     "text": [
      "<class 'pandas.core.frame.DataFrame'>\n",
      "Index: 15092 entries, 5499 to 16238\n",
      "Data columns (total 22 columns):\n",
      " #   Column               Non-Null Count  Dtype         \n",
      "---  ------               --------------  -----         \n",
      " 0   product              15092 non-null  float64       \n",
      " 1   transaction_date     15092 non-null  datetime64[ns]\n",
      " 2   category             15092 non-null  float64       \n",
      " 3   transaction_amount   15092 non-null  float64       \n",
      " 4   is_event             15092 non-null  bool          \n",
      " 5   is_holiday           15092 non-null  bool          \n",
      " 6   pre_event_window     15092 non-null  bool          \n",
      " 7   post_event_window    15092 non-null  bool          \n",
      " 8   day_of_week_sin      15092 non-null  float64       \n",
      " 9   day_of_week_cos      15092 non-null  float64       \n",
      " 10  month_sin            15092 non-null  float64       \n",
      " 11  month_cos            15092 non-null  float64       \n",
      " 12  day_of_year_sin      15092 non-null  float64       \n",
      " 13  day_of_year_cos      15092 non-null  float64       \n",
      " 14  lag_1                15092 non-null  float64       \n",
      " 15  lag_7                15092 non-null  float64       \n",
      " 16  lag_14               15092 non-null  float64       \n",
      " 17  rolling_mean_7       15092 non-null  float64       \n",
      " 18  rolling_mean_14      15092 non-null  float64       \n",
      " 19  event_type_disaster  15092 non-null  float64       \n",
      " 20  event_type_festival  15092 non-null  float64       \n",
      " 21  event_type_none      15092 non-null  float64       \n",
      "dtypes: bool(4), datetime64[ns](1), float64(17)\n",
      "memory usage: 2.2 MB\n"
     ]
    }
   ],
   "source": [
    "train_df.info()"
   ]
  },
  {
   "cell_type": "code",
   "execution_count": 273,
   "id": "fbebf58b",
   "metadata": {},
   "outputs": [
    {
     "data": {
      "text/html": [
       "<div>\n",
       "<style scoped>\n",
       "    .dataframe tbody tr th:only-of-type {\n",
       "        vertical-align: middle;\n",
       "    }\n",
       "\n",
       "    .dataframe tbody tr th {\n",
       "        vertical-align: top;\n",
       "    }\n",
       "\n",
       "    .dataframe thead th {\n",
       "        text-align: right;\n",
       "    }\n",
       "</style>\n",
       "<table border=\"1\" class=\"dataframe\">\n",
       "  <thead>\n",
       "    <tr style=\"text-align: right;\">\n",
       "      <th></th>\n",
       "      <th>product</th>\n",
       "      <th>transaction_date</th>\n",
       "      <th>category</th>\n",
       "      <th>transaction_amount</th>\n",
       "      <th>is_event</th>\n",
       "      <th>is_holiday</th>\n",
       "      <th>pre_event_window</th>\n",
       "      <th>post_event_window</th>\n",
       "      <th>day_of_week_sin</th>\n",
       "      <th>day_of_week_cos</th>\n",
       "      <th>...</th>\n",
       "      <th>day_of_year_sin</th>\n",
       "      <th>day_of_year_cos</th>\n",
       "      <th>lag_1</th>\n",
       "      <th>lag_7</th>\n",
       "      <th>lag_14</th>\n",
       "      <th>rolling_mean_7</th>\n",
       "      <th>rolling_mean_14</th>\n",
       "      <th>event_type_disaster</th>\n",
       "      <th>event_type_festival</th>\n",
       "      <th>event_type_none</th>\n",
       "    </tr>\n",
       "  </thead>\n",
       "  <tbody>\n",
       "    <tr>\n",
       "      <th>5499</th>\n",
       "      <td>14678.482859</td>\n",
       "      <td>2022-07-14</td>\n",
       "      <td>14404.985939</td>\n",
       "      <td>9296.13</td>\n",
       "      <td>False</td>\n",
       "      <td>False</td>\n",
       "      <td>False</td>\n",
       "      <td>True</td>\n",
       "      <td>-9.749279e-01</td>\n",
       "      <td>-0.222521</td>\n",
       "      <td>...</td>\n",
       "      <td>-0.213521</td>\n",
       "      <td>-0.976938</td>\n",
       "      <td>22777.23</td>\n",
       "      <td>7994.07</td>\n",
       "      <td>68514.51</td>\n",
       "      <td>12919.087143</td>\n",
       "      <td>15870.295000</td>\n",
       "      <td>0.0</td>\n",
       "      <td>0.0</td>\n",
       "      <td>1.0</td>\n",
       "    </tr>\n",
       "    <tr>\n",
       "      <th>5500</th>\n",
       "      <td>14678.482859</td>\n",
       "      <td>2022-07-15</td>\n",
       "      <td>14404.985939</td>\n",
       "      <td>7629.27</td>\n",
       "      <td>False</td>\n",
       "      <td>True</td>\n",
       "      <td>False</td>\n",
       "      <td>True</td>\n",
       "      <td>-7.818315e-01</td>\n",
       "      <td>0.623490</td>\n",
       "      <td>...</td>\n",
       "      <td>-0.230306</td>\n",
       "      <td>-0.973118</td>\n",
       "      <td>9296.13</td>\n",
       "      <td>13248.82</td>\n",
       "      <td>12943.70</td>\n",
       "      <td>13105.095714</td>\n",
       "      <td>11640.410714</td>\n",
       "      <td>0.0</td>\n",
       "      <td>0.0</td>\n",
       "      <td>1.0</td>\n",
       "    </tr>\n",
       "    <tr>\n",
       "      <th>5501</th>\n",
       "      <td>14678.482859</td>\n",
       "      <td>2022-07-16</td>\n",
       "      <td>14404.985939</td>\n",
       "      <td>15412.51</td>\n",
       "      <td>False</td>\n",
       "      <td>False</td>\n",
       "      <td>False</td>\n",
       "      <td>True</td>\n",
       "      <td>-2.449294e-16</td>\n",
       "      <td>1.000000</td>\n",
       "      <td>...</td>\n",
       "      <td>-0.247022</td>\n",
       "      <td>-0.969010</td>\n",
       "      <td>7629.27</td>\n",
       "      <td>10563.20</td>\n",
       "      <td>22524.48</td>\n",
       "      <td>12302.302857</td>\n",
       "      <td>11260.808571</td>\n",
       "      <td>0.0</td>\n",
       "      <td>0.0</td>\n",
       "      <td>1.0</td>\n",
       "    </tr>\n",
       "    <tr>\n",
       "      <th>5502</th>\n",
       "      <td>14678.482859</td>\n",
       "      <td>2022-07-17</td>\n",
       "      <td>14404.985939</td>\n",
       "      <td>27404.51</td>\n",
       "      <td>False</td>\n",
       "      <td>False</td>\n",
       "      <td>False</td>\n",
       "      <td>True</td>\n",
       "      <td>7.818315e-01</td>\n",
       "      <td>0.623490</td>\n",
       "      <td>...</td>\n",
       "      <td>-0.263665</td>\n",
       "      <td>-0.964614</td>\n",
       "      <td>15412.51</td>\n",
       "      <td>14452.91</td>\n",
       "      <td>10809.77</td>\n",
       "      <td>12995.061429</td>\n",
       "      <td>10752.810714</td>\n",
       "      <td>0.0</td>\n",
       "      <td>0.0</td>\n",
       "      <td>1.0</td>\n",
       "    </tr>\n",
       "    <tr>\n",
       "      <th>5503</th>\n",
       "      <td>14678.482859</td>\n",
       "      <td>2022-07-18</td>\n",
       "      <td>14404.985939</td>\n",
       "      <td>8196.08</td>\n",
       "      <td>False</td>\n",
       "      <td>False</td>\n",
       "      <td>False</td>\n",
       "      <td>True</td>\n",
       "      <td>9.749279e-01</td>\n",
       "      <td>-0.222521</td>\n",
       "      <td>...</td>\n",
       "      <td>-0.280231</td>\n",
       "      <td>-0.959933</td>\n",
       "      <td>27404.51</td>\n",
       "      <td>12446.49</td>\n",
       "      <td>3632.80</td>\n",
       "      <td>14845.290000</td>\n",
       "      <td>11938.149286</td>\n",
       "      <td>0.0</td>\n",
       "      <td>0.0</td>\n",
       "      <td>1.0</td>\n",
       "    </tr>\n",
       "  </tbody>\n",
       "</table>\n",
       "<p>5 rows × 22 columns</p>\n",
       "</div>"
      ],
      "text/plain": [
       "           product transaction_date      category  transaction_amount  \\\n",
       "5499  14678.482859       2022-07-14  14404.985939             9296.13   \n",
       "5500  14678.482859       2022-07-15  14404.985939             7629.27   \n",
       "5501  14678.482859       2022-07-16  14404.985939            15412.51   \n",
       "5502  14678.482859       2022-07-17  14404.985939            27404.51   \n",
       "5503  14678.482859       2022-07-18  14404.985939             8196.08   \n",
       "\n",
       "      is_event  is_holiday  pre_event_window  post_event_window  \\\n",
       "5499     False       False             False               True   \n",
       "5500     False        True             False               True   \n",
       "5501     False       False             False               True   \n",
       "5502     False       False             False               True   \n",
       "5503     False       False             False               True   \n",
       "\n",
       "      day_of_week_sin  day_of_week_cos  ...  day_of_year_sin  day_of_year_cos  \\\n",
       "5499    -9.749279e-01        -0.222521  ...        -0.213521        -0.976938   \n",
       "5500    -7.818315e-01         0.623490  ...        -0.230306        -0.973118   \n",
       "5501    -2.449294e-16         1.000000  ...        -0.247022        -0.969010   \n",
       "5502     7.818315e-01         0.623490  ...        -0.263665        -0.964614   \n",
       "5503     9.749279e-01        -0.222521  ...        -0.280231        -0.959933   \n",
       "\n",
       "         lag_1     lag_7    lag_14  rolling_mean_7  rolling_mean_14  \\\n",
       "5499  22777.23   7994.07  68514.51    12919.087143     15870.295000   \n",
       "5500   9296.13  13248.82  12943.70    13105.095714     11640.410714   \n",
       "5501   7629.27  10563.20  22524.48    12302.302857     11260.808571   \n",
       "5502  15412.51  14452.91  10809.77    12995.061429     10752.810714   \n",
       "5503  27404.51  12446.49   3632.80    14845.290000     11938.149286   \n",
       "\n",
       "      event_type_disaster  event_type_festival  event_type_none  \n",
       "5499                  0.0                  0.0              1.0  \n",
       "5500                  0.0                  0.0              1.0  \n",
       "5501                  0.0                  0.0              1.0  \n",
       "5502                  0.0                  0.0              1.0  \n",
       "5503                  0.0                  0.0              1.0  \n",
       "\n",
       "[5 rows x 22 columns]"
      ]
     },
     "execution_count": 273,
     "metadata": {},
     "output_type": "execute_result"
    }
   ],
   "source": [
    "train_df.head()"
   ]
  },
  {
   "cell_type": "code",
   "execution_count": 274,
   "id": "b9087ab6",
   "metadata": {},
   "outputs": [
    {
     "data": {
      "text/html": [
       "<div>\n",
       "<style scoped>\n",
       "    .dataframe tbody tr th:only-of-type {\n",
       "        vertical-align: middle;\n",
       "    }\n",
       "\n",
       "    .dataframe tbody tr th {\n",
       "        vertical-align: top;\n",
       "    }\n",
       "\n",
       "    .dataframe thead th {\n",
       "        text-align: right;\n",
       "    }\n",
       "</style>\n",
       "<table border=\"1\" class=\"dataframe\">\n",
       "  <thead>\n",
       "    <tr style=\"text-align: right;\">\n",
       "      <th></th>\n",
       "      <th>product</th>\n",
       "      <th>category</th>\n",
       "      <th>is_event</th>\n",
       "      <th>is_holiday</th>\n",
       "      <th>pre_event_window</th>\n",
       "      <th>post_event_window</th>\n",
       "      <th>day_of_week_sin</th>\n",
       "      <th>day_of_week_cos</th>\n",
       "      <th>month_sin</th>\n",
       "      <th>month_cos</th>\n",
       "      <th>day_of_year_sin</th>\n",
       "      <th>day_of_year_cos</th>\n",
       "      <th>lag_1</th>\n",
       "      <th>lag_7</th>\n",
       "      <th>lag_14</th>\n",
       "      <th>rolling_mean_7</th>\n",
       "      <th>rolling_mean_14</th>\n",
       "      <th>event_type_disaster</th>\n",
       "      <th>event_type_festival</th>\n",
       "      <th>event_type_none</th>\n",
       "    </tr>\n",
       "  </thead>\n",
       "  <tbody>\n",
       "    <tr>\n",
       "      <th>5499</th>\n",
       "      <td>14678.482859</td>\n",
       "      <td>14404.985939</td>\n",
       "      <td>False</td>\n",
       "      <td>False</td>\n",
       "      <td>False</td>\n",
       "      <td>True</td>\n",
       "      <td>-9.749279e-01</td>\n",
       "      <td>-0.222521</td>\n",
       "      <td>-0.5</td>\n",
       "      <td>-0.866025</td>\n",
       "      <td>-0.213521</td>\n",
       "      <td>-0.976938</td>\n",
       "      <td>22777.23</td>\n",
       "      <td>7994.07</td>\n",
       "      <td>68514.51</td>\n",
       "      <td>12919.087143</td>\n",
       "      <td>15870.295000</td>\n",
       "      <td>0.0</td>\n",
       "      <td>0.0</td>\n",
       "      <td>1.0</td>\n",
       "    </tr>\n",
       "    <tr>\n",
       "      <th>5500</th>\n",
       "      <td>14678.482859</td>\n",
       "      <td>14404.985939</td>\n",
       "      <td>False</td>\n",
       "      <td>True</td>\n",
       "      <td>False</td>\n",
       "      <td>True</td>\n",
       "      <td>-7.818315e-01</td>\n",
       "      <td>0.623490</td>\n",
       "      <td>-0.5</td>\n",
       "      <td>-0.866025</td>\n",
       "      <td>-0.230306</td>\n",
       "      <td>-0.973118</td>\n",
       "      <td>9296.13</td>\n",
       "      <td>13248.82</td>\n",
       "      <td>12943.70</td>\n",
       "      <td>13105.095714</td>\n",
       "      <td>11640.410714</td>\n",
       "      <td>0.0</td>\n",
       "      <td>0.0</td>\n",
       "      <td>1.0</td>\n",
       "    </tr>\n",
       "    <tr>\n",
       "      <th>5501</th>\n",
       "      <td>14678.482859</td>\n",
       "      <td>14404.985939</td>\n",
       "      <td>False</td>\n",
       "      <td>False</td>\n",
       "      <td>False</td>\n",
       "      <td>True</td>\n",
       "      <td>-2.449294e-16</td>\n",
       "      <td>1.000000</td>\n",
       "      <td>-0.5</td>\n",
       "      <td>-0.866025</td>\n",
       "      <td>-0.247022</td>\n",
       "      <td>-0.969010</td>\n",
       "      <td>7629.27</td>\n",
       "      <td>10563.20</td>\n",
       "      <td>22524.48</td>\n",
       "      <td>12302.302857</td>\n",
       "      <td>11260.808571</td>\n",
       "      <td>0.0</td>\n",
       "      <td>0.0</td>\n",
       "      <td>1.0</td>\n",
       "    </tr>\n",
       "    <tr>\n",
       "      <th>5502</th>\n",
       "      <td>14678.482859</td>\n",
       "      <td>14404.985939</td>\n",
       "      <td>False</td>\n",
       "      <td>False</td>\n",
       "      <td>False</td>\n",
       "      <td>True</td>\n",
       "      <td>7.818315e-01</td>\n",
       "      <td>0.623490</td>\n",
       "      <td>-0.5</td>\n",
       "      <td>-0.866025</td>\n",
       "      <td>-0.263665</td>\n",
       "      <td>-0.964614</td>\n",
       "      <td>15412.51</td>\n",
       "      <td>14452.91</td>\n",
       "      <td>10809.77</td>\n",
       "      <td>12995.061429</td>\n",
       "      <td>10752.810714</td>\n",
       "      <td>0.0</td>\n",
       "      <td>0.0</td>\n",
       "      <td>1.0</td>\n",
       "    </tr>\n",
       "    <tr>\n",
       "      <th>5503</th>\n",
       "      <td>14678.482859</td>\n",
       "      <td>14404.985939</td>\n",
       "      <td>False</td>\n",
       "      <td>False</td>\n",
       "      <td>False</td>\n",
       "      <td>True</td>\n",
       "      <td>9.749279e-01</td>\n",
       "      <td>-0.222521</td>\n",
       "      <td>-0.5</td>\n",
       "      <td>-0.866025</td>\n",
       "      <td>-0.280231</td>\n",
       "      <td>-0.959933</td>\n",
       "      <td>27404.51</td>\n",
       "      <td>12446.49</td>\n",
       "      <td>3632.80</td>\n",
       "      <td>14845.290000</td>\n",
       "      <td>11938.149286</td>\n",
       "      <td>0.0</td>\n",
       "      <td>0.0</td>\n",
       "      <td>1.0</td>\n",
       "    </tr>\n",
       "  </tbody>\n",
       "</table>\n",
       "</div>"
      ],
      "text/plain": [
       "           product      category  is_event  is_holiday  pre_event_window  \\\n",
       "5499  14678.482859  14404.985939     False       False             False   \n",
       "5500  14678.482859  14404.985939     False        True             False   \n",
       "5501  14678.482859  14404.985939     False       False             False   \n",
       "5502  14678.482859  14404.985939     False       False             False   \n",
       "5503  14678.482859  14404.985939     False       False             False   \n",
       "\n",
       "      post_event_window  day_of_week_sin  day_of_week_cos  month_sin  \\\n",
       "5499               True    -9.749279e-01        -0.222521       -0.5   \n",
       "5500               True    -7.818315e-01         0.623490       -0.5   \n",
       "5501               True    -2.449294e-16         1.000000       -0.5   \n",
       "5502               True     7.818315e-01         0.623490       -0.5   \n",
       "5503               True     9.749279e-01        -0.222521       -0.5   \n",
       "\n",
       "      month_cos  day_of_year_sin  day_of_year_cos     lag_1     lag_7  \\\n",
       "5499  -0.866025        -0.213521        -0.976938  22777.23   7994.07   \n",
       "5500  -0.866025        -0.230306        -0.973118   9296.13  13248.82   \n",
       "5501  -0.866025        -0.247022        -0.969010   7629.27  10563.20   \n",
       "5502  -0.866025        -0.263665        -0.964614  15412.51  14452.91   \n",
       "5503  -0.866025        -0.280231        -0.959933  27404.51  12446.49   \n",
       "\n",
       "        lag_14  rolling_mean_7  rolling_mean_14  event_type_disaster  \\\n",
       "5499  68514.51    12919.087143     15870.295000                  0.0   \n",
       "5500  12943.70    13105.095714     11640.410714                  0.0   \n",
       "5501  22524.48    12302.302857     11260.808571                  0.0   \n",
       "5502  10809.77    12995.061429     10752.810714                  0.0   \n",
       "5503   3632.80    14845.290000     11938.149286                  0.0   \n",
       "\n",
       "      event_type_festival  event_type_none  \n",
       "5499                  0.0              1.0  \n",
       "5500                  0.0              1.0  \n",
       "5501                  0.0              1.0  \n",
       "5502                  0.0              1.0  \n",
       "5503                  0.0              1.0  "
      ]
     },
     "execution_count": 274,
     "metadata": {},
     "output_type": "execute_result"
    }
   ],
   "source": [
    "X_train.head()"
   ]
  },
  {
   "cell_type": "code",
   "execution_count": 275,
   "id": "4e892e02",
   "metadata": {},
   "outputs": [],
   "source": [
    "from xgboost import XGBRegressor\n",
    "\n",
    "# Train\n",
    "model_xgb = XGBRegressor(n_estimators=100)\n",
    "model_xgb.fit(X_train, y_train)\n",
    "\n",
    "# Predict\n",
    "y_pred = model_xgb.predict(X_test)"
   ]
  },
  {
   "cell_type": "markdown",
   "id": "89521c5e",
   "metadata": {},
   "source": [
    "# 6. Evaluation"
   ]
  },
  {
   "cell_type": "code",
   "execution_count": 276,
   "id": "bdec4b39",
   "metadata": {},
   "outputs": [
    {
     "name": "stdout",
     "output_type": "stream",
     "text": [
      "<class 'pandas.core.frame.DataFrame'>\n",
      "Index: 15092 entries, 5499 to 16238\n",
      "Data columns (total 22 columns):\n",
      " #   Column               Non-Null Count  Dtype         \n",
      "---  ------               --------------  -----         \n",
      " 0   product              15092 non-null  float64       \n",
      " 1   transaction_date     15092 non-null  datetime64[ns]\n",
      " 2   category             15092 non-null  float64       \n",
      " 3   transaction_amount   15092 non-null  float64       \n",
      " 4   is_event             15092 non-null  bool          \n",
      " 5   is_holiday           15092 non-null  bool          \n",
      " 6   pre_event_window     15092 non-null  bool          \n",
      " 7   post_event_window    15092 non-null  bool          \n",
      " 8   day_of_week_sin      15092 non-null  float64       \n",
      " 9   day_of_week_cos      15092 non-null  float64       \n",
      " 10  month_sin            15092 non-null  float64       \n",
      " 11  month_cos            15092 non-null  float64       \n",
      " 12  day_of_year_sin      15092 non-null  float64       \n",
      " 13  day_of_year_cos      15092 non-null  float64       \n",
      " 14  lag_1                15092 non-null  float64       \n",
      " 15  lag_7                15092 non-null  float64       \n",
      " 16  lag_14               15092 non-null  float64       \n",
      " 17  rolling_mean_7       15092 non-null  float64       \n",
      " 18  rolling_mean_14      15092 non-null  float64       \n",
      " 19  event_type_disaster  15092 non-null  float64       \n",
      " 20  event_type_festival  15092 non-null  float64       \n",
      " 21  event_type_none      15092 non-null  float64       \n",
      "dtypes: bool(4), datetime64[ns](1), float64(17)\n",
      "memory usage: 2.2 MB\n"
     ]
    }
   ],
   "source": [
    "train_df.info()"
   ]
  },
  {
   "cell_type": "code",
   "execution_count": 277,
   "id": "90b6103e",
   "metadata": {},
   "outputs": [
    {
     "name": "stdout",
     "output_type": "stream",
     "text": [
      "MAE: 6610.1960094856095\n",
      "R-squared: 0.6788472230540465\n",
      "MAPE: 1.1060197673439243\n"
     ]
    }
   ],
   "source": [
    "from sklearn.metrics import mean_absolute_error, r2_score, mean_absolute_percentage_error\n",
    "\n",
    "mae_xgb = mean_absolute_error(y_test, y_pred)\n",
    "print(\"MAE:\", mae_xgb)\n",
    "\n",
    "r2_xgb = r2_score(y_test, y_pred)\n",
    "print(\"R-squared:\", r2_xgb)\n",
    "\n",
    "mape_xgb = mean_absolute_percentage_error(y_test, y_pred)\n",
    "print(\"MAPE:\", mape_xgb)"
   ]
  },
  {
   "cell_type": "markdown",
   "id": "69acbbbb",
   "metadata": {},
   "source": [
    "# 7. Forecasting"
   ]
  },
  {
   "cell_type": "code",
   "execution_count": 278,
   "id": "1c65c75b",
   "metadata": {},
   "outputs": [],
   "source": [
    "_transaction_df = None  # cache in memory\n",
    "\n",
    "\n",
    "def load_transaction_data(refresh=False) -> pd.DataFrame:\n",
    "    global _transaction_df\n",
    "\n",
    "    if _transaction_df is None or refresh:\n",
    "        df = pd.read_csv('../../project/data/synthetic_data_v5.csv')  # or query DB\n",
    "        df['transaction_date'] = pd.to_datetime(df['transaction_date'], dayfirst=True)\n",
    "        df['category'] = df['category'].astype(str)\n",
    "        df['product'] = df['product'].astype(str)\n",
    "        _transaction_df = df\n",
    "\n",
    "    return _transaction_df.copy()\n",
    "\n",
    "\n",
    "def get_past_days_data_product(category_name, product_name, past_days=30):\n",
    "    today = datetime.today()\n",
    "    start_date = today - timedelta(days=past_days + 1)\n",
    "    end_date = today - timedelta(days=1)\n",
    "    df = load_transaction_data()\n",
    "    df = df[(df['category'] == category_name) & (df['product'] == product_name)]\n",
    "    df = df[df['transaction_date'].between(start_date, end_date)]\n",
    "\n",
    "    aggregated_df = df.groupby([\"transaction_date\"]).agg(\n",
    "        transaction_count=(\"amount\", \"count\"),\n",
    "        transaction_amount=(\"amount\", \"sum\")\n",
    "    ).reset_index()\n",
    "\n",
    "    # Reindex to include all date-category pairs\n",
    "    aggregated_df = aggregated_df.set_index('transaction_date').asfreq('D', fill_value=0)\n",
    "\n",
    "    # Reset index for further processing\n",
    "    aggregated_df = aggregated_df.reset_index()\n",
    "\n",
    "    return aggregated_df\n",
    "\n",
    "\n"
   ]
  },
  {
   "cell_type": "code",
   "execution_count": 279,
   "id": "59616a54",
   "metadata": {},
   "outputs": [
    {
     "data": {
      "text/plain": [
       "Index(['product', 'category', 'is_event', 'is_holiday', 'pre_event_window',\n",
       "       'post_event_window', 'day_of_week_sin', 'day_of_week_cos', 'month_sin',\n",
       "       'month_cos', 'day_of_year_sin', 'day_of_year_cos', 'lag_1', 'lag_7',\n",
       "       'lag_14', 'rolling_mean_7', 'rolling_mean_14', 'event_type_disaster',\n",
       "       'event_type_festival', 'event_type_none'],\n",
       "      dtype='object')"
      ]
     },
     "execution_count": 279,
     "metadata": {},
     "output_type": "execute_result"
    }
   ],
   "source": [
    "X_train.columns"
   ]
  },
  {
   "cell_type": "code",
   "execution_count": 280,
   "id": "8793e418",
   "metadata": {},
   "outputs": [],
   "source": [
    "import pandas as pd\n",
    "import numpy as np\n",
    "from datetime import timedelta, datetime\n",
    "import requests\n",
    "\n",
    "features = [\n",
    "       'product', 'category', 'is_event', 'is_holiday', 'pre_event_window',\n",
    "       'post_event_window', 'day_of_week_sin', 'day_of_week_cos', 'month_sin',\n",
    "       'month_cos', 'day_of_year_sin', 'day_of_year_cos', 'lag_1', 'lag_7',\n",
    "       'lag_14', 'rolling_mean_7', 'rolling_mean_14', 'event_type_disaster',\n",
    "       'event_type_festival', 'event_type_none'\n",
    "       ]\n",
    "\n",
    "def forecast_next_7_days_product(category_name, product_name, model, aggregated_df, category_target_mean, product_target_mean, global_mean, target_col='transaction_amount'):\n",
    "    # Step 1: Filter past data for this category\n",
    "    aggregated_df.sort_values('transaction_date', inplace=True)\n",
    "    aggregated_df.reset_index(drop=True, inplace=True)\n",
    "\n",
    "    # Step 2: Prepare future dates\n",
    "    last_date = aggregated_df['transaction_date'].max() \n",
    "    future_dates = pd.to_datetime([last_date + timedelta(days=i+1) for i in range(7)])\n",
    "\n",
    "    forecasts = []\n",
    "    \n",
    "    for forecast_date in future_dates:\n",
    "        row = {}\n",
    "        row['transaction_date'] = forecast_date\n",
    "\n",
    "        # === Static Features ===\n",
    "        row['category'] = category_target_mean.get(category_name, global_mean)\n",
    "        row['product'] = product_target_mean.get(product_name, global_mean)\n",
    "\n",
    "        data = requests.get(f'http://127.0.0.1:8000/api/calender/info/{forecast_date}').json()\n",
    "        row['is_event'] = data.get('is_event', False)\n",
    "        row['is_holiday'] = data.get('is_holiday', False)\n",
    "        row['pre_event_window'] = data.get('pre_event_window', False)\n",
    "        row['post_event_window'] = data.get('post_event_window', False)\n",
    "\n",
    "        # === Cyclical Features ===\n",
    "        dow = forecast_date.weekday()  # Monday=0\n",
    "        row[\"day_of_week\"] = row[\"transaction_date\"].dayofweek\n",
    "        row[\"day_of_week\"] = ((row[\"day_of_week\"] + 1) % 7) + 1\n",
    "        row['day_of_week_sin'] = np.sin(2 * np.pi * dow / 7)\n",
    "        row['day_of_week_cos'] = np.cos(2 * np.pi * dow / 7)\n",
    "\n",
    "        month = forecast_date.month\n",
    "        row['month_sin'] = np.sin(2 * np.pi * month / 12)\n",
    "        row['month_cos'] = np.cos(2 * np.pi * month / 12)\n",
    "\n",
    "        day_of_year = forecast_date.dayofyear\n",
    "        row['day_of_year_sin'] = np.sin(2 * np.pi * day_of_year / 365)\n",
    "        row['day_of_year_cos'] = np.cos(2 * np.pi * day_of_year / 365)\n",
    "\n",
    "        # === One-hot Event Type ===\n",
    "        row['event_type_festival'] = data.get('event_type', 'none') == 'festival'\n",
    "        row['event_type_disaster'] = data.get('event_type', 'none') == 'disaster'\n",
    "        row['event_type_none'] = data.get('event_type', 'none') == 'none'\n",
    "\n",
    "        # === Lag and Rolling ===\n",
    "        # Make sure to handle missing lag values (e.g. beginning of series)\n",
    "        try:\n",
    "            row['lag_1'] = aggregated_df.iloc[-1][target_col]\n",
    "            row['lag_7'] = aggregated_df.iloc[-7][target_col] if len(aggregated_df) >= 7 else row['lag_1']\n",
    "            row['lag_14'] = aggregated_df.iloc[-14][target_col] if len(aggregated_df) >= 14 else row['lag_7']\n",
    "        except IndexError:\n",
    "            row['lag_1'] = row['lag_7'] = row['lag_14'] = aggregated_df[target_col].mean()\n",
    "\n",
    "        row['rolling_mean_7'] = aggregated_df[target_col].rolling(window=7).mean().iloc[-1] if len(df_cat) >= 7 else df_cat['transaction_amount'].mean()\n",
    "        row['rolling_mean_14'] = aggregated_df[target_col].rolling(window=14).mean().iloc[-1] if len(df_cat) >= 14 else df_cat['transaction_amount'].mean()\n",
    "\n",
    "        # Convert to DataFrame and predict\n",
    "        X = pd.DataFrame([row])\n",
    "        prediction = model.predict(X[features])[0]\n",
    "        row[target_col] = prediction\n",
    "\n",
    "        # Append to results\n",
    "        forecasts.append(row)\n",
    "\n",
    "        # Append to aggregated_df to maintain rolling window\n",
    "        aggregated_df = pd.concat([aggregated_df, pd.DataFrame({\n",
    "            'transaction_date': [forecast_date],\n",
    "            target_col: [prediction]\n",
    "        })], ignore_index=True)\n",
    "\n",
    "    return pd.DataFrame(forecasts)\n"
   ]
  },
  {
   "cell_type": "code",
   "execution_count": 281,
   "id": "75b53526",
   "metadata": {},
   "outputs": [
    {
     "name": "stdout",
     "output_type": "stream",
     "text": [
      "  transaction_date  transaction_amount\n",
      "0       2025-07-01        11018.980469\n",
      "1       2025-07-02        16071.501953\n",
      "2       2025-07-03        12598.985352\n",
      "3       2025-07-04        12456.318359\n",
      "4       2025-07-05        14042.414062\n",
      "5       2025-07-06        10978.396484\n",
      "6       2025-07-07        13859.316406\n"
     ]
    },
    {
     "name": "stderr",
     "output_type": "stream",
     "text": [
      "C:\\Users\\JARVIS\\AppData\\Local\\Temp\\ipykernel_10236\\777762402.py:9: UserWarning: Parsing dates in %Y-%m-%d format when dayfirst=True was specified. Pass `dayfirst=False` or specify a format to silence this warning.\n",
      "  df['transaction_date'] = pd.to_datetime(df['transaction_date'], dayfirst=True)\n"
     ]
    }
   ],
   "source": [
    "df_30 = get_past_days_data_product('topup','ntc_topup', past_days=30)\n",
    "\n",
    "forecast_df = forecast_next_7_days_product(\n",
    "    category_name='topup',\n",
    "    product_name='ntc_topup',\n",
    "    model=model_xgb,\n",
    "    aggregated_df=df_30,\n",
    "    category_target_mean=category_target_mean,\n",
    "    product_target_mean=product_target_mean,\n",
    "    global_mean=global_mean\n",
    ")\n",
    "print(forecast_df[['transaction_date', 'transaction_amount']])\n"
   ]
  },
  {
   "cell_type": "markdown",
   "id": "75b76bb9",
   "metadata": {},
   "source": [
    "# 8. Saving the model"
   ]
  },
  {
   "cell_type": "code",
   "execution_count": 282,
   "id": "72ed28e4",
   "metadata": {},
   "outputs": [],
   "source": [
    "import pickle\n",
    "\n",
    "with open('./models/xgb_model_product_amount.pkl', 'wb') as f:\n",
    "    data = {\n",
    "        'model': model_xgb,\n",
    "        'category_target_mean': category_target_mean,\n",
    "        'product_target_mean': product_target_mean,\n",
    "        'global_mean': global_mean,\n",
    "    }\n",
    "    pickle.dump(data, f)"
   ]
  },
  {
   "cell_type": "code",
   "execution_count": null,
   "id": "5308da5c",
   "metadata": {},
   "outputs": [],
   "source": []
  }
 ],
 "metadata": {
  "kernelspec": {
   "display_name": "env_torch",
   "language": "python",
   "name": "python3"
  },
  "language_info": {
   "codemirror_mode": {
    "name": "ipython",
    "version": 3
   },
   "file_extension": ".py",
   "mimetype": "text/x-python",
   "name": "python",
   "nbconvert_exporter": "python",
   "pygments_lexer": "ipython3",
   "version": "3.12.3"
  }
 },
 "nbformat": 4,
 "nbformat_minor": 5
}
